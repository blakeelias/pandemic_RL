{
 "cells": [
  {
   "cell_type": "code",
   "execution_count": 1,
   "metadata": {},
   "outputs": [],
   "source": [
    "from main import main"
   ]
  },
  {
   "cell_type": "code",
   "execution_count": 2,
   "metadata": {},
   "outputs": [
    {
     "name": "stderr",
     "output_type": "stream",
     "text": [
      "No traceback available to show.\n"
     ]
    }
   ],
   "source": [
    "%tb"
   ]
  },
  {
   "cell_type": "code",
   "execution_count": null,
   "metadata": {},
   "outputs": [
    {
     "name": "stderr",
     "output_type": "stream",
     "text": [
      "  0%|          | 0/1 [00:00<?, ?it/s]\n",
      "  0%|          | 0/1112 [00:00<?, ?it/s]\u001b[A\n",
      "  0%|          | 2/1112 [00:00<01:40, 11.03it/s]\u001b[A"
     ]
    },
    {
     "name": "stdout",
     "output_type": "stream",
     "text": [
      "Computing transition probabilities\n"
     ]
    },
    {
     "name": "stderr",
     "output_type": "stream",
     "text": [
      "\n",
      "  0%|          | 4/1112 [00:00<01:40, 10.99it/s]\u001b[A\n",
      "  1%|          | 6/1112 [00:00<01:40, 11.03it/s]\u001b[A\n",
      "  1%|          | 8/1112 [00:00<01:39, 11.05it/s]\u001b[A\n",
      "  1%|          | 10/1112 [00:00<01:39, 11.09it/s]\u001b[A\n",
      "  1%|          | 11/1112 [00:01<01:46, 10.32it/s]\u001b[A\n",
      "  1%|          | 13/1112 [00:01<01:44, 10.54it/s]\u001b[A\n",
      "  1%|▏         | 15/1112 [00:01<01:43, 10.62it/s]\u001b[A\n",
      "  2%|▏         | 17/1112 [00:01<01:42, 10.70it/s]\u001b[A\n",
      "  2%|▏         | 19/1112 [00:01<01:42, 10.69it/s]\u001b[A\n",
      "  2%|▏         | 21/1112 [00:01<01:41, 10.75it/s]\u001b[A\n",
      "  2%|▏         | 23/1112 [00:02<01:40, 10.79it/s]\u001b[A\n",
      "  2%|▏         | 25/1112 [00:02<01:40, 10.84it/s]\u001b[A\n",
      "  2%|▏         | 27/1112 [00:02<01:40, 10.82it/s]\u001b[A\n",
      "  3%|▎         | 29/1112 [00:02<01:39, 10.85it/s]\u001b[A\n",
      "  3%|▎         | 31/1112 [00:02<01:39, 10.85it/s]\u001b[A\n",
      "  3%|▎         | 33/1112 [00:03<01:39, 10.88it/s]\u001b[A\n",
      "  3%|▎         | 35/1112 [00:03<01:38, 10.90it/s]\u001b[A\n",
      "  3%|▎         | 37/1112 [00:03<01:43, 10.41it/s]\u001b[A\n",
      "  4%|▎         | 39/1112 [00:03<01:41, 10.53it/s]\u001b[A\n",
      "  4%|▎         | 41/1112 [00:03<01:40, 10.61it/s]\u001b[A\n",
      "  4%|▍         | 43/1112 [00:03<01:39, 10.69it/s]\u001b[A\n",
      "  4%|▍         | 45/1112 [00:04<01:39, 10.75it/s]\u001b[A\n",
      "  4%|▍         | 47/1112 [00:04<01:38, 10.80it/s]\u001b[A\n",
      "  4%|▍         | 49/1112 [00:04<01:38, 10.81it/s]\u001b[A\n",
      "  5%|▍         | 51/1112 [00:04<01:38, 10.77it/s]\u001b[A\n"
     ]
    }
   ],
   "source": [
    "main(args={\n",
    "    'imported_cases_per_step_range': [2.0],\n",
    "    'powers': [1.0],\n",
    "    'extra_scale': [10.0/7],\n",
    "    'num_population': [100],\n",
    "})"
   ]
  },
  {
   "cell_type": "code",
   "execution_count": null,
   "metadata": {},
   "outputs": [],
   "source": [
    "%debug"
   ]
  },
  {
   "cell_type": "code",
   "execution_count": null,
   "metadata": {},
   "outputs": [],
   "source": [
    "import numpy as np\n",
    "np.arange(0, 10)"
   ]
  },
  {
   "cell_type": "code",
   "execution_count": null,
   "metadata": {},
   "outputs": [],
   "source": [
    "env.P"
   ]
  },
  {
   "cell_type": "markdown",
   "metadata": {},
   "source": [
    "# 3D plots"
   ]
  },
  {
   "cell_type": "code",
   "execution_count": null,
   "metadata": {},
   "outputs": [],
   "source": [
    "'''\n",
    "=================\n",
    "3D wireframe plot\n",
    "=================\n",
    "\n",
    "A very basic demonstration of a wireframe plot.\n",
    "'''\n",
    "\n",
    "from mpl_toolkits.mplot3d import axes3d\n",
    "import matplotlib.pyplot as plt\n",
    "\n",
    "\n",
    "fig = plt.figure()\n",
    "ax = fig.add_subplot(111, projection='3d')\n",
    "\n",
    "# Grab some test data.\n",
    "X, Y, Z = axes3d.get_test_data(0.05)\n",
    "\n",
    "# Plot a basic wireframe.\n",
    "ax.plot_wireframe(X, Y, Z, rstride=10, cstride=10)\n",
    "\n",
    "plt.show()\n"
   ]
  },
  {
   "cell_type": "code",
   "execution_count": null,
   "metadata": {},
   "outputs": [],
   "source": [
    "X.shape"
   ]
  },
  {
   "cell_type": "code",
   "execution_count": null,
   "metadata": {},
   "outputs": [],
   "source": [
    "Y.shape"
   ]
  },
  {
   "cell_type": "code",
   "execution_count": null,
   "metadata": {},
   "outputs": [],
   "source": [
    "Z.shape"
   ]
  },
  {
   "cell_type": "code",
   "execution_count": null,
   "metadata": {},
   "outputs": [],
   "source": [
    "X"
   ]
  },
  {
   "cell_type": "code",
   "execution_count": null,
   "metadata": {},
   "outputs": [],
   "source": [
    "Y"
   ]
  },
  {
   "cell_type": "code",
   "execution_count": null,
   "metadata": {},
   "outputs": [],
   "source": [
    "from einops import rearrange"
   ]
  },
  {
   "cell_type": "code",
   "execution_count": null,
   "metadata": {},
   "outputs": [],
   "source": [
    "X_ = rearrange(X, 'h w -> (h w)')\n",
    "Y_ = rearrange(Y, 'h w -> (h w)')\n",
    "Z_ = rearrange(Z, 'h w -> (h w)')"
   ]
  },
  {
   "cell_type": "code",
   "execution_count": null,
   "metadata": {},
   "outputs": [],
   "source": [
    "X_.shape"
   ]
  },
  {
   "cell_type": "code",
   "execution_count": null,
   "metadata": {},
   "outputs": [],
   "source": [
    "# Plot a basic wireframe.\n",
    "ax.plot_wireframe(X_, Y_, Z, rstride=10, cstride=10)\n",
    "\n",
    "plt.show()\n"
   ]
  },
  {
   "cell_type": "markdown",
   "metadata": {},
   "source": [
    "# Plot Value Function"
   ]
  },
  {
   "cell_type": "code",
   "execution_count": null,
   "metadata": {},
   "outputs": [],
   "source": [
    "state_to_value = {}\n",
    "\n",
    "for packed_state in env.states:\n",
    "    idx = env.state_to_idx[observation]\n",
    "    unpacked_state = env._unpack_state(packed_state)\n",
    "    state_to_value[unpacked_state] = V[idx]"
   ]
  },
  {
   "cell_type": "code",
   "execution_count": null,
   "metadata": {},
   "outputs": [],
   "source": [
    "import itertools\n",
    "import numpy as np\n",
    "from einops import rearrange\n",
    "\n",
    "rearrange(np.array(list(x[0] for x in itertools.product(range(10), range(20)))),\n",
    "          '(h w) -> h w',\n",
    "          h = 10)"
   ]
  },
  {
   "cell_type": "code",
   "execution_count": null,
   "metadata": {},
   "outputs": [],
   "source": []
  }
 ],
 "metadata": {
  "kernelspec": {
   "display_name": "Python 3",
   "language": "python",
   "name": "python3"
  },
  "language_info": {
   "codemirror_mode": {
    "name": "ipython",
    "version": 3
   },
   "file_extension": ".py",
   "mimetype": "text/x-python",
   "name": "python",
   "nbconvert_exporter": "python",
   "pygments_lexer": "ipython3",
   "version": "3.8.2"
  }
 },
 "nbformat": 4,
 "nbformat_minor": 4
}
