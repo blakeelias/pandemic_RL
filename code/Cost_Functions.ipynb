{
 "cells": [
  {
   "cell_type": "code",
   "execution_count": 1,
   "metadata": {},
   "outputs": [],
   "source": [
    "import itertools\n",
    "import math\n",
    "import pickle\n",
    "import json\n",
    "\n",
    "import numpy as np\n",
    "import seaborn as sns\n",
    "from tqdm import tqdm\n",
    "from scipy.stats import poisson\n",
    "import pandas as pd"
   ]
  },
  {
   "cell_type": "markdown",
   "metadata": {},
   "source": [
    "# Parameters"
   ]
  },
  {
   "cell_type": "code",
   "execution_count": 2,
   "metadata": {},
   "outputs": [],
   "source": [
    "initial_cases = 10\n",
    "\n",
    "# sweep over [0.0 - 1.0]  # based on travel rates\n",
    "imported_cases_per_step = .5  # really, there's a cost to setting this too, if we make it part of the action space\n",
    "imported_cases_per_step_range = np.arange(0.0, 1.0, 0.2)\n",
    "\n",
    "# .97 - .98\n",
    "# .97 ** (6*30 / 4) == 0.25\n",
    "# .98 ** (6*30 / 4) == 0.4\n",
    "#   --> credence assigned to NO vaccine in 6 months\n",
    "#        strikes balance of giving a fair chance of 6 month vaccine; while not giving high chance to vaccine in 2-months\n",
    "discount = 0.99\n",
    "\n",
    "# time step: ~4 days  (1 generation period)\n",
    "num_population = 1000"
   ]
  },
  {
   "cell_type": "code",
   "execution_count": 3,
   "metadata": {},
   "outputs": [
    {
     "data": {
      "text/plain": [
       "array([0. , 0.2, 0.4, 0.6, 0.8])"
      ]
     },
     "execution_count": 3,
     "metadata": {},
     "output_type": "execute_result"
    }
   ],
   "source": [
    "imported_cases_per_step_range"
   ]
  },
  {
   "cell_type": "code",
   "execution_count": 4,
   "metadata": {},
   "outputs": [],
   "source": [
    "# is this really a fair form? \n",
    "# wouldn't keeping everyone home for 6 weeks have some finite cost?\n",
    "\n",
    "# Cost of setting R\n",
    "R_0 = 2.5   # 2.8? #3?  look up; depends on the place\n",
    "\n",
    "# sweep:  [1, 3]\n",
    "power = 2\n",
    "power_range = np.arange(1.0, 3.0, 0.5)\n",
    "\n",
    "# average person's annual economic contribution: $50,000?\n",
    "economic_contribution_annual = 50000\n",
    "economic_contribution_2_weeks = economic_contribution_annual * 2.0 / 52\n",
    "cost_to_keep_half_home = num_population / 2 * economic_contribution_2_weeks\n",
    "\n",
    "# want: cost_of_r(R_0 / 4) == cost_to_keep_half_home\n",
    "# Better: how much economic loss has the US had, to keep R ~= 1\n",
    "# (1/((R_0/4)**power) - 1/(R_0 ** power)) * scale_factor == cost_to_keep_half_home\n",
    "# scale_factor = cost_to_keep_half_home / (1/((R_0/4)**power) - 1/(R_0 ** power))\n",
    "\n",
    "# population of 100,000:\n",
    "# R = 1 for 4 days  ~=  100 people getting sick (25 ppl / day * 4 days)\n",
    "# every 20 days: 500 people sick -> 5 person dead\n",
    "\n",
    "# cost_of_r(1.0) == cost_of_n(100) == cost of 1 death + other bad effects ?= $4,000,000\n",
    "# [1/(1 ** power) - 1/(R_0 ** power)] * scale_factor == 100\n",
    "# scale_factor = 100 / [1 - 1/(R_0 ** power)]\n",
    "\n",
    "scale_factor = 100\n",
    "scale_factor_range = [100, 500, 1000]\n",
    "\n",
    "def cost_of_r(r, power=power, scale_factor=100, **kwargs):\n",
    "    baseline = 1/(R_0 ** power)\n",
    "    actual = 1/(r ** power)\n",
    "    \n",
    "    # cost_to_keep_half_home / (1/((num_population/4)**power) - 1/(R_0 ** power))\n",
    "    \n",
    "    if r >= R_0:\n",
    "        return 0\n",
    "    else:\n",
    "        return (actual - baseline) * scale_factor"
   ]
  },
  {
   "cell_type": "code",
   "execution_count": 5,
   "metadata": {},
   "outputs": [
    {
     "name": "stdout",
     "output_type": "stream",
     "text": [
      "14\n",
      "[0.1 0.2 0.3 0.4 0.5 0.6 0.7 0.8 0.9 1.  1.1 1.5 2.  2.5]\n"
     ]
    },
    {
     "data": {
      "image/png": "[encoded data removed]",
      "text/plain": [
       "<Figure size 432x288 with 1 Axes>"
      ]
     },
     "metadata": {
      "needs_background": "light"
     },
     "output_type": "display_data"
    }
   ],
   "source": [
    "rs = np.array([0.1, 0.2, 0.3, 0.4, 0.5, 0.6, 0.7, 0.8, 0.9, 1.0, 1.1, 1.5, 2.0, 2.5])\n",
    "costs_of_r = [cost_of_r(r) for r in rs]\n",
    "sns.lineplot(x=rs, y=costs_of_r)\n",
    "actions = rs\n",
    "num_actions = len(actions)\n",
    "print(num_actions)\n",
    "print(actions)"
   ]
  },
  {
   "cell_type": "code",
   "execution_count": 6,
   "metadata": {},
   "outputs": [
    {
     "data": {
      "text/plain": [
       "0.21875"
      ]
     },
     "execution_count": 6,
     "metadata": {},
     "output_type": "execute_result"
    }
   ],
   "source": [
    "cost_of_r(1.0) / cost_of_r(0.5)"
   ]
  },
  {
   "cell_type": "code",
   "execution_count": 7,
   "metadata": {},
   "outputs": [],
   "source": [
    "# Cost of N (number of cases)\n",
    "# assume cost of someone getting sick is $40,000\n",
    "\n",
    "'''fraction_need_hospital = 0.04\n",
    "cost_per_hospital_visit = 50000\n",
    "cost_per_death = 1e6\n",
    "\n",
    "# cost_of_n(n) == n\n",
    "# cost_of_r(1.0) == cost_of_n(100) == 100\n",
    "\n",
    "hospital_capacity = 25 # 5% of population #  20000\n",
    "\n",
    "death_rate_hospital = 0.25\n",
    "death_rate_neglected = 0.9'''\n",
    "\n",
    "\n",
    "def cost_of_n(n, **kwargs):\n",
    "    if n <= 0:\n",
    "        return 0\n",
    "    else:\n",
    "        return n\n",
    "    \n",
    "    '''    num_need_hospital = n * fraction_need_hospital\n",
    "        num_hospital = min(num_need_hospital, hospital_capacity)\n",
    "        num_neglected = num_need_hospital - num_hospital\n",
    "        num_deaths = num_neglected * death_rate_neglected + num_hospital * death_rate_hospital\n",
    "        \n",
    "        return cost_per_hospital_visit * num_hospital + cost_per_death * num_deaths '''"
   ]
  },
  {
   "cell_type": "code",
   "execution_count": 8,
   "metadata": {},
   "outputs": [
    {
     "data": {
      "text/plain": [
       "297"
      ]
     },
     "execution_count": 8,
     "metadata": {},
     "output_type": "execute_result"
    },
    {
     "data": {
      "image/png": "[encoded data removed]",
      "text/plain": [
       "<Figure size 432x288 with 1 Axes>"
      ]
     },
     "metadata": {
      "needs_background": "light"
     },
     "output_type": "display_data"
    }
   ],
   "source": [
    "ns = sum([list(range(100*i, 100*(i+1), i+1)) for i in range(10)], []) + \\\n",
    "     [1_000]\n",
    "     #sum([list(range(1000*i, 1000*(i+1), (i+1)*10)) for i in range(1, 10)], []) + \\\n",
    "     #sum([list(range(10000*i, 10000*(i+1), (i+1)*100)) for i in range(1, 10)], []) + \\\n",
    "     \n",
    "# #list(range(num_population))\n",
    "costs_of_n = [cost_of_n(n) for n in ns]\n",
    "sns.lineplot(x=ns, y=costs_of_n)\n",
    "states = ns\n",
    "num_states = len(states)\n",
    "num_states"
   ]
  },
  {
   "cell_type": "code",
   "execution_count": 9,
   "metadata": {},
   "outputs": [
    {
     "data": {
      "text/plain": [
       "[(991, 295),\n",
       " (992, 295),\n",
       " (993, 295),\n",
       " (994, 295),\n",
       " (995, 295),\n",
       " (996, 295),\n",
       " (997, 295),\n",
       " (998, 295),\n",
       " (999, 295),\n",
       " (1000, 296)]"
      ]
     },
     "execution_count": 9,
     "metadata": {},
     "output_type": "execute_result"
    }
   ],
   "source": [
    "lookup = dict([(x, i) for i in range(num_states - 1) for x in range(states[i], states[i+1])] + [(num_population, len(states) - 1)])\n",
    "def bucket_state_index(new_state):\n",
    "    if new_state < 0:\n",
    "        raise Exception('Cannot have negative case count')\n",
    "    elif new_state in lookup:\n",
    "        return lookup[new_state]\n",
    "    else:\n",
    "        return lookup[num_population]\n",
    "list(lookup.items())[-10:]"
   ]
  },
  {
   "cell_type": "code",
   "execution_count": 10,
   "metadata": {},
   "outputs": [],
   "source": [
    "def find_nearest(array, value):\n",
    "    array = np.asarray(array)\n",
    "    idx = (np.abs(array - value)).argmin()\n",
    "    return array[idx]"
   ]
  },
  {
   "cell_type": "code",
   "execution_count": 11,
   "metadata": {},
   "outputs": [
    {
     "data": {
      "text/plain": [
       "1000"
      ]
     },
     "execution_count": 11,
     "metadata": {},
     "output_type": "execute_result"
    }
   ],
   "source": [
    "find_nearest(states, 2329)"
   ]
  },
  {
   "cell_type": "code",
   "execution_count": 12,
   "metadata": {},
   "outputs": [],
   "source": [
    "def expected_new_state(current_state, action, imported_cases_per_step=imported_cases_per_step, **kwargs):\n",
    "    r_effective = action\n",
    "    current_cases = current_state\n",
    "    \n",
    "    fraction_susceptible = 1 # (num_population - current_cases) / num_population\n",
    "    # TODO: may need better way to bound susceptible population,\n",
    "    # to account for immunity\n",
    "    # One option: fraction_susceptible = 1 always, and just bound new_state by num_population\n",
    "\n",
    "    # Better solution: keep track of how many people are susceptible NOW, based on some immunity time\n",
    "    expected_new_cases = (current_cases * r_effective) * fraction_susceptible + imported_cases_per_step\n",
    "\n",
    "    return expected_new_cases"
   ]
  },
  {
   "cell_type": "code",
   "execution_count": 13,
   "metadata": {},
   "outputs": [
    {
     "data": {
      "text/plain": [
       "4660.25"
      ]
     },
     "execution_count": 13,
     "metadata": {},
     "output_type": "execute_result"
    }
   ],
   "source": [
    "expected_new_state(2330, 2.0, imported_cases_per_step=0.25)"
   ]
  },
  {
   "cell_type": "code",
   "execution_count": 14,
   "metadata": {},
   "outputs": [],
   "source": [
    "def new_state_distribution(state, action, **kwargs):\n",
    "    lam = expected_new_state(state, action, **kwargs)\n",
    "    # TODO: change to negative binomial; look up constant in literature for COVID\n",
    "    return poisson(lam)"
   ]
  },
  {
   "cell_type": "code",
   "execution_count": 15,
   "metadata": {},
   "outputs": [
    {
     "data": {
      "text/plain": [
       "(4660.5, 4660.5, 4660.0)"
      ]
     },
     "execution_count": 15,
     "metadata": {},
     "output_type": "execute_result"
    }
   ],
   "source": [
    "distribution = new_state_distribution(2330, 2.0)\n",
    "distribution.mean(), distribution.var(), distribution.median()"
   ]
  },
  {
   "cell_type": "code",
   "execution_count": 16,
   "metadata": {},
   "outputs": [
    {
     "data": {
      "text/plain": [
       "0.18443092046258014"
      ]
     },
     "execution_count": 16,
     "metadata": {},
     "output_type": "execute_result"
    }
   ],
   "source": [
    "distribution.cdf(4750) - distribution.cdf(4700)"
   ]
  },
  {
   "cell_type": "code",
   "execution_count": 17,
   "metadata": {},
   "outputs": [],
   "source": [
    "def bucketed_distribution(distribution, states):\n",
    "    probs = np.zeros_like(states, dtype=float)\n",
    "    for state_idx in range(num_states - 1):\n",
    "        low_state = states[state_idx]\n",
    "        high_state = states[state_idx + 1]\n",
    "        probs[state_idx] = (distribution.cdf(high_state) - distribution.cdf(low_state))\n",
    "    probs[num_states - 1] = 1 - distribution.cdf(states[num_states - 1])\n",
    "    return probs"
   ]
  },
  {
   "cell_type": "code",
   "execution_count": 18,
   "metadata": {},
   "outputs": [
    {
     "data": {
      "text/plain": [
       "[1.0, 1.0, 1.0, 1.0, 1.0, 1.0, 1.0]"
      ]
     },
     "execution_count": 18,
     "metadata": {},
     "output_type": "execute_result"
    }
   ],
   "source": [
    "bucket_distr = bucketed_distribution(distribution, states)\n",
    "[bucket_distr[bucket_state_index(x)] for x in [4500, 4550, 4600, 4650, 4700, 4750, 4800]]"
   ]
  },
  {
   "cell_type": "code",
   "execution_count": null,
   "metadata": {},
   "outputs": [],
   "source": []
  },
  {
   "cell_type": "code",
   "execution_count": 19,
   "metadata": {},
   "outputs": [],
   "source": [
    "def transition_probabilities(**kwargs):\n",
    "    transition_probs = np.zeros((num_states, num_actions, num_states))\n",
    "\n",
    "    for state_idx in tqdm(range(num_states)):\n",
    "        for action_idx in range(num_actions):\n",
    "            distribution = new_state_distribution(states[state_idx], actions[action_idx], **kwargs)\n",
    "            bucket_distr = bucketed_distribution(distribution, states)\n",
    "            transition_probs[state_idx, action_idx] = bucket_distr\n",
    "            #print(len(bucket_distr))\n",
    "            \n",
    "    return transition_probs"
   ]
  },
  {
   "cell_type": "code",
   "execution_count": 20,
   "metadata": {},
   "outputs": [],
   "source": [
    "def reward(state, action, power=power, **kwargs):\n",
    "    n = state\n",
    "    r_effective = action\n",
    "    return -cost_of_n(n, **kwargs) - cost_of_r(r_effective, **kwargs)  # should this be cost_of_n(new_state)?"
   ]
  },
  {
   "cell_type": "code",
   "execution_count": 21,
   "metadata": {},
   "outputs": [],
   "source": [
    "def step(state_idx, action_idx):\n",
    "    # state: number of current cases (discretized)\n",
    "    # action: value of R_effective to set (discretized)\n",
    "    # return: new_state, reward\n",
    "    \n",
    "    distr = new_state_distribution(states[state_idx], actions[action_idx])\n",
    "    new_state = distr.rvs()\n",
    "    \n",
    "    # TODO: change to an actual expectation\n",
    "    # ensure number of infected people does not exceed entire population\n",
    "    new_state = min(new_state, num_population)\n",
    "    new_state_idx = bucket_state_index(new_state)  # discretized case count\n",
    "    \n",
    "    resulting_reward = reward(states[state_idx], actions[action_idx])\n",
    "    \n",
    "    return new_state_idx, resulting_reward"
   ]
  },
  {
   "cell_type": "code",
   "execution_count": 22,
   "metadata": {},
   "outputs": [
    {
     "name": "stdout",
     "output_type": "stream",
     "text": [
      "original state: 320\n",
      "action: 0.3\n",
      "new state:  94\n",
      "reward :  -1415.111111111111\n"
     ]
    }
   ],
   "source": [
    "state_idx = bucket_state_index(322)\n",
    "print(f'original state: {states[state_idx]}')\n",
    "\n",
    "action_idx = 2\n",
    "print(f'action: {actions[action_idx]}')\n",
    "\n",
    "new_state_idx, resulting_reward = step(state_idx, action_idx)\n",
    "print('new state: ', states[new_state_idx])\n",
    "print('reward : ', resulting_reward)"
   ]
  },
  {
   "cell_type": "markdown",
   "metadata": {},
   "source": [
    "## Initial Conditions"
   ]
  },
  {
   "cell_type": "markdown",
   "metadata": {},
   "source": [
    "## Value Iteration"
   ]
  },
  {
   "cell_type": "code",
   "execution_count": 23,
   "metadata": {},
   "outputs": [],
   "source": [
    "def select_action(state_idx, state_values, transition_probs, **kwargs):\n",
    "    rewards = np.zeros_like(actions, dtype=float)\n",
    "    for action_idx in range(len(actions)):\n",
    "        distr = new_state_distribution(states[state_idx], actions[action_idx])\n",
    "        probs = transition_probs[state_idx, action_idx] # bucketed_distribution(distr, states)\n",
    "        \n",
    "        step_reward = reward(states[state_idx], actions[action_idx], **kwargs) \n",
    "        # TODO: in general, this should be coupled with the probability of reaching a given state. \n",
    "        # Here, we've made them independent, because we've made the reward be a function just of the state you're in and the action you take -- not of the next state you end up reaching\n",
    "        \n",
    "        rewards[action_idx] = (probs * (step_reward + state_values * discount)).sum()\n",
    "    best_action_idx = rewards.argmax()\n",
    "    return best_action_idx, rewards[best_action_idx] # action, lifetime value of taking this action"
   ]
  },
  {
   "cell_type": "code",
   "execution_count": 24,
   "metadata": {},
   "outputs": [],
   "source": [
    "def state_value(state_idx, state_values, transition_probs, **kwargs):\n",
    "    best_action, max_reward = select_action(state_idx, state_values, transition_probs, **kwargs)\n",
    "    return max_reward # lifetime value of taking the best action from this state"
   ]
  },
  {
   "cell_type": "code",
   "execution_count": 25,
   "metadata": {},
   "outputs": [],
   "source": [
    "def save_pickle(obj, file_name):\n",
    "    with open(file_name, 'w') as f:\n",
    "        s = pickle.dumps(obj, protocol=0)\n",
    "        f.write(s.decode('latin-1'))"
   ]
  },
  {
   "cell_type": "code",
   "execution_count": 26,
   "metadata": {},
   "outputs": [],
   "source": [
    "def load_pickle(file_name):\n",
    "    with open(file_name, 'r') as f:\n",
    "        s = f.read()\n",
    "        obj = pickle.loads(s.encode('latin-1'))\n",
    "    return obj"
   ]
  },
  {
   "cell_type": "code",
   "execution_count": null,
   "metadata": {},
   "outputs": [
    {
     "name": "stderr",
     "output_type": "stream",
     "text": [
      "  0%|          | 0/5 [00:00<?, ?it/s]\n",
      "  0%|          | 0/297 [00:00<?, ?it/s]\u001b[A\n",
      "  0%|          | 1/297 [00:01<05:06,  1.04s/it]\u001b[A\n",
      "  1%|          | 2/297 [00:02<05:08,  1.05s/it]\u001b[A\n",
      "  1%|          | 3/297 [00:03<05:09,  1.05s/it]\u001b[A\n",
      "  1%|▏         | 4/297 [00:04<05:10,  1.06s/it]\u001b[A\n",
      "  2%|▏         | 5/297 [00:05<05:11,  1.07s/it]\u001b[A\n",
      "  2%|▏         | 6/297 [00:06<05:11,  1.07s/it]\u001b[A\n",
      "  2%|▏         | 7/297 [00:07<05:09,  1.07s/it]\u001b[A\n",
      "  3%|▎         | 8/297 [00:08<05:05,  1.06s/it]\u001b[A\n",
      "  3%|▎         | 9/297 [00:09<05:03,  1.05s/it]\u001b[A\n",
      "  3%|▎         | 10/297 [00:10<05:00,  1.05s/it]\u001b[A\n",
      "  4%|▎         | 11/297 [00:11<04:59,  1.05s/it]\u001b[A\n",
      "  4%|▍         | 12/297 [00:12<04:57,  1.04s/it]\u001b[A\n",
      "  4%|▍         | 13/297 [00:13<04:55,  1.04s/it]\u001b[A\n",
      "  5%|▍         | 14/297 [00:14<04:52,  1.03s/it]\u001b[A\n",
      "  5%|▌         | 15/297 [00:15<04:51,  1.03s/it]\u001b[A\n",
      "  5%|▌         | 16/297 [00:16<04:50,  1.03s/it]\u001b[A\n",
      "  6%|▌         | 17/297 [00:17<04:49,  1.03s/it]\u001b[A\n",
      "  6%|▌         | 18/297 [00:18<04:50,  1.04s/it]\u001b[A\n",
      "  6%|▋         | 19/297 [00:19<04:48,  1.04s/it]\u001b[A\n",
      "  7%|▋         | 20/297 [00:20<04:47,  1.04s/it]\u001b[A\n",
      "  7%|▋         | 21/297 [00:21<04:46,  1.04s/it]\u001b[A\n",
      "  7%|▋         | 22/297 [00:23<04:46,  1.04s/it]\u001b[A\n",
      "  8%|▊         | 23/297 [00:24<04:43,  1.04s/it]\u001b[A\n",
      "  8%|▊         | 24/297 [00:25<04:41,  1.03s/it]\u001b[A\n",
      "  8%|▊         | 25/297 [00:26<04:43,  1.04s/it]\u001b[A\n",
      "  9%|▉         | 26/297 [00:27<04:44,  1.05s/it]\u001b[A\n",
      "  9%|▉         | 27/297 [00:28<04:46,  1.06s/it]\u001b[A\n",
      "  9%|▉         | 28/297 [00:29<04:43,  1.06s/it]\u001b[A\n",
      " 10%|▉         | 29/297 [00:30<04:41,  1.05s/it]\u001b[A\n",
      " 10%|█         | 30/297 [00:31<04:38,  1.04s/it]\u001b[A\n",
      " 10%|█         | 31/297 [00:32<04:37,  1.04s/it]\u001b[A\n",
      " 11%|█         | 32/297 [00:33<04:35,  1.04s/it]\u001b[A\n",
      " 11%|█         | 33/297 [00:34<04:32,  1.03s/it]\u001b[A\n",
      " 11%|█▏        | 34/297 [00:35<04:30,  1.03s/it]\u001b[A\n",
      " 12%|█▏        | 35/297 [00:36<04:32,  1.04s/it]\u001b[A\n",
      " 12%|█▏        | 36/297 [00:37<04:30,  1.04s/it]\u001b[A\n",
      " 12%|█▏        | 37/297 [00:38<04:29,  1.04s/it]\u001b[A\n",
      " 13%|█▎        | 38/297 [00:39<04:27,  1.03s/it]\u001b[A\n",
      " 13%|█▎        | 39/297 [00:40<04:27,  1.04s/it]\u001b[A\n",
      " 13%|█▎        | 40/297 [00:41<04:24,  1.03s/it]\u001b[A\n",
      " 14%|█▍        | 41/297 [00:42<04:22,  1.03s/it]\u001b[A\n",
      " 14%|█▍        | 42/297 [00:43<04:20,  1.02s/it]\u001b[A\n",
      " 14%|█▍        | 43/297 [00:44<04:19,  1.02s/it]\u001b[A\n",
      " 15%|█▍        | 44/297 [00:45<04:18,  1.02s/it]\u001b[A\n",
      " 15%|█▌        | 45/297 [00:46<04:19,  1.03s/it]\u001b[A\n",
      " 15%|█▌        | 46/297 [00:47<04:19,  1.03s/it]\u001b[A\n",
      " 16%|█▌        | 47/297 [00:48<04:17,  1.03s/it]\u001b[A\n",
      " 16%|█▌        | 48/297 [00:49<04:16,  1.03s/it]\u001b[A\n",
      " 16%|█▋        | 49/297 [00:50<04:15,  1.03s/it]\u001b[A\n",
      " 17%|█▋        | 50/297 [00:52<04:17,  1.04s/it]\u001b[A\n",
      " 17%|█▋        | 51/297 [00:53<04:18,  1.05s/it]\u001b[A\n",
      " 18%|█▊        | 52/297 [00:54<04:18,  1.05s/it]\u001b[A\n",
      " 18%|█▊        | 53/297 [00:55<04:19,  1.06s/it]\u001b[A\n",
      " 18%|█▊        | 54/297 [00:56<04:19,  1.07s/it]\u001b[A\n",
      " 19%|█▊        | 55/297 [00:57<04:16,  1.06s/it]\u001b[A\n",
      " 19%|█▉        | 56/297 [00:58<04:13,  1.05s/it]\u001b[A\n",
      " 19%|█▉        | 57/297 [00:59<04:13,  1.06s/it]\u001b[A\n",
      " 20%|█▉        | 58/297 [01:00<04:13,  1.06s/it]\u001b[A\n",
      " 20%|█▉        | 59/297 [01:01<04:09,  1.05s/it]\u001b[A\n",
      " 20%|██        | 60/297 [01:02<04:07,  1.04s/it]\u001b[A\n",
      " 21%|██        | 61/297 [01:03<04:07,  1.05s/it]\u001b[A\n",
      " 21%|██        | 62/297 [01:04<04:03,  1.04s/it]\u001b[A\n",
      " 21%|██        | 63/297 [01:05<04:01,  1.03s/it]\u001b[A\n",
      " 22%|██▏       | 64/297 [01:06<04:02,  1.04s/it]\u001b[A\n",
      " 22%|██▏       | 65/297 [01:07<04:03,  1.05s/it]\u001b[A\n",
      " 22%|██▏       | 66/297 [01:08<03:59,  1.04s/it]\u001b[A\n",
      " 23%|██▎       | 67/297 [01:09<04:00,  1.04s/it]\u001b[A\n",
      " 23%|██▎       | 68/297 [01:10<03:59,  1.04s/it]\u001b[A\n",
      " 23%|██▎       | 69/297 [01:12<04:01,  1.06s/it]\u001b[A\n",
      " 24%|██▎       | 70/297 [01:13<03:59,  1.06s/it]\u001b[A\n",
      " 24%|██▍       | 71/297 [01:14<03:57,  1.05s/it]\u001b[A\n",
      " 24%|██▍       | 72/297 [01:15<03:58,  1.06s/it]\u001b[A\n",
      " 25%|██▍       | 73/297 [01:16<03:58,  1.06s/it]\u001b[A\n",
      " 25%|██▍       | 74/297 [01:17<03:55,  1.05s/it]\u001b[A\n",
      " 25%|██▌       | 75/297 [01:18<03:53,  1.05s/it]\u001b[A\n",
      " 26%|██▌       | 76/297 [01:19<03:51,  1.05s/it]\u001b[A\n",
      " 26%|██▌       | 77/297 [01:20<03:49,  1.04s/it]\u001b[A\n",
      " 26%|██▋       | 78/297 [01:21<03:47,  1.04s/it]\u001b[A\n",
      " 27%|██▋       | 79/297 [01:22<03:45,  1.04s/it]\u001b[A\n",
      " 27%|██▋       | 80/297 [01:23<03:45,  1.04s/it]\u001b[A\n",
      " 27%|██▋       | 81/297 [01:24<03:44,  1.04s/it]\u001b[A\n",
      " 28%|██▊       | 82/297 [01:25<03:45,  1.05s/it]\u001b[A\n",
      " 28%|██▊       | 83/297 [01:26<03:43,  1.05s/it]\u001b[A\n",
      " 28%|██▊       | 84/297 [01:27<03:42,  1.05s/it]\u001b[A\n",
      " 29%|██▊       | 85/297 [01:28<03:43,  1.06s/it]\u001b[A\n",
      " 29%|██▉       | 86/297 [01:29<03:40,  1.05s/it]\u001b[A\n",
      " 29%|██▉       | 87/297 [01:30<03:41,  1.05s/it]\u001b[A\n",
      " 30%|██▉       | 88/297 [01:31<03:39,  1.05s/it]\u001b[A\n",
      " 30%|██▉       | 89/297 [01:32<03:38,  1.05s/it]\u001b[A\n",
      " 30%|███       | 90/297 [01:34<03:37,  1.05s/it]\u001b[A\n",
      " 31%|███       | 91/297 [01:35<03:37,  1.06s/it]\u001b[A\n",
      " 31%|███       | 92/297 [01:36<03:36,  1.06s/it]\u001b[A\n",
      " 31%|███▏      | 93/297 [01:37<03:36,  1.06s/it]\u001b[A\n",
      " 32%|███▏      | 94/297 [01:38<03:37,  1.07s/it]\u001b[A\n",
      " 32%|███▏      | 95/297 [01:39<03:34,  1.06s/it]\u001b[A\n",
      " 32%|███▏      | 96/297 [01:40<03:32,  1.06s/it]\u001b[A\n",
      " 33%|███▎      | 97/297 [01:41<03:29,  1.05s/it]\u001b[A\n",
      " 33%|███▎      | 98/297 [01:42<03:27,  1.04s/it]\u001b[A\n",
      " 33%|███▎      | 99/297 [01:43<03:27,  1.05s/it]\u001b[A\n",
      " 34%|███▎      | 100/297 [01:44<03:25,  1.05s/it]\u001b[A\n",
      " 34%|███▍      | 101/297 [01:45<03:25,  1.05s/it]\u001b[A\n",
      " 34%|███▍      | 102/297 [01:46<03:26,  1.06s/it]\u001b[A\n",
      " 35%|███▍      | 103/297 [01:47<03:25,  1.06s/it]\u001b[A\n",
      " 35%|███▌      | 104/297 [01:48<03:22,  1.05s/it]\u001b[A\n",
      " 35%|███▌      | 105/297 [01:49<03:21,  1.05s/it]\u001b[A\n",
      " 36%|███▌      | 106/297 [01:50<03:18,  1.04s/it]\u001b[A\n",
      " 36%|███▌      | 107/297 [01:51<03:18,  1.04s/it]\u001b[A\n",
      " 36%|███▋      | 108/297 [01:52<03:16,  1.04s/it]\u001b[A\n",
      " 37%|███▋      | 109/297 [01:54<03:18,  1.05s/it]\u001b[A\n",
      " 37%|███▋      | 110/297 [01:55<03:16,  1.05s/it]\u001b[A\n",
      " 37%|███▋      | 111/297 [01:56<03:16,  1.06s/it]\u001b[A\n",
      " 38%|███▊      | 112/297 [01:57<03:11,  1.04s/it]\u001b[A\n",
      " 38%|███▊      | 113/297 [01:58<03:11,  1.04s/it]\u001b[A\n",
      " 38%|███▊      | 114/297 [01:59<03:09,  1.03s/it]\u001b[A\n",
      " 39%|███▊      | 115/297 [02:00<03:08,  1.04s/it]\u001b[A\n",
      " 39%|███▉      | 116/297 [02:01<03:05,  1.03s/it]\u001b[A\n",
      " 39%|███▉      | 117/297 [02:02<03:06,  1.04s/it]\u001b[A\n",
      " 40%|███▉      | 118/297 [02:03<03:05,  1.04s/it]\u001b[A\n",
      " 40%|████      | 119/297 [02:04<03:05,  1.04s/it]\u001b[A\n",
      " 40%|████      | 120/297 [02:05<03:06,  1.05s/it]\u001b[A\n",
      " 41%|████      | 121/297 [02:06<03:04,  1.05s/it]\u001b[A\n",
      " 41%|████      | 122/297 [02:07<03:03,  1.05s/it]\u001b[A\n",
      " 41%|████▏     | 123/297 [02:08<03:00,  1.04s/it]\u001b[A\n",
      " 42%|████▏     | 124/297 [02:09<02:59,  1.04s/it]\u001b[A\n",
      " 42%|████▏     | 125/297 [02:10<02:58,  1.04s/it]\u001b[A\n",
      " 42%|████▏     | 126/297 [02:11<02:57,  1.04s/it]\u001b[A\n",
      " 43%|████▎     | 127/297 [02:12<02:56,  1.04s/it]\u001b[A\n",
      " 43%|████▎     | 128/297 [02:13<02:56,  1.04s/it]\u001b[A\n",
      " 43%|████▎     | 129/297 [02:14<02:55,  1.05s/it]\u001b[A\n",
      " 44%|████▍     | 130/297 [02:15<02:55,  1.05s/it]\u001b[A\n",
      " 44%|████▍     | 131/297 [02:16<02:54,  1.05s/it]\u001b[A\n",
      " 44%|████▍     | 132/297 [02:17<02:52,  1.05s/it]\u001b[A\n",
      " 45%|████▍     | 133/297 [02:19<02:51,  1.04s/it]\u001b[A\n",
      " 45%|████▌     | 134/297 [02:20<02:49,  1.04s/it]\u001b[A\n",
      " 45%|████▌     | 135/297 [02:21<02:49,  1.04s/it]\u001b[A\n",
      " 46%|████▌     | 136/297 [02:22<02:46,  1.03s/it]\u001b[A\n",
      " 46%|████▌     | 137/297 [02:23<02:45,  1.04s/it]\u001b[A\n",
      " 46%|████▋     | 138/297 [02:24<02:44,  1.03s/it]\u001b[A\n",
      " 47%|████▋     | 139/297 [02:25<02:42,  1.03s/it]\u001b[A\n",
      " 47%|████▋     | 140/297 [02:26<02:42,  1.04s/it]\u001b[A\n",
      " 47%|████▋     | 141/297 [02:27<02:41,  1.03s/it]\u001b[A\n",
      " 48%|████▊     | 142/297 [02:28<02:42,  1.05s/it]\u001b[A\n",
      " 48%|████▊     | 143/297 [02:29<02:43,  1.06s/it]\u001b[A\n",
      " 48%|████▊     | 144/297 [02:30<02:41,  1.05s/it]\u001b[A\n",
      " 49%|████▉     | 145/297 [02:31<02:39,  1.05s/it]\u001b[A\n",
      " 49%|████▉     | 146/297 [02:32<02:36,  1.04s/it]\u001b[A\n",
      " 49%|████▉     | 147/297 [02:33<02:35,  1.04s/it]\u001b[A\n",
      " 50%|████▉     | 148/297 [02:34<02:35,  1.04s/it]\u001b[A\n",
      " 50%|█████     | 149/297 [02:35<02:35,  1.05s/it]\u001b[A\n",
      " 51%|█████     | 150/297 [02:36<02:35,  1.06s/it]\u001b[A\n",
      " 51%|█████     | 151/297 [02:37<02:34,  1.06s/it]\u001b[A\n",
      " 51%|█████     | 152/297 [02:38<02:34,  1.07s/it]\u001b[A\n",
      " 52%|█████▏    | 153/297 [02:39<02:31,  1.05s/it]\u001b[A\n",
      " 52%|█████▏    | 154/297 [02:40<02:29,  1.04s/it]\u001b[A\n",
      " 52%|█████▏    | 155/297 [02:41<02:27,  1.04s/it]\u001b[A\n",
      " 53%|█████▎    | 156/297 [02:42<02:24,  1.02s/it]\u001b[A\n",
      " 53%|█████▎    | 157/297 [02:44<02:26,  1.04s/it]\u001b[A\n",
      " 53%|█████▎    | 158/297 [02:45<02:24,  1.04s/it]\u001b[A\n",
      " 54%|█████▎    | 159/297 [02:46<02:25,  1.05s/it]\u001b[A\n",
      " 54%|█████▍    | 160/297 [02:47<02:22,  1.04s/it]\u001b[A\n",
      " 54%|█████▍    | 161/297 [02:48<02:22,  1.05s/it]\u001b[A\n",
      " 55%|█████▍    | 162/297 [02:49<02:20,  1.04s/it]\u001b[A\n",
      " 55%|█████▍    | 163/297 [02:50<02:19,  1.04s/it]\u001b[A\n",
      " 55%|█████▌    | 164/297 [02:51<02:17,  1.04s/it]\u001b[A\n",
      " 56%|█████▌    | 165/297 [02:52<02:16,  1.04s/it]\u001b[A\n",
      " 56%|█████▌    | 166/297 [02:53<02:15,  1.03s/it]\u001b[A\n",
      " 56%|█████▌    | 167/297 [02:54<02:13,  1.02s/it]\u001b[A\n",
      " 57%|█████▋    | 168/297 [02:55<02:12,  1.02s/it]\u001b[A\n",
      " 57%|█████▋    | 169/297 [02:56<02:11,  1.03s/it]\u001b[A\n",
      " 57%|█████▋    | 170/297 [02:57<02:10,  1.03s/it]\u001b[A\n",
      " 58%|█████▊    | 171/297 [02:58<02:11,  1.04s/it]\u001b[A\n",
      " 58%|█████▊    | 172/297 [02:59<02:10,  1.04s/it]\u001b[A\n",
      " 58%|█████▊    | 173/297 [03:00<02:08,  1.03s/it]\u001b[A\n",
      " 59%|█████▊    | 174/297 [03:01<02:07,  1.03s/it]\u001b[A\n",
      " 59%|█████▉    | 175/297 [03:02<02:08,  1.05s/it]\u001b[A\n",
      " 59%|█████▉    | 176/297 [03:03<02:06,  1.05s/it]\u001b[A\n",
      " 60%|█████▉    | 177/297 [03:04<02:04,  1.04s/it]\u001b[A\n",
      " 60%|█████▉    | 178/297 [03:05<02:03,  1.04s/it]\u001b[A\n",
      " 60%|██████    | 179/297 [03:06<02:02,  1.04s/it]\u001b[A\n",
      " 61%|██████    | 180/297 [03:07<02:01,  1.04s/it]\u001b[A\n",
      " 61%|██████    | 181/297 [03:08<02:01,  1.04s/it]\u001b[A\n",
      " 61%|██████▏   | 182/297 [03:10<01:59,  1.04s/it]\u001b[A\n",
      " 62%|██████▏   | 183/297 [03:11<01:58,  1.04s/it]\u001b[A\n",
      " 62%|██████▏   | 184/297 [03:12<01:56,  1.03s/it]\u001b[A\n",
      " 62%|██████▏   | 185/297 [03:13<01:56,  1.04s/it]\u001b[A\n",
      " 63%|██████▎   | 186/297 [03:14<01:56,  1.05s/it]\u001b[A\n",
      " 63%|██████▎   | 187/297 [03:15<01:55,  1.05s/it]\u001b[A\n",
      " 63%|██████▎   | 188/297 [03:16<01:53,  1.04s/it]\u001b[A\n",
      " 64%|██████▎   | 189/297 [03:17<01:52,  1.04s/it]\u001b[A\n",
      " 64%|██████▍   | 190/297 [03:18<01:50,  1.04s/it]\u001b[A\n",
      " 64%|██████▍   | 191/297 [03:19<01:50,  1.04s/it]\u001b[A\n",
      " 65%|██████▍   | 192/297 [03:20<01:49,  1.04s/it]\u001b[A\n",
      " 65%|██████▍   | 193/297 [03:21<01:48,  1.04s/it]\u001b[A\n",
      " 65%|██████▌   | 194/297 [03:22<01:47,  1.05s/it]\u001b[A\n",
      " 66%|██████▌   | 195/297 [03:23<01:48,  1.06s/it]\u001b[A\n",
      " 66%|██████▌   | 196/297 [03:24<01:46,  1.05s/it]\u001b[A\n",
      " 66%|██████▋   | 197/297 [03:25<01:44,  1.04s/it]\u001b[A\n",
      " 67%|██████▋   | 198/297 [03:26<01:43,  1.04s/it]\u001b[A\n",
      " 67%|██████▋   | 199/297 [03:27<01:42,  1.05s/it]\u001b[A\n",
      " 67%|██████▋   | 200/297 [03:28<01:41,  1.05s/it]\u001b[A\n",
      " 68%|██████▊   | 201/297 [03:29<01:41,  1.06s/it]\u001b[A\n",
      " 68%|██████▊   | 202/297 [03:30<01:40,  1.06s/it]\u001b[A\n",
      " 68%|██████▊   | 203/297 [03:32<01:38,  1.05s/it]\u001b[A\n",
      " 69%|██████▊   | 204/297 [03:33<01:37,  1.05s/it]\u001b[A\n",
      " 69%|██████▉   | 205/297 [03:34<01:37,  1.06s/it]\u001b[A\n",
      " 69%|██████▉   | 206/297 [03:35<01:35,  1.05s/it]\u001b[A\n",
      " 70%|██████▉   | 207/297 [03:36<01:34,  1.05s/it]\u001b[A\n",
      " 70%|███████   | 208/297 [03:37<01:33,  1.06s/it]\u001b[A\n",
      " 70%|███████   | 209/297 [03:38<01:32,  1.05s/it]\u001b[A\n",
      " 71%|███████   | 210/297 [03:39<01:30,  1.04s/it]\u001b[A\n",
      " 71%|███████   | 211/297 [03:40<01:29,  1.04s/it]\u001b[A\n",
      " 71%|███████▏  | 212/297 [03:41<01:27,  1.03s/it]\u001b[A\n",
      " 72%|███████▏  | 213/297 [03:42<01:27,  1.04s/it]\u001b[A\n",
      " 72%|███████▏  | 214/297 [03:43<01:26,  1.05s/it]\u001b[A\n",
      " 72%|███████▏  | 215/297 [03:44<01:26,  1.05s/it]\u001b[A\n",
      " 73%|███████▎  | 216/297 [03:45<01:24,  1.04s/it]\u001b[A\n",
      " 73%|███████▎  | 217/297 [03:46<01:23,  1.05s/it]\u001b[A\n",
      " 73%|███████▎  | 218/297 [03:47<01:22,  1.05s/it]\u001b[A\n",
      " 74%|███████▎  | 219/297 [03:48<01:21,  1.04s/it]\u001b[A\n",
      " 74%|███████▍  | 220/297 [03:49<01:20,  1.05s/it]\u001b[A\n",
      " 74%|███████▍  | 221/297 [03:50<01:19,  1.04s/it]\u001b[A\n",
      " 75%|███████▍  | 222/297 [03:51<01:18,  1.04s/it]\u001b[A\n",
      " 75%|███████▌  | 223/297 [03:52<01:17,  1.05s/it]\u001b[A\n",
      " 75%|███████▌  | 224/297 [03:54<01:16,  1.05s/it]\u001b[A\n",
      " 76%|███████▌  | 225/297 [03:55<01:15,  1.05s/it]\u001b[A\n",
      " 76%|███████▌  | 226/297 [03:56<01:15,  1.07s/it]\u001b[A\n",
      " 76%|███████▋  | 227/297 [03:57<01:13,  1.06s/it]\u001b[A\n",
      " 77%|███████▋  | 228/297 [03:58<01:12,  1.05s/it]\u001b[A\n",
      " 77%|███████▋  | 229/297 [03:59<01:11,  1.05s/it]\u001b[A\n",
      " 77%|███████▋  | 230/297 [04:00<01:10,  1.05s/it]\u001b[A\n",
      " 78%|███████▊  | 231/297 [04:01<01:08,  1.04s/it]\u001b[A\n",
      " 78%|███████▊  | 232/297 [04:02<01:07,  1.04s/it]\u001b[A\n",
      " 78%|███████▊  | 233/297 [04:03<01:06,  1.04s/it]\u001b[A\n",
      " 79%|███████▉  | 234/297 [04:04<01:05,  1.04s/it]\u001b[A\n",
      " 79%|███████▉  | 235/297 [04:05<01:03,  1.03s/it]\u001b[A\n",
      " 79%|███████▉  | 236/297 [04:06<01:02,  1.03s/it]\u001b[A\n",
      " 80%|███████▉  | 237/297 [04:07<01:02,  1.03s/it]\u001b[A\n",
      " 80%|████████  | 238/297 [04:08<01:01,  1.04s/it]\u001b[A\n",
      " 80%|████████  | 239/297 [04:09<00:59,  1.03s/it]\u001b[A\n",
      " 81%|████████  | 240/297 [04:10<00:59,  1.04s/it]\u001b[A\n",
      " 81%|████████  | 241/297 [04:11<00:58,  1.04s/it]\u001b[A\n",
      " 81%|████████▏ | 242/297 [04:12<00:57,  1.04s/it]\u001b[A\n",
      " 82%|████████▏ | 243/297 [04:13<00:56,  1.04s/it]\u001b[A\n",
      " 82%|████████▏ | 244/297 [04:14<00:55,  1.04s/it]\u001b[A\n",
      " 82%|████████▏ | 245/297 [04:15<00:54,  1.04s/it]\u001b[A\n",
      " 83%|████████▎ | 246/297 [04:16<00:53,  1.04s/it]\u001b[A\n",
      " 83%|████████▎ | 247/297 [04:17<00:52,  1.05s/it]\u001b[A\n",
      " 84%|████████▎ | 248/297 [04:19<00:50,  1.04s/it]\u001b[A\n",
      " 84%|████████▍ | 249/297 [04:20<00:50,  1.04s/it]\u001b[A\n",
      " 84%|████████▍ | 250/297 [04:21<00:48,  1.04s/it]\u001b[A\n",
      " 85%|████████▍ | 251/297 [04:22<00:47,  1.04s/it]\u001b[A\n",
      " 85%|████████▍ | 252/297 [04:23<00:47,  1.05s/it]\u001b[A\n",
      " 85%|████████▌ | 253/297 [04:24<00:45,  1.04s/it]\u001b[A\n",
      " 86%|████████▌ | 254/297 [04:25<00:45,  1.05s/it]\u001b[A\n",
      " 86%|████████▌ | 255/297 [04:26<00:43,  1.04s/it]\u001b[A\n",
      " 86%|████████▌ | 256/297 [04:27<00:43,  1.05s/it]\u001b[A\n",
      " 87%|████████▋ | 257/297 [04:28<00:41,  1.05s/it]\u001b[A\n",
      " 87%|████████▋ | 258/297 [04:29<00:40,  1.04s/it]\u001b[A\n",
      " 87%|████████▋ | 259/297 [04:30<00:40,  1.06s/it]\u001b[A\n",
      " 88%|████████▊ | 260/297 [04:31<00:39,  1.06s/it]\u001b[A\n",
      " 88%|████████▊ | 261/297 [04:32<00:37,  1.05s/it]\u001b[A\n",
      " 88%|████████▊ | 262/297 [04:33<00:36,  1.04s/it]\u001b[A\n",
      " 89%|████████▊ | 263/297 [04:34<00:35,  1.05s/it]\u001b[A\n",
      " 89%|████████▉ | 264/297 [04:35<00:34,  1.04s/it]\u001b[A\n",
      " 89%|████████▉ | 265/297 [04:36<00:33,  1.04s/it]\u001b[A\n",
      " 90%|████████▉ | 266/297 [04:37<00:32,  1.04s/it]\u001b[A\n",
      " 90%|████████▉ | 267/297 [04:38<00:31,  1.05s/it]\u001b[A\n",
      " 90%|█████████ | 268/297 [04:39<00:30,  1.04s/it]\u001b[A\n",
      " 91%|█████████ | 269/297 [04:40<00:29,  1.04s/it]\u001b[A\n",
      " 91%|█████████ | 270/297 [04:42<00:28,  1.05s/it]\u001b[A\n",
      " 91%|█████████ | 271/297 [04:43<00:27,  1.05s/it]\u001b[A\n",
      " 92%|█████████▏| 272/297 [04:44<00:25,  1.04s/it]\u001b[A\n",
      " 92%|█████████▏| 273/297 [04:45<00:24,  1.03s/it]\u001b[A\n",
      " 92%|█████████▏| 274/297 [04:46<00:23,  1.03s/it]\u001b[A\n",
      " 93%|█████████▎| 275/297 [04:47<00:22,  1.03s/it]\u001b[A\n",
      " 93%|█████████▎| 276/297 [04:48<00:21,  1.02s/it]\u001b[A\n",
      " 93%|█████████▎| 277/297 [04:49<00:20,  1.04s/it]\u001b[A\n",
      " 94%|█████████▎| 278/297 [04:50<00:19,  1.05s/it]\u001b[A\n",
      " 94%|█████████▍| 279/297 [04:51<00:18,  1.05s/it]\u001b[A\n",
      " 94%|█████████▍| 280/297 [04:52<00:17,  1.05s/it]\u001b[A\n",
      " 95%|█████████▍| 281/297 [04:53<00:16,  1.04s/it]\u001b[A\n",
      " 95%|█████████▍| 282/297 [04:54<00:15,  1.05s/it]\u001b[A\n",
      " 95%|█████████▌| 283/297 [04:55<00:14,  1.05s/it]\u001b[A\n",
      " 96%|█████████▌| 284/297 [04:56<00:13,  1.05s/it]\u001b[A\n",
      " 96%|█████████▌| 285/297 [04:57<00:12,  1.04s/it]\u001b[A\n",
      " 96%|█████████▋| 286/297 [04:58<00:11,  1.05s/it]\u001b[A\n",
      " 97%|█████████▋| 287/297 [04:59<00:10,  1.05s/it]\u001b[A\n",
      " 97%|█████████▋| 288/297 [05:00<00:09,  1.04s/it]\u001b[A\n",
      " 97%|█████████▋| 289/297 [05:01<00:08,  1.04s/it]\u001b[A\n",
      " 98%|█████████▊| 290/297 [05:02<00:07,  1.04s/it]\u001b[A\n",
      " 98%|█████████▊| 291/297 [05:03<00:06,  1.04s/it]\u001b[A\n",
      " 98%|█████████▊| 292/297 [05:04<00:05,  1.05s/it]\u001b[A\n",
      " 99%|█████████▊| 293/297 [05:06<00:04,  1.06s/it]\u001b[A\n",
      " 99%|█████████▉| 294/297 [05:07<00:03,  1.06s/it]\u001b[A\n",
      " 99%|█████████▉| 295/297 [05:08<00:02,  1.07s/it]\u001b[A\n",
      "100%|█████████▉| 296/297 [05:09<00:01,  1.06s/it]\u001b[A\n",
      "100%|██████████| 297/297 [05:10<00:00,  1.04s/it]\u001b[A\n",
      "\n",
      "  0%|          | 0/4 [00:00<?, ?it/s]\u001b[A\n",
      "\n",
      "  0%|          | 0/3 [00:00<?, ?it/s]\u001b[A\u001b[A\n",
      "\n",
      "\n",
      "  0%|          | 0/100 [00:00<?, ?it/s]\u001b[A\u001b[A\u001b[A\n",
      "\n",
      "\n",
      "  1%|          | 1/100 [00:02<04:07,  2.50s/it]\u001b[A\u001b[A\u001b[A"
     ]
    },
    {
     "name": "stdout",
     "output_type": "stream",
     "text": [
      "1035.9483469541115\n"
     ]
    },
    {
     "name": "stderr",
     "output_type": "stream",
     "text": [
      "\n",
      "\n",
      "\n",
      "  2%|▏         | 2/100 [00:05<04:05,  2.51s/it]\u001b[A\u001b[A\u001b[A"
     ]
    },
    {
     "name": "stdout",
     "output_type": "stream",
     "text": [
      "842.1664275599874\n"
     ]
    },
    {
     "name": "stderr",
     "output_type": "stream",
     "text": [
      "\n",
      "\n",
      "\n",
      "  3%|▎         | 3/100 [00:07<04:04,  2.52s/it]\u001b[A\u001b[A\u001b[A"
     ]
    },
    {
     "name": "stdout",
     "output_type": "stream",
     "text": [
      "569.3056253483419\n"
     ]
    },
    {
     "name": "stderr",
     "output_type": "stream",
     "text": [
      "\n",
      "\n",
      "\n",
      "  4%|▍         | 4/100 [00:10<04:00,  2.51s/it]\u001b[A\u001b[A\u001b[A"
     ]
    },
    {
     "name": "stdout",
     "output_type": "stream",
     "text": [
      "471.40570800428304\n"
     ]
    },
    {
     "name": "stderr",
     "output_type": "stream",
     "text": [
      "\n",
      "\n",
      "\n",
      "  5%|▌         | 5/100 [00:12<03:57,  2.50s/it]\u001b[A\u001b[A\u001b[A"
     ]
    },
    {
     "name": "stdout",
     "output_type": "stream",
     "text": [
      "340.37365545921557\n"
     ]
    },
    {
     "name": "stderr",
     "output_type": "stream",
     "text": [
      "\n",
      "\n",
      "\n",
      "  6%|▌         | 6/100 [00:15<03:55,  2.50s/it]\u001b[A\u001b[A\u001b[A"
     ]
    },
    {
     "name": "stdout",
     "output_type": "stream",
     "text": [
      "273.1458528431631\n"
     ]
    },
    {
     "name": "stderr",
     "output_type": "stream",
     "text": [
      "\n",
      "\n",
      "\n",
      "  7%|▋         | 7/100 [00:17<03:53,  2.51s/it]\u001b[A\u001b[A\u001b[A"
     ]
    },
    {
     "name": "stdout",
     "output_type": "stream",
     "text": [
      "229.59616236377315\n"
     ]
    },
    {
     "name": "stderr",
     "output_type": "stream",
     "text": [
      "\n",
      "\n",
      "\n",
      "  8%|▊         | 8/100 [00:20<03:51,  2.52s/it]\u001b[A\u001b[A\u001b[A"
     ]
    },
    {
     "name": "stdout",
     "output_type": "stream",
     "text": [
      "186.486488085141\n"
     ]
    },
    {
     "name": "stderr",
     "output_type": "stream",
     "text": [
      "\n",
      "\n",
      "\n",
      "  9%|▉         | 9/100 [00:22<03:49,  2.52s/it]\u001b[A\u001b[A\u001b[A"
     ]
    },
    {
     "name": "stdout",
     "output_type": "stream",
     "text": [
      "159.05356230656707\n"
     ]
    },
    {
     "name": "stderr",
     "output_type": "stream",
     "text": [
      "\n",
      "\n",
      "\n",
      " 10%|█         | 10/100 [00:25<03:47,  2.53s/it]\u001b[A\u001b[A\u001b[A"
     ]
    },
    {
     "name": "stdout",
     "output_type": "stream",
     "text": [
      "151.6422417010367\n"
     ]
    },
    {
     "name": "stderr",
     "output_type": "stream",
     "text": [
      "\n",
      "\n",
      "\n",
      " 11%|█         | 11/100 [00:27<03:45,  2.53s/it]\u001b[A\u001b[A\u001b[A"
     ]
    },
    {
     "name": "stdout",
     "output_type": "stream",
     "text": [
      "120.71356995401038\n"
     ]
    },
    {
     "name": "stderr",
     "output_type": "stream",
     "text": [
      "\n",
      "\n",
      "\n",
      " 12%|█▏        | 12/100 [00:30<03:43,  2.54s/it]\u001b[A\u001b[A\u001b[A"
     ]
    },
    {
     "name": "stdout",
     "output_type": "stream",
     "text": [
      "87.27947811678314\n"
     ]
    }
   ],
   "source": [
    "policy_table = {}\n",
    "\n",
    "transition_probs = {}\n",
    "\n",
    "for imported_cases_per_step in tqdm(imported_cases_per_step_range):\n",
    "    \n",
    "    transition_probs[imported_cases_per_step] = transition_probabilities(imported_cases_per_step=imported_cases_per_step)\n",
    "    save_pickle(transition_probs, 'transition_probs.pickle')\n",
    "    \n",
    "    for power in tqdm(power_range):\n",
    "        for scale_factor in tqdm(scale_factor_range):\n",
    "            \n",
    "            params_obj = {\n",
    "                'power': power,\n",
    "                'imported_cases_per_step': imported_cases_per_step,\n",
    "                'scale_factor': scale_factor\n",
    "            }\n",
    "            kwargs = params_obj\n",
    "            \n",
    "\n",
    "            \n",
    "            state_values = np.random.random(num_states) * -1000 - 1000\n",
    "            best_action_idx = np.zeros_like(state_values)\n",
    "\n",
    "            for i in tqdm(range(100)):\n",
    "                new_state_values = np.zeros_like(state_values, dtype=float)\n",
    "                for state_idx in range(num_states):\n",
    "                    best_action_idx[state_idx], new_state_values[state_idx] = select_action(state_idx, state_values, transition_probs[imported_cases_per_step], **kwargs)\n",
    "                diffs = abs(state_values - new_state_values)\n",
    "                print(diffs.max())\n",
    "                state_values = new_state_values\n",
    "            \n",
    "            result_obj = {\n",
    "                'best_action_idx': best_action_idx,\n",
    "                'state_values': state_values\n",
    "            }\n",
    "            \n",
    "            params_key = tuple(params_obj.items())\n",
    "            policy_table[params_key] = result_obj\n",
    "            \n",
    "            save_pickle(policy_table, 'policy_table.pickle')"
   ]
  },
  {
   "cell_type": "markdown",
   "metadata": {},
   "source": [
    "## State Values"
   ]
  },
  {
   "cell_type": "code",
   "execution_count": null,
   "metadata": {},
   "outputs": [],
   "source": [
    "#sns.barplot(list(range(num_population)),\n",
    "#            [state_values[bucket_state_index(n)] for n in range(num_population)])\n",
    "\n",
    "sns.barplot(list(range(num_states)),\n",
    "            [state_values[state_idx] for state_idx in range(num_states)])"
   ]
  },
  {
   "cell_type": "code",
   "execution_count": null,
   "metadata": {},
   "outputs": [],
   "source": [
    "state_values.dtype"
   ]
  },
  {
   "cell_type": "markdown",
   "metadata": {},
   "source": [
    "## State Actions"
   ]
  },
  {
   "cell_type": "code",
   "execution_count": null,
   "metadata": {},
   "outputs": [],
   "source": [
    "#sns.barplot(list(range(num_population)),\n",
    "#            [actions[best_action_idx[bucket_state_index(n)]] for n in range(num_population)])\n",
    "\n",
    "sns.barplot(list(range(num_states)),\n",
    "            [actions[int(best_action_idx[n])] for n in range(num_states)])"
   ]
  },
  {
   "cell_type": "code",
   "execution_count": null,
   "metadata": {},
   "outputs": [],
   "source": [
    "{states[i]: actions[int(idx)] for i, idx in enumerate(best_action_idx)}"
   ]
  },
  {
   "cell_type": "code",
   "execution_count": null,
   "metadata": {},
   "outputs": [],
   "source": [
    "# Roll-Out Using Optimal Policy\n",
    "\n",
    "initial_cases = 100\n",
    "current_state_idx = bucket_state_index(initial_cases)\n",
    "total_reward = 0\n",
    "current_discount = 1\n",
    "\n",
    "action_history = []\n",
    "state_history = [current_state_idx]\n",
    "\n",
    "for i in tqdm(range(100)):\n",
    "    action_idx = int(best_action_idx[current_state_idx])\n",
    "    new_state_idx, new_reward = step(current_state_idx, action_idx)\n",
    "    total_reward += new_reward * current_discount\n",
    "    \n",
    "    current_state_idx = new_state_idx\n",
    "    current_discount *= discount\n",
    "    \n",
    "    action_history.append(actions[action_idx])\n",
    "    state_history.append(states[current_state_idx])"
   ]
  },
  {
   "cell_type": "code",
   "execution_count": null,
   "metadata": {},
   "outputs": [],
   "source": [
    "total_reward"
   ]
  },
  {
   "cell_type": "markdown",
   "metadata": {},
   "source": [
    "## Case Counts"
   ]
  },
  {
   "cell_type": "code",
   "execution_count": null,
   "metadata": {},
   "outputs": [],
   "source": [
    "sns.barplot(x=list(range(len(state_history))), y=state_history)"
   ]
  },
  {
   "cell_type": "markdown",
   "metadata": {},
   "source": [
    "## R(t)"
   ]
  },
  {
   "cell_type": "code",
   "execution_count": null,
   "metadata": {},
   "outputs": [],
   "source": [
    "sns.barplot(x=list(range(len(action_history))), y=action_history)"
   ]
  },
  {
   "cell_type": "code",
   "execution_count": null,
   "metadata": {},
   "outputs": [],
   "source": []
  }
 ],
 "metadata": {
  "kernelspec": {
   "display_name": "Python 3",
   "language": "python",
   "name": "python3"
  },
  "language_info": {
   "codemirror_mode": {
    "name": "ipython",
    "version": 3
   },
   "file_extension": ".py",
   "mimetype": "text/x-python",
   "name": "python",
   "nbconvert_exporter": "python",
   "pygments_lexer": "ipython3",
   "version": "3.8.2"
  }
 },
 "nbformat": 4,
 "nbformat_minor": 4
}
