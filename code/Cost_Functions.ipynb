{
 "cells": [
  {
   "cell_type": "code",
   "execution_count": 3,
   "metadata": {},
   "outputs": [],
   "source": [
    "import itertools\n",
    "import math\n",
    "import pickle\n",
    "import json\n",
    "\n",
    "import numpy as np\n",
    "import seaborn as sns\n",
    "import matplotlib.pyplot as plt\n",
    "from tqdm import tqdm\n",
    "from scipy.stats import poisson, nbinom\n",
    "import pandas as pd\n",
    "import gym"
   ]
  },
  {
   "cell_type": "markdown",
   "metadata": {},
   "source": [
    "# Parameters and Cost Functions"
   ]
  },
  {
   "cell_type": "code",
   "execution_count": 52,
   "metadata": {},
   "outputs": [],
   "source": [
    "initial_cases = 10\n",
    "\n",
    "# sweep over [0.0 - 1.0]  # based on travel rates\n",
    "imported_cases_per_step = .5  # really, there's a cost to setting this too, if we make it part of the action space\n",
    "imported_cases_per_step_range = np.arange(0.0, 1.0, 0.2)\n",
    "\n",
    "# .97 - .98\n",
    "# .97 ** (6*30 / 4) == 0.25\n",
    "# .98 ** (6*30 / 4) == 0.4\n",
    "#   --> credence assigned to NO vaccine in 6 months\n",
    "#        strikes balance of giving a fair chance of 6 month vaccine; while not giving high chance to vaccine in 2-months\n",
    "discount = 0.99\n",
    "\n",
    "# time step: ~4 days  (1 generation period)\n",
    "num_population = 1000"
   ]
  },
  {
   "cell_type": "code",
   "execution_count": 53,
   "metadata": {},
   "outputs": [
    {
     "data": {
      "text/plain": [
       "array([0. , 0.2, 0.4, 0.6, 0.8])"
      ]
     },
     "execution_count": 53,
     "metadata": {},
     "output_type": "execute_result"
    }
   ],
   "source": [
    "imported_cases_per_step_range"
   ]
  },
  {
   "cell_type": "code",
   "execution_count": 54,
   "metadata": {},
   "outputs": [],
   "source": [
    "# is this really a fair form? \n",
    "# wouldn't keeping everyone home for 6 weeks have some finite cost?\n",
    "\n",
    "# Cost of setting R\n",
    "R_0 = 2.5   # 2.8? #3?  look up; depends on the place\n",
    "\n",
    "# sweep:  [1, 3]\n",
    "power = 2\n",
    "power_range = np.arange(1.0, 3.0, 0.5)\n",
    "\n",
    "# average person's annual economic contribution: $50,000?\n",
    "economic_contribution_annual = 50000\n",
    "economic_contribution_2_weeks = economic_contribution_annual * 2.0 / 52\n",
    "cost_to_keep_half_home = num_population / 2 * economic_contribution_2_weeks\n",
    "\n",
    "# want: cost_of_r(R_0 / 4) == cost_to_keep_half_home\n",
    "# Better: how much economic loss has the US had, to keep R ~= 1\n",
    "# (1/((R_0/4)**power) - 1/(R_0 ** power)) * scale_factor == cost_to_keep_half_home\n",
    "# scale_factor = cost_to_keep_half_home / (1/((R_0/4)**power) - 1/(R_0 ** power))\n",
    "\n",
    "# population of 100,000:\n",
    "# R = 1 for 4 days  ~=  100 people getting sick (25 ppl / day * 4 days)\n",
    "# every 20 days: 500 people sick -> 5 person dead\n",
    "\n",
    "# cost_of_r(1.0) == cost_of_n(100) == cost of 1 death + other bad effects ?= $4,000,000\n",
    "# [1/(1 ** power) - 1/(R_0 ** power)] * scale_factor == 100\n",
    "# scale_factor = 100 / [1 - 1/(R_0 ** power)]\n",
    "\n",
    "scale_factor = 100\n",
    "scale_factor_range = [100, 500, 1000]\n",
    "\n",
    "def cost_of_r(r, power=2, scale_factor=100, **kwargs):\n",
    "    baseline = 1/(R_0 ** power)\n",
    "    actual = 1/(r ** power)\n",
    "    \n",
    "    # cost_to_keep_half_home / (1/((num_population/4)**power) - 1/(R_0 ** power))\n",
    "    \n",
    "    if r >= R_0:\n",
    "        return 0\n",
    "    else:\n",
    "        return (actual - baseline) * scale_factor  # (actual - baseline)\n",
    "    #return actual"
   ]
  },
  {
   "cell_type": "code",
   "execution_count": 55,
   "metadata": {},
   "outputs": [
    {
     "name": "stdout",
     "output_type": "stream",
     "text": [
      "10\n",
      "[0.5 0.6 0.7 0.8 0.9 1.  1.1 1.5 2.  2.5]\n"
     ]
    },
    {
     "data": {
      "image/png": "[encoded data removed]",
      "text/plain": [
       "<Figure size 432x288 with 1 Axes>"
      ]
     },
     "metadata": {
      "needs_background": "light"
     },
     "output_type": "display_data"
    }
   ],
   "source": [
    "rs = np.array([0.1, 0.2, 0.3, 0.4, 0.5, 0.6, 0.7, 0.8, 0.9, 1.0, 1.1, 1.5, 2.0, 2.5])\n",
    "rs = rs[4:]\n",
    "costs_of_r_100 = [cost_of_r(r) for r in rs]\n",
    "costs_of_r_500 = [cost_of_r(r, scale_factor=500) for r in rs]\n",
    "costs_of_r_1000 = [cost_of_r(r, scale_factor=1000) for r in rs]\n",
    "sns.lineplot(x=rs, y=costs_of_r_100)\n",
    "sns.lineplot(x=rs, y=costs_of_r_500)\n",
    "sns.lineplot(x=rs, y=costs_of_r_1000)\n",
    "actions = rs\n",
    "num_actions = len(actions)\n",
    "print(num_actions)\n",
    "print(actions)"
   ]
  },
  {
   "cell_type": "code",
   "execution_count": 56,
   "metadata": {},
   "outputs": [
    {
     "data": {
      "text/plain": [
       "<matplotlib.axes._subplots.AxesSubplot at 0x7f4aacdbc790>"
      ]
     },
     "execution_count": 56,
     "metadata": {},
     "output_type": "execute_result"
    },
    {
     "data": {
      "image/png": "[encoded data removed]",
      "text/plain": [
       "<Figure size 432x288 with 1 Axes>"
      ]
     },
     "metadata": {
      "needs_background": "light"
     },
     "output_type": "display_data"
    }
   ],
   "source": [
    "costs_of_r_power_1 = [cost_of_r(r, power=1) for r in rs]\n",
    "costs_of_r_power_2 = [cost_of_r(r, power=2) for r in rs]\n",
    "costs_of_r_power_3 = [cost_of_r(r, power=3) for r in rs]\n",
    "sns.lineplot(x=rs, y=costs_of_r_power_1)\n",
    "sns.lineplot(x=rs, y=costs_of_r_power_2)\n",
    "sns.lineplot(x=rs, y=costs_of_r_power_3)"
   ]
  },
  {
   "cell_type": "code",
   "execution_count": 57,
   "metadata": {},
   "outputs": [
    {
     "name": "stdout",
     "output_type": "stream",
     "text": [
      "[1.  1.5 2.  2.5]\n",
      "[100, 500, 1000]\n"
     ]
    },
    {
     "data": {
      "image/png": "[encoded data removed]",
      "text/plain": [
       "<Figure size 432x288 with 1 Axes>"
      ]
     },
     "metadata": {
      "needs_background": "light"
     },
     "output_type": "display_data"
    }
   ],
   "source": [
    "for power in power_range:\n",
    "    for scale_factor in scale_factor_range:\n",
    "        costs_of_r = [cost_of_r(r, power=power, scale_factor=scale_factor) for r in rs]\n",
    "        sns.lineplot(x=rs, y=costs_of_r)\n",
    "# sns.lineplot(x=rs, y=costs_of_r_best)\n",
    "print(power_range)\n",
    "print(scale_factor_range)"
   ]
  },
  {
   "cell_type": "raw",
   "metadata": {},
   "source": [
    "rs = np.array([0.1, 0.2, 0.3, 0.4, 0.5, 0.6, 0.7, 0.8, 0.9, 1.0, 1.1, 1.5, 2.0, 2.5])\n",
    "costs_of_r = [cost_of_r(r, scale_factor=500) for r in rs]\n",
    "sns.lineplot(x=rs, y=costs_of_r)\n",
    "actions = rs\n",
    "num_actions = len(actions)\n",
    "print(num_actions)\n",
    "print(actions)"
   ]
  },
  {
   "cell_type": "code",
   "execution_count": 58,
   "metadata": {},
   "outputs": [
    {
     "data": {
      "text/plain": [
       "-9.0"
      ]
     },
     "execution_count": 58,
     "metadata": {},
     "output_type": "execute_result"
    }
   ],
   "source": [
    "cost_of_r(2.5) - cost_of_r(2.0)"
   ]
  },
  {
   "cell_type": "code",
   "execution_count": 59,
   "metadata": {},
   "outputs": [],
   "source": [
    "# Cost of N (number of cases)\n",
    "# assume cost of someone getting sick is $40,000\n",
    "\n",
    "'''fraction_need_hospital = 0.04\n",
    "cost_per_hospital_visit = 50000\n",
    "cost_per_death = 1e6\n",
    "\n",
    "# cost_of_n(n) == n\n",
    "# cost_of_r(1.0) == cost_of_n(100) == 100\n",
    "\n",
    "hospital_capacity = 25 # 5% of population #  20000\n",
    "\n",
    "death_rate_hospital = 0.25\n",
    "death_rate_neglected = 0.9'''\n",
    "\n",
    "\n",
    "def cost_of_n(n, **kwargs):\n",
    "    if n <= 0:\n",
    "        return 0\n",
    "    else:\n",
    "        return n\n",
    "    \n",
    "    '''    num_need_hospital = n * fraction_need_hospital\n",
    "        num_hospital = min(num_need_hospital, hospital_capacity)\n",
    "        num_neglected = num_need_hospital - num_hospital\n",
    "        num_deaths = num_neglected * death_rate_neglected + num_hospital * death_rate_hospital\n",
    "        \n",
    "        return cost_per_hospital_visit * num_hospital + cost_per_death * num_deaths '''"
   ]
  },
  {
   "cell_type": "code",
   "execution_count": 64,
   "metadata": {},
   "outputs": [
    {
     "data": {
      "text/plain": [
       "297"
      ]
     },
     "execution_count": 64,
     "metadata": {},
     "output_type": "execute_result"
    },
    {
     "data": {
      "image/png": "[encoded data removed]",
      "text/plain": [
       "<Figure size 432x288 with 1 Axes>"
      ]
     },
     "metadata": {
      "needs_background": "light"
     },
     "output_type": "display_data"
    }
   ],
   "source": [
    "states_num_infected = sum([list(range(100*i, 100*(i+1), i+1)) for i in range(10)], []) + \\\n",
    "     [1_000]\n",
    "     #sum([list(range(1000*i, 1000*(i+1), (i+1)*10)) for i in range(1, 10)], []) + \\\n",
    "     #sum([list(range(10000*i, 10000*(i+1), (i+1)*100)) for i in range(1, 10)], []) + \\\n",
    "     \n",
    "# #list(range(num_population))\n",
    "costs_of_num_infected = [cost_of_n(n) for n in states_num_infected]\n",
    "sns.lineplot(x=states_num_infected, y=costs_of_num_infected)\n",
    "num_states_num_infected = len(states_num_infected)\n",
    "num_states_num_infected"
   ]
  },
  {
   "cell_type": "markdown",
   "metadata": {},
   "source": [
    "## Immunity"
   ]
  },
  {
   "cell_type": "code",
   "execution_count": 65,
   "metadata": {},
   "outputs": [
    {
     "data": {
      "text/plain": [
       "array([0. , 0.1, 0.2, 0.3, 0.4, 0.5, 0.6, 0.7, 0.8, 0.9, 1. ])"
      ]
     },
     "execution_count": 65,
     "metadata": {},
     "output_type": "execute_result"
    }
   ],
   "source": [
    "states_fraction_susceptible = np.arange(0.0, 1.1, 0.1)\n",
    "states_fraction_susceptible"
   ]
  },
  {
   "cell_type": "code",
   "execution_count": 66,
   "metadata": {},
   "outputs": [
    {
     "data": {
      "text/plain": [
       "11"
      ]
     },
     "execution_count": 66,
     "metadata": {},
     "output_type": "execute_result"
    }
   ],
   "source": [
    "num_states_fraction_susceptible = len(states_fraction_susceptible)\n",
    "num_states_fraction_susceptible"
   ]
  },
  {
   "cell_type": "markdown",
   "metadata": {},
   "source": [
    "## Entire State Space"
   ]
  },
  {
   "cell_type": "code",
   "execution_count": 67,
   "metadata": {},
   "outputs": [
    {
     "data": {
      "text/plain": [
       "3267"
      ]
     },
     "execution_count": 67,
     "metadata": {},
     "output_type": "execute_result"
    }
   ],
   "source": [
    "states = list(itertools.product(states_num_infected, states_fraction_susceptible))\n",
    "num_states = len(states)\n",
    "num_states"
   ]
  },
  {
   "cell_type": "code",
   "execution_count": 68,
   "metadata": {},
   "outputs": [
    {
     "data": {
      "text/plain": [
       "297"
      ]
     },
     "execution_count": 68,
     "metadata": {},
     "output_type": "execute_result"
    }
   ],
   "source": [
    "len(ns)"
   ]
  },
  {
   "cell_type": "markdown",
   "metadata": {},
   "source": [
    "# Bucketing"
   ]
  },
  {
   "cell_type": "code",
   "execution_count": 69,
   "metadata": {},
   "outputs": [
    {
     "data": {
      "text/plain": [
       "[(991, 295),\n",
       " (992, 295),\n",
       " (993, 295),\n",
       " (994, 295),\n",
       " (995, 295),\n",
       " (996, 295),\n",
       " (997, 295),\n",
       " (998, 295),\n",
       " (999, 295),\n",
       " (1000, 296)]"
      ]
     },
     "execution_count": 69,
     "metadata": {},
     "output_type": "execute_result"
    }
   ],
   "source": [
    "lookup = dict([(x, i) for i in range(num_states_num_infected - 1) for x in range(states_num_infected[i], states_num_infected[i+1])] + [(num_population, num_states_num_infected - 1)])\n",
    "\n",
    "def bucket_state_num_infected(num_infected):\n",
    "    if num_infected < 0:\n",
    "        raise Exception('Cannot have negative case count')\n",
    "    elif num_infected in lookup:\n",
    "        return lookup[new_state]\n",
    "    else:\n",
    "        return lookup[num_population]\n",
    "\n",
    "list(lookup.items())[-10:]"
   ]
  },
  {
   "cell_type": "code",
   "execution_count": 70,
   "metadata": {},
   "outputs": [],
   "source": [
    "def find_nearest(array, value):\n",
    "    array = np.asarray(array)\n",
    "    idx = (np.abs(array - value)).argmin()\n",
    "    return array[idx]"
   ]
  },
  {
   "cell_type": "code",
   "execution_count": 72,
   "metadata": {},
   "outputs": [
    {
     "data": {
      "text/plain": [
       "1000"
      ]
     },
     "execution_count": 72,
     "metadata": {},
     "output_type": "execute_result"
    }
   ],
   "source": [
    "find_nearest(states_num_infected, 2329)"
   ]
  },
  {
   "cell_type": "markdown",
   "metadata": {},
   "source": [
    "# Environment Dynamics (State Transition & Reward)"
   ]
  },
  {
   "cell_type": "code",
   "execution_count": 73,
   "metadata": {},
   "outputs": [],
   "source": [
    "recovery_period = 4.0\n",
    "# remain infectious for 4 time steps\n",
    "# 1 time step = 1/2 week\n",
    "# 4 time steps = 2 weeks\n",
    "\n",
    "\n",
    "immunity_period = 24 \n",
    "# immune for 24 time steps (i.e. 12 weeks)"
   ]
  },
  {
   "cell_type": "code",
   "execution_count": 86,
   "metadata": {},
   "outputs": [],
   "source": [
    "def expected_change_in_state(current_state, action, imported_cases_per_step=imported_cases_per_step, **kwargs):\n",
    "    r_effective = action\n",
    "    current_num_infectious, current_fraction_susceptible = current_state\n",
    "    current_num_\n",
    "    \n",
    "    # fraction_susceptible =  # (num_population - current_cases) / num_population\n",
    "    # TODO: may need better way to bound susceptible population,\n",
    "    # to account for immunity\n",
    "    # One option: fraction_susceptible = 1 always, and just bound new_state by num_population\n",
    "\n",
    "    # Better solution: keep track of how many people are susceptible NOW, based on some immunity time\n",
    "    expected_new_cases = (current_num_infectious * r_effective) * current_fraction_susceptible + imported_cases_per_step\n",
    "    expected_num_recovered = current_num_infectious * 1.0 / recovery_period\n",
    "    expected_new_susceptible = current\n",
    "    \n",
    "    return expected_new_cases, expected_num_recovered"
   ]
  },
  {
   "cell_type": "code",
   "execution_count": 87,
   "metadata": {},
   "outputs": [
    {
     "data": {
      "text/plain": [
       "(3495.25, 582.5)"
      ]
     },
     "execution_count": 87,
     "metadata": {},
     "output_type": "execute_result"
    }
   ],
   "source": [
    "expected_change_in_state((2330, 0.75), 2.0, imported_cases_per_step=0.25)"
   ]
  },
  {
   "cell_type": "code",
   "execution_count": 39,
   "metadata": {},
   "outputs": [],
   "source": [
    "def new_state_distribution(state, action, distr_family='poisson', **kwargs):\n",
    "    # distr_family: 'poisson' or 'nbinom'\n",
    "    current_num_infected, current_fraction_susceptible = state\n",
    "    expected_new_cases, expected_num_recovered = expected_change_in_state(state, action, **kwargs)\n",
    "    \n",
    "    if distr_family == 'poisson':\n",
    "        num_infected = poisson(current_num_infected + expected_new_cases - expected_num_recovered)\n",
    "        current_fraction_susceptible = (current_fraction_susceptible * num_population + expected_num_recovered) / num_population\n",
    "    elif distr_family == 'nbinom':\n",
    "        r = 100000000000000.0\n",
    "        p = lam / (r + lam)\n",
    "        return nbinom(r, 1-p)\n",
    "    \n",
    "# mean = pr/(1-p)\n",
    "# = (r(lam)/(r+lam))/(r/(r+lam))\n",
    "# = r*lam/r\n",
    "# = lam"
   ]
  },
  {
   "cell_type": "code",
   "execution_count": 40,
   "metadata": {},
   "outputs": [
    {
     "data": {
      "text/plain": [
       "(4660.516417231975, 4660.516417449178, 4660.0)"
      ]
     },
     "execution_count": 40,
     "metadata": {},
     "output_type": "execute_result"
    }
   ],
   "source": [
    "distribution = new_state_distribution(2330, 2.0, distr_family='nbinom')\n",
    "distribution.mean(), distribution.var(), distribution.median()"
   ]
  },
  {
   "cell_type": "code",
   "execution_count": 41,
   "metadata": {},
   "outputs": [
    {
     "data": {
      "text/plain": [
       "(4660.5, 4660.5, 4660.0)"
      ]
     },
     "execution_count": 41,
     "metadata": {},
     "output_type": "execute_result"
    }
   ],
   "source": [
    "distribution = new_state_distribution(2330, 2.0, distr_family='poisson')\n",
    "distribution.mean(), distribution.var(), distribution.median()"
   ]
  },
  {
   "cell_type": "code",
   "execution_count": 16,
   "metadata": {},
   "outputs": [
    {
     "data": {
      "text/plain": [
       "0.18443092046258014"
      ]
     },
     "execution_count": 16,
     "metadata": {},
     "output_type": "execute_result"
    }
   ],
   "source": [
    "distribution.cdf(4750) - distribution.cdf(4700)"
   ]
  },
  {
   "cell_type": "code",
   "execution_count": 17,
   "metadata": {},
   "outputs": [],
   "source": [
    "def bucketed_distribution(distribution, states):\n",
    "    probs = np.zeros_like(states, dtype=float)\n",
    "    for state_idx in range(num_states - 1):\n",
    "        low_state = states[state_idx]\n",
    "        high_state = states[state_idx + 1]\n",
    "        probs[state_idx] = (distribution.cdf(high_state) - distribution.cdf(low_state))\n",
    "    probs[num_states - 1] = 1 - distribution.cdf(states[num_states - 1])\n",
    "    return probs"
   ]
  },
  {
   "cell_type": "code",
   "execution_count": 18,
   "metadata": {},
   "outputs": [
    {
     "data": {
      "text/plain": [
       "[1.0, 1.0, 1.0, 1.0, 1.0, 1.0, 1.0]"
      ]
     },
     "execution_count": 18,
     "metadata": {},
     "output_type": "execute_result"
    }
   ],
   "source": [
    "bucket_distr = bucketed_distribution(distribution, states)\n",
    "[bucket_distr[bucket_state_index(x)] for x in [4500, 4550, 4600, 4650, 4700, 4750, 4800]]"
   ]
  },
  {
   "cell_type": "code",
   "execution_count": null,
   "metadata": {},
   "outputs": [],
   "source": []
  },
  {
   "cell_type": "code",
   "execution_count": 19,
   "metadata": {},
   "outputs": [],
   "source": [
    "def transition_probabilities(distr_family='nbinom', **kwargs):\n",
    "    transition_probs = np.zeros((num_states, num_actions, num_states))\n",
    "\n",
    "    for state_idx in tqdm(range(num_states)):\n",
    "        for action_idx in range(num_actions):\n",
    "            distribution = new_state_distribution(states[state_idx], actions[action_idx], distr_family=distr_family, **kwargs)\n",
    "            bucket_distr = bucketed_distribution(distribution, states)\n",
    "            transition_probs[state_idx, action_idx] = bucket_distr\n",
    "            #print(len(bucket_distr))\n",
    "            \n",
    "    return transition_probs"
   ]
  },
  {
   "cell_type": "code",
   "execution_count": 20,
   "metadata": {},
   "outputs": [],
   "source": [
    "def reward(state, action, power=power, **kwargs):\n",
    "    n = state\n",
    "    r_effective = action\n",
    "    return -cost_of_n(n, **kwargs) - cost_of_r(r_effective, **kwargs)  # should this be cost_of_n(new_state)?"
   ]
  },
  {
   "cell_type": "code",
   "execution_count": 21,
   "metadata": {},
   "outputs": [],
   "source": [
    "def step(state_idx, action_idx):\n",
    "    # state: number of current cases (discretized)\n",
    "    # action: value of R_effective to set (discretized)\n",
    "    # return: new_state, reward\n",
    "    \n",
    "    distr = new_state_distribution(states[state_idx], actions[action_idx])\n",
    "    new_state = distr.rvs()\n",
    "    \n",
    "    # TODO: change to an actual expectation\n",
    "    # ensure number of infected people does not exceed entire population\n",
    "    new_state = min(new_state, num_population)\n",
    "    new_state_idx = bucket_state_index(new_state)  # discretized case count\n",
    "    \n",
    "    resulting_reward = reward(states[state_idx], actions[action_idx])\n",
    "    \n",
    "    return new_state_idx, resulting_reward"
   ]
  },
  {
   "cell_type": "code",
   "execution_count": 22,
   "metadata": {},
   "outputs": [
    {
     "name": "stdout",
     "output_type": "stream",
     "text": [
      "original state: 320\n",
      "action: 0.3\n",
      "new state:  85\n",
      "reward :  -1415.111111111111\n"
     ]
    }
   ],
   "source": [
    "state_idx = bucket_state_index(322)\n",
    "print(f'original state: {states[state_idx]}')\n",
    "\n",
    "action_idx = 2\n",
    "print(f'action: {actions[action_idx]}')\n",
    "\n",
    "new_state_idx, resulting_reward = step(state_idx, action_idx)\n",
    "print('new state: ', states[new_state_idx])\n",
    "print('reward : ', resulting_reward)"
   ]
  },
  {
   "cell_type": "markdown",
   "metadata": {},
   "source": [
    "## Initial Conditions"
   ]
  },
  {
   "cell_type": "markdown",
   "metadata": {},
   "source": [
    "## Value Iteration"
   ]
  },
  {
   "cell_type": "code",
   "execution_count": 23,
   "metadata": {},
   "outputs": [],
   "source": [
    "def select_action(state_idx, state_values, transition_probs, **kwargs):\n",
    "    rewards = np.zeros_like(actions, dtype=float)\n",
    "    for action_idx in range(len(actions)):\n",
    "        distr = new_state_distribution(states[state_idx], actions[action_idx])\n",
    "        probs = transition_probs[state_idx, action_idx] # bucketed_distribution(distr, states)\n",
    "        \n",
    "        step_reward = reward(states[state_idx], actions[action_idx], **kwargs) \n",
    "        # TODO: in general, this should be coupled with the probability of reaching a given state. \n",
    "        # Here, we've made them independent, because we've made the reward be a function just of the state you're in and the action you take -- not of the next state you end up reaching\n",
    "        \n",
    "        rewards[action_idx] = (probs * (step_reward + state_values * discount)).sum()\n",
    "    best_action_idx = rewards.argmax()\n",
    "    return best_action_idx, rewards[best_action_idx] # action, lifetime value of taking this action"
   ]
  },
  {
   "cell_type": "code",
   "execution_count": 24,
   "metadata": {},
   "outputs": [],
   "source": [
    "def state_value(state_idx, state_values, transition_probs, **kwargs):\n",
    "    best_action, max_reward = select_action(state_idx, state_values, transition_probs, **kwargs)\n",
    "    return max_reward # lifetime value of taking the best action from this state"
   ]
  },
  {
   "cell_type": "code",
   "execution_count": 25,
   "metadata": {},
   "outputs": [],
   "source": [
    "def save_pickle(obj, file_name):\n",
    "    with open(file_name, 'w') as f:\n",
    "        s = pickle.dumps(obj, protocol=0)\n",
    "        f.write(s.decode('latin-1'))"
   ]
  },
  {
   "cell_type": "code",
   "execution_count": 26,
   "metadata": {},
   "outputs": [],
   "source": [
    "def load_pickle(file_name):\n",
    "    with open(file_name, 'r') as f:\n",
    "        s = f.read()\n",
    "        obj = pickle.loads(s.encode('latin-1'))\n",
    "    return obj"
   ]
  },
  {
   "cell_type": "code",
   "execution_count": 27,
   "metadata": {},
   "outputs": [],
   "source": [
    "def compute_best_policy():\n",
    "\n",
    "    epsilon = 1e-3\n",
    "\n",
    "    # Load existing transition probabilities and policy table.\n",
    "    # Compute in any missing values\n",
    "    # Return best policies\n",
    "\n",
    "    distr_family = 'nbinom'\n",
    "    \n",
    "    try:\n",
    "        transition_probs = load_pickle(f'transition_probs_{distr_family}.pickle')\n",
    "        print('Loaded transition_probs')\n",
    "    except:\n",
    "        transition_probs = {}\n",
    "\n",
    "    try:\n",
    "        policy_table = load_pickle('policy_table.pickle')\n",
    "        print('Loaded policy_table')\n",
    "    except:\n",
    "        policy_table = {}\n",
    "\n",
    "\n",
    "    for imported_cases_per_step in tqdm(imported_cases_per_step_range):\n",
    "        # Try using cached transition probabilities:\n",
    "        if imported_cases_per_step not in transition_probs:\n",
    "            transition_probs[imported_cases_per_step] = transition_probabilities(imported_cases_per_step=imported_cases_per_step, distr_family=distr_family)\n",
    "            save_pickle(transition_probs, 'transition_probs.pickle')\n",
    "        else:\n",
    "            print(f'transition_probs already computed for imported_cases_per_step = {imported_cases_per_step}')\n",
    "\n",
    "        for power in tqdm(power_range):\n",
    "            for scale_factor in tqdm(scale_factor_range):\n",
    "\n",
    "                params_obj = {\n",
    "                    'power': power,\n",
    "                    'imported_cases_per_step': imported_cases_per_step,\n",
    "                    'scale_factor': scale_factor\n",
    "                }\n",
    "                kwargs = params_obj\n",
    "                params_key = tuple(params_obj.items())\n",
    "\n",
    "                # Try using cached policy\n",
    "                if params_key in params_obj:\n",
    "                    print('policy already computed for {params_key}')\n",
    "                    continue\n",
    "\n",
    "                state_values = np.random.random(num_states) * -1000 - 1000\n",
    "                best_action_idx = np.zeros_like(state_values)\n",
    "\n",
    "                for i in tqdm(range(100)):\n",
    "                    new_state_values = np.zeros_like(state_values, dtype=float)\n",
    "                    for state_idx in range(num_states):\n",
    "                        best_action_idx[state_idx], new_state_values[state_idx] = select_action(state_idx, state_values, transition_probs[imported_cases_per_step], **kwargs)\n",
    "                    diffs = abs(state_values - new_state_values)\n",
    "                    max_diff = diffs.max()\n",
    "                    print(f'max_diff = {max_diff}')\n",
    "                    state_values = new_state_values\n",
    "                    if max_diff < epsilon:\n",
    "                        print(f'max_diff: {max_diff} < {epsilon}')\n",
    "                        break\n",
    "\n",
    "                result_obj = {\n",
    "                    'best_action_idx': best_action_idx,\n",
    "                    'state_values': state_values\n",
    "                }\n",
    "\n",
    "\n",
    "                policy_table[params_key] = result_obj\n",
    "\n",
    "                save_pickle(policy_table, 'policy_table.pickle')\n",
    "\n",
    "    return policy_table"
   ]
  },
  {
   "cell_type": "code",
   "execution_count": null,
   "metadata": {},
   "outputs": [],
   "source": [
    "policy_table = compute_best_policy()"
   ]
  },
  {
   "cell_type": "markdown",
   "metadata": {},
   "source": [
    "## State Values"
   ]
  },
  {
   "cell_type": "markdown",
   "metadata": {},
   "source": [
    "## Optimal Policies"
   ]
  },
  {
   "cell_type": "code",
   "execution_count": 63,
   "metadata": {},
   "outputs": [],
   "source": [
    "policy_table = load_pickle('policy_table.pickle')"
   ]
  },
  {
   "cell_type": "code",
   "execution_count": 64,
   "metadata": {},
   "outputs": [
    {
     "data": {
      "text/html": [
       "<div>\n",
       "<style scoped>\n",
       "    .dataframe tbody tr th:only-of-type {\n",
       "        vertical-align: middle;\n",
       "    }\n",
       "\n",
       "    .dataframe tbody tr th {\n",
       "        vertical-align: top;\n",
       "    }\n",
       "\n",
       "    .dataframe thead th {\n",
       "        text-align: right;\n",
       "    }\n",
       "</style>\n",
       "<table border=\"1\" class=\"dataframe\">\n",
       "  <thead>\n",
       "    <tr style=\"text-align: right;\">\n",
       "      <th></th>\n",
       "      <th>power</th>\n",
       "      <th>imported_cases_per_step</th>\n",
       "      <th>scale_factor</th>\n",
       "      <th>case_count_n</th>\n",
       "      <th>best_action_r</th>\n",
       "    </tr>\n",
       "  </thead>\n",
       "  <tbody>\n",
       "  </tbody>\n",
       "</table>\n",
       "</div>"
      ],
      "text/plain": [
       "Empty DataFrame\n",
       "Columns: [power, imported_cases_per_step, scale_factor, case_count_n, best_action_r]\n",
       "Index: []"
      ]
     },
     "execution_count": 64,
     "metadata": {},
     "output_type": "execute_result"
    }
   ],
   "source": [
    "df = pd.DataFrame(columns=['power', 'imported_cases_per_step', 'scale_factor', 'case_count_n', 'best_action_r'])\n",
    "df"
   ]
  },
  {
   "cell_type": "code",
   "execution_count": 65,
   "metadata": {},
   "outputs": [],
   "source": [
    "for key in policy_table:\n",
    "    best_action_idx = policy_table[key]['best_action_idx']\n",
    "    for (state_idx, action_idx) in enumerate(best_action_idx):\n",
    "        key_dict = dict(key)\n",
    "        key_dict['case_count_n'] = states[state_idx]\n",
    "        key_dict['best_action_r'] = actions[int(action_idx)]\n",
    "        df.loc[len(df)] = key_dict"
   ]
  },
  {
   "cell_type": "code",
   "execution_count": 69,
   "metadata": {},
   "outputs": [],
   "source": [
    "df.to_csv('policy_table.csv')"
   ]
  },
  {
   "cell_type": "code",
   "execution_count": 122,
   "metadata": {},
   "outputs": [
    {
     "name": "stderr",
     "output_type": "stream",
     "text": [
      "<ipython-input-122-ea931ece3d65>:1: UserWarning: Boolean Series key will be reindexed to match DataFrame index.\n",
      "  df[df['power'] == 1][df['imported_cases_per_step'] == 0][df['scale_factor'] == 100]\n"
     ]
    },
    {
     "data": {
      "text/html": [
       "<div>\n",
       "<style scoped>\n",
       "    .dataframe tbody tr th:only-of-type {\n",
       "        vertical-align: middle;\n",
       "    }\n",
       "\n",
       "    .dataframe tbody tr th {\n",
       "        vertical-align: top;\n",
       "    }\n",
       "\n",
       "    .dataframe thead th {\n",
       "        text-align: right;\n",
       "    }\n",
       "</style>\n",
       "<table border=\"1\" class=\"dataframe\">\n",
       "  <thead>\n",
       "    <tr style=\"text-align: right;\">\n",
       "      <th></th>\n",
       "      <th>power</th>\n",
       "      <th>imported_cases_per_step</th>\n",
       "      <th>scale_factor</th>\n",
       "      <th>case_count_n</th>\n",
       "      <th>best_action_r</th>\n",
       "    </tr>\n",
       "  </thead>\n",
       "  <tbody>\n",
       "    <tr>\n",
       "      <th>1</th>\n",
       "      <td>1</td>\n",
       "      <td>0</td>\n",
       "      <td>100</td>\n",
       "      <td>0</td>\n",
       "      <td>0.1</td>\n",
       "    </tr>\n",
       "    <tr>\n",
       "      <th>2</th>\n",
       "      <td>1</td>\n",
       "      <td>0</td>\n",
       "      <td>100</td>\n",
       "      <td>1</td>\n",
       "      <td>1.1</td>\n",
       "    </tr>\n",
       "    <tr>\n",
       "      <th>3</th>\n",
       "      <td>1</td>\n",
       "      <td>0</td>\n",
       "      <td>100</td>\n",
       "      <td>2</td>\n",
       "      <td>1</td>\n",
       "    </tr>\n",
       "    <tr>\n",
       "      <th>4</th>\n",
       "      <td>1</td>\n",
       "      <td>0</td>\n",
       "      <td>100</td>\n",
       "      <td>3</td>\n",
       "      <td>0.9</td>\n",
       "    </tr>\n",
       "    <tr>\n",
       "      <th>5</th>\n",
       "      <td>1</td>\n",
       "      <td>0</td>\n",
       "      <td>100</td>\n",
       "      <td>4</td>\n",
       "      <td>0.9</td>\n",
       "    </tr>\n",
       "    <tr>\n",
       "      <th>...</th>\n",
       "      <td>...</td>\n",
       "      <td>...</td>\n",
       "      <td>...</td>\n",
       "      <td>...</td>\n",
       "      <td>...</td>\n",
       "    </tr>\n",
       "    <tr>\n",
       "      <th>293</th>\n",
       "      <td>1</td>\n",
       "      <td>0</td>\n",
       "      <td>100</td>\n",
       "      <td>960</td>\n",
       "      <td>0.4</td>\n",
       "    </tr>\n",
       "    <tr>\n",
       "      <th>294</th>\n",
       "      <td>1</td>\n",
       "      <td>0</td>\n",
       "      <td>100</td>\n",
       "      <td>970</td>\n",
       "      <td>0.4</td>\n",
       "    </tr>\n",
       "    <tr>\n",
       "      <th>295</th>\n",
       "      <td>1</td>\n",
       "      <td>0</td>\n",
       "      <td>100</td>\n",
       "      <td>980</td>\n",
       "      <td>0.4</td>\n",
       "    </tr>\n",
       "    <tr>\n",
       "      <th>296</th>\n",
       "      <td>1</td>\n",
       "      <td>0</td>\n",
       "      <td>100</td>\n",
       "      <td>990</td>\n",
       "      <td>0.4</td>\n",
       "    </tr>\n",
       "    <tr>\n",
       "      <th>297</th>\n",
       "      <td>1</td>\n",
       "      <td>0</td>\n",
       "      <td>100</td>\n",
       "      <td>1000</td>\n",
       "      <td>0.4</td>\n",
       "    </tr>\n",
       "  </tbody>\n",
       "</table>\n",
       "<p>297 rows × 5 columns</p>\n",
       "</div>"
      ],
      "text/plain": [
       "    power imported_cases_per_step scale_factor case_count_n best_action_r\n",
       "1       1                       0          100            0           0.1\n",
       "2       1                       0          100            1           1.1\n",
       "3       1                       0          100            2             1\n",
       "4       1                       0          100            3           0.9\n",
       "5       1                       0          100            4           0.9\n",
       "..    ...                     ...          ...          ...           ...\n",
       "293     1                       0          100          960           0.4\n",
       "294     1                       0          100          970           0.4\n",
       "295     1                       0          100          980           0.4\n",
       "296     1                       0          100          990           0.4\n",
       "297     1                       0          100         1000           0.4\n",
       "\n",
       "[297 rows x 5 columns]"
      ]
     },
     "execution_count": 122,
     "metadata": {},
     "output_type": "execute_result"
    }
   ],
   "source": [
    "df[df['power'] == 1][df['imported_cases_per_step'] == 0][df['scale_factor'] == 100]"
   ]
  },
  {
   "cell_type": "markdown",
   "metadata": {},
   "source": [
    "### Policy Plots..."
   ]
  },
  {
   "cell_type": "code",
   "execution_count": 59,
   "metadata": {},
   "outputs": [],
   "source": [
    "def plot_policy(best_action_idx):\n",
    "    ax = sns.barplot(list(range(num_states)),\n",
    "                [actions[int(best_action_idx[n])] for n in range(num_states)])\n",
    "    # ax.set(xlabel='common xlabel', ylabel='common ylabel')\n",
    "    ax.set_xticks(range(int(len(states) / 1)))\n",
    "    ax.set_xticklabels([state for i, state in enumerate(states) if i % 1 == 0])\n",
    "    plt.show()\n",
    "\n",
    "def print_policy_short(best_action_idx):\n",
    "    d1 = {\n",
    "        states[state_idx]: actions[int(action_idx)]\n",
    "        for state_idx, action_idx in enumerate(best_action_idx)\n",
    "        if (state_idx < 10)\n",
    "    }\n",
    "    d2 = {\n",
    "        states[state_idx]: actions[int(action_idx)]\n",
    "        for state_idx, action_idx in enumerate(best_action_idx)\n",
    "        if (state_idx > len(best_action_idx) - 10)\n",
    "    }\n",
    "    print(d1)\n",
    "    print('...')\n",
    "    print(d2)"
   ]
  },
  {
   "cell_type": "code",
   "execution_count": null,
   "metadata": {},
   "outputs": [],
   "source": [
    "for key, value in list(policy_table.items()):\n",
    "    best_action_idx = value['best_action_idx']\n",
    "    print('=' * 100)\n",
    "    print(key)\n",
    "    print_policy_short(best_action_idx)\n",
    "    plot_policy(best_action_idx)"
   ]
  },
  {
   "cell_type": "code",
   "execution_count": null,
   "metadata": {},
   "outputs": [],
   "source": [
    "#sns.barplot(list(range(num_population)),\n",
    "#            [state_values[bucket_state_index(n)] for n in range(num_population)])\n",
    "\n",
    "sns.barplot(list(range(num_states)),\n",
    "            [state_values[state_idx] for state_idx in range(num_states)])"
   ]
  },
  {
   "cell_type": "code",
   "execution_count": null,
   "metadata": {},
   "outputs": [],
   "source": [
    "state_values.dtype"
   ]
  },
  {
   "cell_type": "markdown",
   "metadata": {},
   "source": [
    "## State Actions"
   ]
  },
  {
   "cell_type": "code",
   "execution_count": null,
   "metadata": {},
   "outputs": [],
   "source": [
    "#sns.barplot(list(range(num_population)),\n",
    "#            [actions[best_action_idx[bucket_state_index(n)]] for n in range(num_population)])\n",
    "\n",
    "sns.barplot(list(range(num_states)),\n",
    "            [actions[int(best_action_idx[n])] for n in range(num_states)])"
   ]
  },
  {
   "cell_type": "code",
   "execution_count": null,
   "metadata": {},
   "outputs": [],
   "source": [
    "{states[i]: actions[int(idx)] for i, idx in enumerate(best_action_idx)}"
   ]
  },
  {
   "cell_type": "code",
   "execution_count": null,
   "metadata": {},
   "outputs": [],
   "source": [
    "# Roll-Out Using Optimal Policy\n",
    "\n",
    "initial_cases = 100\n",
    "current_state_idx = bucket_state_index(initial_cases)\n",
    "total_reward = 0\n",
    "current_discount = 1\n",
    "\n",
    "action_history = []\n",
    "state_history = [current_state_idx]\n",
    "\n",
    "for i in tqdm(range(100)):\n",
    "    action_idx = int(best_action_idx[current_state_idx])\n",
    "    new_state_idx, new_reward = step(current_state_idx, action_idx)\n",
    "    total_reward += new_reward * current_discount\n",
    "    \n",
    "    current_state_idx = new_state_idx\n",
    "    current_discount *= discount\n",
    "    \n",
    "    action_history.append(actions[action_idx])\n",
    "    state_history.append(states[current_state_idx])"
   ]
  },
  {
   "cell_type": "code",
   "execution_count": null,
   "metadata": {},
   "outputs": [],
   "source": [
    "total_reward"
   ]
  },
  {
   "cell_type": "code",
   "execution_count": null,
   "metadata": {},
   "outputs": [],
   "source": []
  },
  {
   "cell_type": "markdown",
   "metadata": {},
   "source": [
    "### Attempt at facet plots..."
   ]
  },
  {
   "cell_type": "code",
   "execution_count": 123,
   "metadata": {},
   "outputs": [],
   "source": [
    "sns.set(style=\"ticks\")"
   ]
  },
  {
   "cell_type": "code",
   "execution_count": null,
   "metadata": {},
   "outputs": [],
   "source": [
    "g = sns.FacetGrid(df[df['scale_factor'] == 100], col=\"imported_cases_per_step\", row='power')\n",
    "g.map(sns.barplot, 'case_count_n', 'best_action_r')\n",
    "g.add_legend()\n",
    "plt.show()"
   ]
  },
  {
   "cell_type": "code",
   "execution_count": 128,
   "metadata": {},
   "outputs": [
    {
     "data": {
      "text/plain": [
       "<seaborn.axisgrid.FacetGrid at 0x7f35932da070>"
      ]
     },
     "execution_count": 128,
     "metadata": {},
     "output_type": "execute_result"
    }
   ],
   "source": [
    "g = sns.relplot(x=\"case_count_n\", y=\"best_action_r\",\n",
    "                hue=\"day\", col=\"time\", data=)"
   ]
  },
  {
   "cell_type": "code",
   "execution_count": 129,
   "metadata": {},
   "outputs": [],
   "source": [
    "plt.show()"
   ]
  },
  {
   "cell_type": "markdown",
   "metadata": {},
   "source": [
    "# Roll-Outs"
   ]
  },
  {
   "cell_type": "markdown",
   "metadata": {},
   "source": [
    "## Case Counts"
   ]
  },
  {
   "cell_type": "code",
   "execution_count": null,
   "metadata": {},
   "outputs": [],
   "source": [
    "sns.barplot(x=list(range(len(state_history))), y=state_history)"
   ]
  },
  {
   "cell_type": "markdown",
   "metadata": {},
   "source": [
    "## R(t)"
   ]
  },
  {
   "cell_type": "code",
   "execution_count": null,
   "metadata": {},
   "outputs": [],
   "source": [
    "sns.barplot(x=list(range(len(action_history))), y=action_history)"
   ]
  },
  {
   "cell_type": "code",
   "execution_count": null,
   "metadata": {},
   "outputs": [],
   "source": []
  }
 ],
 "metadata": {
  "kernelspec": {
   "display_name": "Python 3",
   "language": "python",
   "name": "python3"
  },
  "language_info": {
   "codemirror_mode": {
    "name": "ipython",
    "version": 3
   },
   "file_extension": ".py",
   "mimetype": "text/x-python",
   "name": "python",
   "nbconvert_exporter": "python",
   "pygments_lexer": "ipython3",
   "version": "3.8.2"
  }
 },
 "nbformat": 4,
 "nbformat_minor": 4
}
