{
 "cells": [
  {
   "cell_type": "code",
   "execution_count": 1,
   "metadata": {},
   "outputs": [],
   "source": [
    "import gym\n",
    "from scipy.stats import nbinom, poisson"
   ]
  },
  {
   "cell_type": "code",
   "execution_count": 2,
   "metadata": {},
   "outputs": [],
   "source": [
    "import gym_pandemic\n",
    "from utils import load_pickle, save_pickle"
   ]
  },
  {
   "cell_type": "code",
   "execution_count": 3,
   "metadata": {},
   "outputs": [
    {
     "data": {
      "text/plain": [
       "<gym_pandemic.envs.pandemic_env.PandemicEnv at 0x7f402df31c10>"
      ]
     },
     "execution_count": 3,
     "metadata": {},
     "output_type": "execute_result"
    }
   ],
   "source": [
    "env = gym.make('pandemic-v0')\n",
    "env.reset()\n",
    "env"
   ]
  },
  {
   "cell_type": "code",
   "execution_count": 4,
   "metadata": {},
   "outputs": [],
   "source": [
    "from pathlib import Path\n",
    "\n",
    "path = Path('lookup_tables/transitions/transition_probs_distr=nbinom,imported_cases_per_step=0.5,num_states=1000,num_actions=15,dynamics=SIS,time_lumping=False.pickle')\n",
    "save_pickle(None, path)"
   ]
  },
  {
   "cell_type": "code",
   "execution_count": 5,
   "metadata": {},
   "outputs": [
    {
     "data": {
      "text/plain": [
       "[0.00031056089812003264,\n",
       " 0.00043740971566200046,\n",
       " 0.0006075134939750058,\n",
       " 0.0008322102657191746,\n",
       " 0.0011246084671881129,\n",
       " 0.0014994779562508263,\n",
       " 0.001972997310856288,\n",
       " 0.0025623341699431727,\n",
       " 0.0032850438076196956,\n",
       " 0.004158283300784534,\n",
       " 0.005197854125980293,\n",
       " 0.006417103859234868,\n",
       " 0.00782573641370072,\n",
       " 0.009428598088796952,\n",
       " 0.011224521534282075,\n",
       " 0.01320531945209642,\n",
       " 0.015355022618717434,\n",
       " 0.01764945128588105,\n",
       " 0.020056194643046827,\n",
       " 0.02253505016072871,\n",
       " 0.025038944623030353,\n",
       " 0.027515323761569687,\n",
       " 0.02990796061040264,\n",
       " 0.03215909743054122,\n",
       " 0.03421180577717162,\n",
       " 0.03601242713386734,\n",
       " 0.037512944931108703,\n",
       " 0.03867313910423476,\n",
       " 0.03946238684105882,\n",
       " 0.03986099680914883,\n",
       " 0.03986099680914883,\n",
       " 0.03946633347440798,\n",
       " 0.03869248379843617,\n",
       " 0.037565518250909646,\n",
       " 0.036120690625877125,\n",
       " 0.03440065773892912,\n",
       " 0.03245345069710288,\n",
       " 0.030330327754301917,\n",
       " 0.028083636809538366,\n",
       " 0.025764804412418706,\n",
       " 0.023422549465837085,\n",
       " 0.021101395915168766,\n",
       " 0.01884053206711269,\n",
       " 0.016673037227533445,\n",
       " 0.014625471252224001,\n",
       " 0.01271780108889097,\n",
       " 0.010963621628353562,\n",
       " 0.009370616776370234,\n",
       " 0.00794120065794066,\n",
       " 0.006673277863815663,\n",
       " 0.005561064886513308,\n",
       " 0.004595921393812872,\n",
       " 0.003767148683453352,\n",
       " 0.003062722506872176,\n",
       " 0.0024699375055419795,\n",
       " 0.0019759500044337257,\n",
       " 0.0015682142892332988,\n",
       " 0.0012348144009711505,\n",
       " 0.0009646987507586254,\n",
       " 0.0007478284889601679]"
      ]
     },
     "execution_count": 5,
     "metadata": {},
     "output_type": "execute_result"
    }
   ],
   "source": [
    "[poisson(100).pmf(i) for i in range(70, 130)]"
   ]
  },
  {
   "cell_type": "code",
   "execution_count": null,
   "metadata": {},
   "outputs": [],
   "source": []
  }
 ],
 "metadata": {
  "kernelspec": {
   "display_name": "Python 3",
   "language": "python",
   "name": "python3"
  },
  "language_info": {
   "codemirror_mode": {
    "name": "ipython",
    "version": 3
   },
   "file_extension": ".py",
   "mimetype": "text/x-python",
   "name": "python",
   "nbconvert_exporter": "python",
   "pygments_lexer": "ipython3",
   "version": "3.8.2"
  }
 },
 "nbformat": 4,
 "nbformat_minor": 4
}
