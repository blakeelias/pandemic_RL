{
 "cells": [
  {
   "cell_type": "code",
   "execution_count": 1,
   "metadata": {},
   "outputs": [],
   "source": [
    "from pdb import set_trace as b\n",
    "\n",
    "from main import main\n",
    "from train import train_environment\n",
    "from test import test_environment"
   ]
  },
  {
   "cell_type": "code",
   "execution_count": 2,
   "metadata": {},
   "outputs": [
    {
     "name": "stderr",
     "output_type": "stream",
     "text": [
      "No traceback available to show.\n"
     ]
    }
   ],
   "source": [
    "%tb"
   ]
  },
  {
   "cell_type": "code",
   "execution_count": null,
   "metadata": {},
   "outputs": [],
   "source": []
  },
  {
   "cell_type": "code",
   "execution_count": null,
   "metadata": {},
   "outputs": [
    {
     "name": "stderr",
     "output_type": "stream",
     "text": [
      "  0%|          | 0/1 [00:00<?, ?it/s]\n",
      "  0%|          | 0/1112 [00:00<?, ?it/s]\u001b[A\n",
      "  0%|          | 2/1112 [00:00<01:38, 11.32it/s]\u001b[A"
     ]
    },
    {
     "name": "stdout",
     "output_type": "stream",
     "text": [
      "Computing transition probabilities\n"
     ]
    },
    {
     "name": "stderr",
     "output_type": "stream",
     "text": [
      "\n",
      "  0%|          | 4/1112 [00:00<01:38, 11.23it/s]\u001b[A\n",
      "  1%|          | 6/1112 [00:00<01:38, 11.23it/s]\u001b[A\n",
      "  1%|          | 8/1112 [00:00<01:38, 11.21it/s]\u001b[A\n",
      "  1%|          | 10/1112 [00:00<01:37, 11.26it/s]\u001b[A\n",
      "  1%|          | 12/1112 [00:01<01:38, 11.11it/s]\u001b[A\n",
      "  1%|▏         | 14/1112 [00:01<01:38, 11.10it/s]\u001b[A\n",
      "  1%|▏         | 16/1112 [00:01<01:39, 11.05it/s]\u001b[A\n",
      "  2%|▏         | 18/1112 [00:01<01:38, 11.06it/s]\u001b[A\n",
      "  2%|▏         | 20/1112 [00:01<01:39, 11.00it/s]\u001b[A\n",
      "  2%|▏         | 22/1112 [00:01<01:38, 11.01it/s]\u001b[A\n",
      "  2%|▏         | 24/1112 [00:02<01:38, 11.00it/s]\u001b[A\n",
      "  2%|▏         | 26/1112 [00:02<01:39, 10.92it/s]\u001b[A\n",
      "  3%|▎         | 28/1112 [00:02<01:39, 10.88it/s]\u001b[A\n",
      "  3%|▎         | 30/1112 [00:02<01:44, 10.40it/s]\u001b[A\n",
      "  3%|▎         | 32/1112 [00:02<01:42, 10.57it/s]\u001b[A\n",
      "  3%|▎         | 34/1112 [00:03<01:42, 10.55it/s]\u001b[A\n",
      "  3%|▎         | 36/1112 [00:03<01:41, 10.59it/s]\u001b[A\n",
      "  3%|▎         | 38/1112 [00:03<01:40, 10.70it/s]\u001b[A\n",
      "  4%|▎         | 40/1112 [00:03<01:38, 10.85it/s]\u001b[A\n",
      "  4%|▍         | 42/1112 [00:03<01:38, 10.87it/s]\u001b[A\n",
      "  4%|▍         | 44/1112 [00:04<01:37, 10.90it/s]\u001b[A\n",
      "  4%|▍         | 46/1112 [00:04<01:38, 10.85it/s]\u001b[A\n",
      "  4%|▍         | 48/1112 [00:04<01:37, 10.91it/s]\u001b[A\n",
      "  4%|▍         | 50/1112 [00:04<01:37, 10.94it/s]\u001b[A\n",
      "  5%|▍         | 52/1112 [00:04<01:37, 10.86it/s]\u001b[A\n",
      "  5%|▍         | 54/1112 [00:04<01:37, 10.91it/s]\u001b[A\n",
      "  5%|▌         | 56/1112 [00:05<01:37, 10.88it/s]\u001b[A\n",
      "  5%|▌         | 58/1112 [00:05<01:36, 10.93it/s]\u001b[A\n",
      "  5%|▌         | 60/1112 [00:05<01:36, 10.87it/s]\u001b[A\n",
      "  6%|▌         | 62/1112 [00:05<01:36, 10.93it/s]\u001b[A\n",
      "  6%|▌         | 64/1112 [00:05<01:35, 10.97it/s]\u001b[A\n",
      "  6%|▌         | 66/1112 [00:06<01:35, 10.96it/s]\u001b[A\n",
      "  6%|▌         | 68/1112 [00:06<01:36, 10.87it/s]\u001b[A\n",
      "  6%|▋         | 70/1112 [00:06<01:35, 10.91it/s]\u001b[A\n",
      "  6%|▋         | 72/1112 [00:06<01:35, 10.84it/s]\u001b[A\n",
      "  7%|▋         | 74/1112 [00:06<01:35, 10.85it/s]\u001b[A\n",
      "  7%|▋         | 76/1112 [00:06<01:35, 10.89it/s]\u001b[A\n",
      "  7%|▋         | 78/1112 [00:07<01:35, 10.86it/s]\u001b[A\n",
      "  7%|▋         | 80/1112 [00:07<01:33, 11.01it/s]\u001b[A\n",
      "  7%|▋         | 82/1112 [00:07<01:33, 11.06it/s]\u001b[A\n",
      "  8%|▊         | 84/1112 [00:07<01:32, 11.09it/s]\u001b[A\n",
      "  8%|▊         | 86/1112 [00:07<01:32, 11.10it/s]\u001b[A\n",
      "  8%|▊         | 88/1112 [00:08<01:32, 11.07it/s]\u001b[A\n",
      "  8%|▊         | 90/1112 [00:08<01:31, 11.16it/s]\u001b[A\n",
      "  8%|▊         | 92/1112 [00:08<01:30, 11.24it/s]\u001b[A\n",
      "  8%|▊         | 94/1112 [00:08<01:30, 11.28it/s]\u001b[A\n",
      "  9%|▊         | 96/1112 [00:08<01:30, 11.28it/s]\u001b[A\n",
      "  9%|▉         | 98/1112 [00:08<01:32, 10.94it/s]\u001b[A\n",
      "  9%|▉         | 100/1112 [00:09<01:31, 11.05it/s]\u001b[A\n",
      "  9%|▉         | 102/1112 [00:09<01:30, 11.16it/s]\u001b[A\n",
      "  9%|▉         | 104/1112 [00:09<01:30, 11.17it/s]\u001b[A\n",
      " 10%|▉         | 106/1112 [00:09<01:29, 11.18it/s]\u001b[A\n",
      " 10%|▉         | 108/1112 [00:09<01:30, 11.14it/s]\u001b[A\n",
      " 10%|▉         | 110/1112 [00:10<01:27, 11.40it/s]\u001b[A\n",
      " 10%|█         | 112/1112 [00:10<01:27, 11.38it/s]\u001b[A\n",
      " 10%|█         | 114/1112 [00:10<01:28, 11.25it/s]\u001b[A\n",
      " 10%|█         | 116/1112 [00:10<01:28, 11.25it/s]\u001b[A\n",
      " 11%|█         | 118/1112 [00:10<01:28, 11.25it/s]\u001b[A\n",
      " 11%|█         | 120/1112 [00:10<01:27, 11.29it/s]\u001b[A\n",
      " 11%|█         | 122/1112 [00:11<01:27, 11.37it/s]\u001b[A\n",
      " 11%|█         | 124/1112 [00:11<01:27, 11.33it/s]\u001b[A\n",
      " 11%|█▏        | 126/1112 [00:11<01:26, 11.35it/s]\u001b[A\n",
      " 12%|█▏        | 128/1112 [00:11<01:27, 11.29it/s]\u001b[A\n",
      " 12%|█▏        | 130/1112 [00:11<01:26, 11.37it/s]\u001b[A\n",
      " 12%|█▏        | 132/1112 [00:11<01:23, 11.70it/s]\u001b[A\n",
      " 12%|█▏        | 134/1112 [00:12<01:24, 11.57it/s]\u001b[A\n",
      " 12%|█▏        | 136/1112 [00:12<01:24, 11.51it/s]\u001b[A\n",
      " 12%|█▏        | 138/1112 [00:12<01:25, 11.42it/s]\u001b[A\n",
      " 13%|█▎        | 140/1112 [00:12<01:25, 11.31it/s]\u001b[A\n",
      " 13%|█▎        | 142/1112 [00:12<01:24, 11.50it/s]\u001b[A\n",
      " 13%|█▎        | 144/1112 [00:12<01:23, 11.59it/s]\u001b[A\n",
      " 13%|█▎        | 146/1112 [00:13<01:24, 11.37it/s]\u001b[A\n",
      " 13%|█▎        | 148/1112 [00:13<01:24, 11.36it/s]\u001b[A\n",
      " 13%|█▎        | 150/1112 [00:13<01:24, 11.32it/s]\u001b[A\n",
      " 14%|█▎        | 152/1112 [00:13<01:22, 11.64it/s]\u001b[A\n",
      " 14%|█▍        | 154/1112 [00:13<01:20, 11.93it/s]\u001b[A\n",
      " 14%|█▍        | 156/1112 [00:14<01:21, 11.77it/s]\u001b[A\n",
      " 14%|█▍        | 158/1112 [00:14<01:22, 11.62it/s]\u001b[A\n",
      " 14%|█▍        | 160/1112 [00:14<01:22, 11.51it/s]\u001b[A\n",
      " 15%|█▍        | 162/1112 [00:14<01:21, 11.64it/s]\u001b[A\n",
      " 15%|█▍        | 164/1112 [00:14<01:19, 11.98it/s]\u001b[A\n",
      " 15%|█▍        | 166/1112 [00:14<01:18, 12.06it/s]\u001b[A\n",
      " 15%|█▌        | 168/1112 [00:15<01:19, 11.85it/s]\u001b[A\n",
      " 15%|█▌        | 170/1112 [00:15<01:20, 11.69it/s]\u001b[A\n",
      " 15%|█▌        | 172/1112 [00:15<01:20, 11.62it/s]\u001b[A\n",
      " 16%|█▌        | 174/1112 [00:15<01:18, 11.90it/s]\u001b[A\n",
      " 16%|█▌        | 176/1112 [00:15<01:15, 12.41it/s]\u001b[A\n",
      " 16%|█▌        | 178/1112 [00:15<01:18, 11.91it/s]\u001b[A\n",
      " 16%|█▌        | 180/1112 [00:16<01:20, 11.65it/s]\u001b[A\n",
      " 16%|█▋        | 182/1112 [00:16<01:22, 11.31it/s]\u001b[A\n",
      " 17%|█▋        | 184/1112 [00:16<01:21, 11.42it/s]\u001b[A\n",
      " 17%|█▋        | 186/1112 [00:16<01:17, 11.97it/s]\u001b[A\n",
      " 17%|█▋        | 188/1112 [00:16<01:16, 12.14it/s]\u001b[A\n",
      " 17%|█▋        | 190/1112 [00:16<01:18, 11.80it/s]\u001b[A\n",
      " 17%|█▋        | 192/1112 [00:17<01:18, 11.66it/s]\u001b[A\n",
      " 17%|█▋        | 194/1112 [00:17<01:17, 11.89it/s]\u001b[A\n",
      " 18%|█▊        | 196/1112 [00:17<01:14, 12.33it/s]\u001b[A\n",
      " 18%|█▊        | 198/1112 [00:17<01:11, 12.79it/s]\u001b[A\n",
      " 18%|█▊        | 200/1112 [00:17<01:14, 12.31it/s]\u001b[A\n",
      " 18%|█▊        | 202/1112 [00:17<01:16, 11.83it/s]\u001b[A\n",
      " 18%|█▊        | 204/1112 [00:18<01:16, 11.80it/s]\u001b[A\n",
      " 19%|█▊        | 206/1112 [00:18<01:15, 12.01it/s]\u001b[A\n",
      " 19%|█▊        | 208/1112 [00:18<01:11, 12.56it/s]\u001b[A\n",
      " 19%|█▉        | 210/1112 [00:18<01:10, 12.71it/s]\u001b[A\n",
      " 19%|█▉        | 212/1112 [00:18<01:13, 12.23it/s]\u001b[A\n",
      " 19%|█▉        | 214/1112 [00:18<01:16, 11.79it/s]\u001b[A\n",
      " 19%|█▉        | 216/1112 [00:19<01:15, 11.94it/s]\u001b[A\n",
      " 20%|█▉        | 218/1112 [00:19<01:12, 12.33it/s]\u001b[A\n",
      " 20%|█▉        | 220/1112 [00:19<01:07, 13.18it/s]\u001b[A\n",
      " 20%|█▉        | 222/1112 [00:19<01:11, 12.48it/s]\u001b[A\n",
      " 20%|██        | 224/1112 [00:19<01:13, 12.00it/s]\u001b[A\n",
      " 20%|██        | 226/1112 [00:19<01:16, 11.63it/s]\u001b[A\n",
      " 21%|██        | 228/1112 [00:20<01:12, 12.15it/s]\u001b[A\n",
      " 21%|██        | 230/1112 [00:20<01:09, 12.72it/s]\u001b[A\n",
      " 21%|██        | 232/1112 [00:20<01:08, 12.93it/s]\u001b[A\n",
      " 21%|██        | 234/1112 [00:20<01:10, 12.40it/s]\u001b[A\n",
      " 21%|██        | 236/1112 [00:20<01:13, 11.98it/s]\u001b[A\n",
      " 21%|██▏       | 238/1112 [00:20<01:12, 12.07it/s]\u001b[A\n",
      " 22%|██▏       | 240/1112 [00:20<01:08, 12.72it/s]\u001b[A\n",
      " 22%|██▏       | 242/1112 [00:21<01:02, 13.88it/s]\u001b[A\n",
      " 22%|██▏       | 244/1112 [00:21<01:06, 13.04it/s]\u001b[A\n",
      " 22%|██▏       | 246/1112 [00:21<01:10, 12.35it/s]\u001b[A\n",
      " 22%|██▏       | 248/1112 [00:21<01:10, 12.30it/s]\u001b[A\n",
      " 22%|██▏       | 250/1112 [00:21<01:08, 12.65it/s]\u001b[A\n",
      " 23%|██▎       | 252/1112 [00:21<01:03, 13.45it/s]\u001b[A\n",
      " 23%|██▎       | 254/1112 [00:22<01:03, 13.56it/s]\u001b[A\n",
      " 23%|██▎       | 256/1112 [00:22<01:07, 12.72it/s]\u001b[A\n",
      " 23%|██▎       | 258/1112 [00:22<01:08, 12.38it/s]\u001b[A\n",
      " 23%|██▎       | 260/1112 [00:22<01:07, 12.70it/s]\u001b[A\n",
      " 24%|██▎       | 262/1112 [00:22<01:03, 13.42it/s]\u001b[A\n",
      " 24%|██▎       | 264/1112 [00:22<00:57, 14.82it/s]\u001b[A\n",
      " 24%|██▍       | 266/1112 [00:22<01:03, 13.36it/s]\u001b[A\n",
      " 24%|██▍       | 268/1112 [00:23<01:07, 12.59it/s]\u001b[A\n",
      " 24%|██▍       | 270/1112 [00:23<01:07, 12.44it/s]\u001b[A\n",
      " 24%|██▍       | 272/1112 [00:23<01:05, 12.90it/s]\u001b[A\n",
      " 25%|██▍       | 274/1112 [00:23<01:01, 13.72it/s]\u001b[A\n",
      " 25%|██▍       | 276/1112 [00:23<00:59, 13.94it/s]\u001b[A\n",
      " 25%|██▌       | 278/1112 [00:23<01:04, 12.97it/s]\u001b[A\n",
      " 25%|██▌       | 280/1112 [00:24<01:06, 12.53it/s]\u001b[A\n",
      " 25%|██▌       | 282/1112 [00:24<01:04, 12.77it/s]\u001b[A\n",
      " 26%|██▌       | 284/1112 [00:24<01:01, 13.51it/s]\u001b[A\n",
      " 26%|██▌       | 287/1112 [00:24<00:57, 14.25it/s]\u001b[A\n",
      " 26%|██▌       | 289/1112 [00:24<01:02, 13.24it/s]\u001b[A\n",
      " 26%|██▌       | 291/1112 [00:24<01:03, 12.86it/s]\u001b[A\n",
      " 26%|██▋       | 293/1112 [00:24<01:03, 13.00it/s]\u001b[A\n",
      " 27%|██▋       | 295/1112 [00:25<00:58, 14.03it/s]\u001b[A\n",
      " 27%|██▋       | 298/1112 [00:25<00:55, 14.73it/s]\u001b[A\n",
      " 27%|██▋       | 300/1112 [00:25<01:00, 13.35it/s]\u001b[A\n",
      " 27%|██▋       | 302/1112 [00:25<01:02, 12.89it/s]\u001b[A\n",
      " 27%|██▋       | 304/1112 [00:25<01:00, 13.34it/s]\u001b[A\n",
      " 28%|██▊       | 306/1112 [00:25<00:56, 14.30it/s]\u001b[A\n",
      " 28%|██▊       | 309/1112 [00:26<00:53, 15.00it/s]\u001b[A\n",
      " 28%|██▊       | 311/1112 [00:26<00:58, 13.69it/s]\u001b[A\n",
      " 28%|██▊       | 313/1112 [00:26<01:00, 13.29it/s]\u001b[A\n",
      " 28%|██▊       | 315/1112 [00:26<00:58, 13.52it/s]\u001b[A\n",
      " 29%|██▊       | 317/1112 [00:26<00:54, 14.60it/s]\u001b[A\n",
      " 29%|██▉       | 320/1112 [00:26<00:51, 15.33it/s]\u001b[A\n",
      " 29%|██▉       | 322/1112 [00:27<00:58, 13.57it/s]\u001b[A\n",
      " 29%|██▉       | 324/1112 [00:27<01:00, 13.01it/s]\u001b[A\n",
      " 29%|██▉       | 326/1112 [00:27<00:58, 13.38it/s]\u001b[A\n",
      " 29%|██▉       | 328/1112 [00:27<00:53, 14.70it/s]\u001b[A\n",
      " 30%|██▉       | 331/1112 [00:27<00:50, 15.60it/s]\u001b[A\n",
      " 30%|██▉       | 333/1112 [00:27<00:55, 13.92it/s]\u001b[A\n",
      " 30%|███       | 335/1112 [00:27<00:57, 13.41it/s]\u001b[A\n",
      " 30%|███       | 337/1112 [00:28<00:56, 13.62it/s]\u001b[A\n",
      " 30%|███       | 339/1112 [00:28<00:51, 14.95it/s]\u001b[A\n",
      " 31%|███       | 342/1112 [00:28<00:48, 15.79it/s]\u001b[A\n",
      " 31%|███       | 344/1112 [00:28<00:54, 14.09it/s]\u001b[A\n",
      " 31%|███       | 346/1112 [00:28<00:56, 13.52it/s]\u001b[A\n",
      " 31%|███▏      | 348/1112 [00:28<00:54, 13.92it/s]\u001b[A\n",
      " 31%|███▏      | 350/1112 [00:28<00:50, 15.20it/s]\u001b[A\n",
      " 32%|███▏      | 353/1112 [00:29<00:47, 15.96it/s]\u001b[A\n",
      " 32%|███▏      | 355/1112 [00:29<00:53, 14.27it/s]\u001b[A\n",
      " 32%|███▏      | 357/1112 [00:29<00:55, 13.61it/s]\u001b[A\n",
      " 32%|███▏      | 359/1112 [00:29<00:53, 14.04it/s]\u001b[A\n",
      " 33%|███▎      | 362/1112 [00:29<00:46, 16.01it/s]\u001b[A\n",
      " 33%|███▎      | 364/1112 [00:29<00:46, 15.97it/s]\u001b[A\n",
      " 33%|███▎      | 366/1112 [00:29<00:53, 14.01it/s]\u001b[A\n",
      " 33%|███▎      | 368/1112 [00:30<00:55, 13.30it/s]\u001b[A\n",
      " 33%|███▎      | 370/1112 [00:30<00:53, 13.93it/s]\u001b[A\n",
      " 34%|███▎      | 373/1112 [00:30<00:46, 15.88it/s]\u001b[A\n",
      " 34%|███▎      | 375/1112 [00:30<00:46, 15.77it/s]\u001b[A\n",
      " 34%|███▍      | 377/1112 [00:30<00:52, 14.05it/s]\u001b[A\n",
      " 34%|███▍      | 379/1112 [00:30<00:52, 13.86it/s]\u001b[A\n",
      " 34%|███▍      | 381/1112 [00:30<00:50, 14.48it/s]\u001b[A\n",
      " 35%|███▍      | 384/1112 [00:31<00:44, 16.43it/s]\u001b[A\n",
      " 35%|███▍      | 386/1112 [00:31<00:44, 16.47it/s]\u001b[A\n",
      " 35%|███▍      | 388/1112 [00:31<00:50, 14.24it/s]\u001b[A\n",
      " 35%|███▌      | 390/1112 [00:31<00:52, 13.81it/s]\u001b[A\n",
      " 35%|███▌      | 392/1112 [00:31<00:50, 14.37it/s]\u001b[A\n",
      " 36%|███▌      | 395/1112 [00:31<00:44, 16.25it/s]\u001b[A\n",
      " 36%|███▌      | 397/1112 [00:31<00:43, 16.40it/s]\u001b[A\n",
      " 36%|███▌      | 399/1112 [00:32<00:49, 14.44it/s]\u001b[A\n",
      " 36%|███▌      | 401/1112 [00:32<00:50, 14.08it/s]\u001b[A\n",
      " 36%|███▌      | 403/1112 [00:32<00:48, 14.70it/s]\u001b[A\n",
      " 37%|███▋      | 406/1112 [00:32<00:41, 16.85it/s]\u001b[A\n",
      " 37%|███▋      | 408/1112 [00:32<00:42, 16.73it/s]\u001b[A\n",
      " 37%|███▋      | 410/1112 [00:32<00:47, 14.64it/s]\u001b[A\n",
      " 37%|███▋      | 412/1112 [00:32<00:49, 14.25it/s]\u001b[A\n",
      " 37%|███▋      | 414/1112 [00:33<00:46, 15.03it/s]\u001b[A\n",
      " 38%|███▊      | 417/1112 [00:33<00:40, 17.15it/s]\u001b[A\n",
      " 38%|███▊      | 419/1112 [00:33<00:41, 16.75it/s]\u001b[A\n",
      " 38%|███▊      | 421/1112 [00:33<00:48, 14.12it/s]\u001b[A\n",
      " 38%|███▊      | 423/1112 [00:33<00:49, 13.92it/s]\u001b[A\n",
      " 38%|███▊      | 425/1112 [00:33<00:45, 14.99it/s]\u001b[A\n",
      " 38%|███▊      | 428/1112 [00:33<00:39, 17.29it/s]\u001b[A\n",
      " 39%|███▊      | 430/1112 [00:34<00:40, 17.01it/s]\u001b[A\n",
      " 39%|███▉      | 432/1112 [00:34<00:46, 14.51it/s]\u001b[A\n",
      " 39%|███▉      | 434/1112 [00:34<00:48, 13.99it/s]\u001b[A\n",
      " 39%|███▉      | 436/1112 [00:34<00:44, 15.11it/s]\u001b[A\n",
      " 39%|███▉      | 439/1112 [00:34<00:38, 17.46it/s]\u001b[A\n",
      " 40%|███▉      | 441/1112 [00:34<00:39, 17.10it/s]\u001b[A\n",
      " 40%|███▉      | 443/1112 [00:34<00:45, 14.86it/s]\u001b[A\n",
      " 40%|████      | 445/1112 [00:35<00:46, 14.38it/s]\u001b[A\n",
      " 40%|████      | 447/1112 [00:35<00:43, 15.40it/s]\u001b[A\n",
      " 40%|████      | 450/1112 [00:35<00:37, 17.78it/s]\u001b[A\n",
      " 41%|████      | 452/1112 [00:35<00:37, 17.40it/s]\u001b[A\n",
      " 41%|████      | 454/1112 [00:35<00:43, 15.13it/s]\u001b[A\n",
      " 41%|████      | 456/1112 [00:35<00:44, 14.78it/s]\u001b[A\n",
      " 41%|████      | 458/1112 [00:35<00:41, 15.83it/s]\u001b[A\n",
      " 41%|████▏     | 461/1112 [00:35<00:35, 18.40it/s]\u001b[A\n",
      " 42%|████▏     | 464/1112 [00:36<00:37, 17.23it/s]\u001b[A\n",
      " 42%|████▏     | 466/1112 [00:36<00:41, 15.41it/s]\u001b[A\n",
      " 42%|████▏     | 468/1112 [00:36<00:40, 15.76it/s]\u001b[A\n",
      " 42%|████▏     | 471/1112 [00:36<00:35, 18.09it/s]\u001b[A\n",
      " 43%|████▎     | 474/1112 [00:36<00:34, 18.39it/s]\u001b[A\n",
      " 43%|████▎     | 476/1112 [00:36<00:41, 15.17it/s]\u001b[A\n",
      " 43%|████▎     | 478/1112 [00:36<00:42, 14.83it/s]\u001b[A\n",
      " 43%|████▎     | 481/1112 [00:37<00:37, 16.61it/s]\u001b[A\n",
      " 44%|████▎     | 485/1112 [00:37<00:34, 18.17it/s]\u001b[A\n",
      " 44%|████▍     | 487/1112 [00:37<00:40, 15.48it/s]\u001b[A\n",
      " 44%|████▍     | 489/1112 [00:37<00:41, 15.04it/s]\u001b[A\n",
      " 44%|████▍     | 492/1112 [00:37<00:37, 16.75it/s]\u001b[A\n",
      " 45%|████▍     | 496/1112 [00:37<00:33, 18.14it/s]\u001b[A\n",
      " 45%|████▍     | 498/1112 [00:38<00:39, 15.50it/s]\u001b[A\n",
      " 45%|████▍     | 500/1112 [00:38<00:40, 15.10it/s]\u001b[A\n",
      " 45%|████▌     | 503/1112 [00:38<00:36, 16.88it/s]\u001b[A\n",
      " 46%|████▌     | 507/1112 [00:38<00:32, 18.48it/s]\u001b[A\n",
      " 46%|████▌     | 509/1112 [00:38<00:38, 15.62it/s]\u001b[A\n",
      " 46%|████▌     | 511/1112 [00:38<00:38, 15.49it/s]\u001b[A\n",
      " 46%|████▌     | 514/1112 [00:38<00:34, 17.11it/s]\u001b[A\n",
      " 47%|████▋     | 518/1112 [00:39<00:31, 18.58it/s]\u001b[A\n",
      " 47%|████▋     | 520/1112 [00:39<00:38, 15.50it/s]\u001b[A\n",
      " 47%|████▋     | 522/1112 [00:39<00:38, 15.39it/s]\u001b[A\n",
      " 47%|████▋     | 525/1112 [00:39<00:34, 17.21it/s]\u001b[A\n",
      " 48%|████▊     | 529/1112 [00:39<00:31, 18.54it/s]\u001b[A\n",
      " 48%|████▊     | 531/1112 [00:39<00:36, 15.73it/s]\u001b[A\n",
      " 48%|████▊     | 533/1112 [00:40<00:37, 15.55it/s]\u001b[A\n",
      " 48%|████▊     | 536/1112 [00:40<00:32, 17.66it/s]\u001b[A\n",
      " 49%|████▊     | 540/1112 [00:40<00:30, 19.01it/s]\u001b[A\n",
      " 49%|████▉     | 543/1112 [00:40<00:34, 16.32it/s]\u001b[A\n",
      " 49%|████▉     | 545/1112 [00:40<00:33, 16.94it/s]\u001b[A\n",
      " 49%|████▉     | 548/1112 [00:40<00:29, 19.41it/s]\u001b[A\n",
      " 50%|████▉     | 551/1112 [00:40<00:27, 20.12it/s]\u001b[A\n",
      " 50%|████▉     | 554/1112 [00:41<00:33, 16.65it/s]\u001b[A\n",
      " 50%|█████     | 556/1112 [00:41<00:32, 17.04it/s]\u001b[A\n",
      " 50%|█████     | 560/1112 [00:41<00:27, 19.86it/s]\u001b[A\n",
      " 51%|█████     | 563/1112 [00:41<00:30, 17.94it/s]\u001b[A\n",
      " 51%|█████     | 566/1112 [00:41<00:32, 16.88it/s]\u001b[A\n",
      " 51%|█████     | 569/1112 [00:41<00:28, 19.04it/s]\u001b[A\n",
      " 52%|█████▏    | 573/1112 [00:42<00:26, 20.62it/s]\u001b[A\n",
      " 52%|█████▏    | 576/1112 [00:42<00:30, 17.35it/s]\u001b[A\n",
      " 52%|█████▏    | 579/1112 [00:42<00:28, 18.69it/s]\u001b[A\n",
      " 53%|█████▎    | 584/1112 [00:42<00:25, 20.62it/s]\u001b[A\n",
      " 53%|█████▎    | 587/1112 [00:42<00:30, 16.97it/s]\u001b[A\n",
      " 53%|█████▎    | 589/1112 [00:42<00:29, 17.49it/s]\u001b[A\n",
      " 53%|█████▎    | 593/1112 [00:43<00:25, 20.51it/s]\u001b[A\n",
      " 54%|█████▎    | 596/1112 [00:43<00:27, 18.59it/s]\u001b[A\n",
      " 54%|█████▍    | 599/1112 [00:43<00:29, 17.43it/s]\u001b[A\n",
      " 54%|█████▍    | 602/1112 [00:43<00:26, 19.54it/s]\u001b[A\n",
      " 54%|█████▍    | 606/1112 [00:43<00:24, 21.03it/s]\u001b[A\n",
      " 55%|█████▍    | 609/1112 [00:43<00:28, 17.71it/s]\u001b[A\n",
      " 55%|█████▌    | 612/1112 [00:44<00:26, 18.95it/s]\u001b[A\n",
      " 55%|█████▌    | 617/1112 [00:44<00:23, 20.88it/s]\u001b[A\n",
      " 56%|█████▌    | 620/1112 [00:44<00:27, 17.62it/s]\u001b[A\n",
      " 56%|█████▌    | 623/1112 [00:44<00:25, 19.36it/s]\u001b[A\n",
      " 56%|█████▋    | 628/1112 [00:44<00:22, 21.27it/s]\u001b[A\n",
      " 57%|█████▋    | 631/1112 [00:45<00:26, 17.88it/s]\u001b[A\n",
      " 57%|█████▋    | 634/1112 [00:45<00:24, 19.48it/s]\u001b[A\n",
      " 57%|█████▋    | 639/1112 [00:45<00:22, 21.42it/s]\u001b[A\n",
      " 58%|█████▊    | 642/1112 [00:45<00:26, 17.95it/s]\u001b[A\n",
      " 58%|█████▊    | 645/1112 [00:45<00:23, 19.81it/s]\u001b[A\n",
      " 58%|█████▊    | 650/1112 [00:45<00:21, 21.64it/s]\u001b[A\n",
      " 59%|█████▊    | 653/1112 [00:46<00:25, 17.95it/s]\u001b[A\n",
      " 59%|█████▉    | 656/1112 [00:46<00:23, 19.66it/s]\u001b[A\n",
      " 59%|█████▉    | 661/1112 [00:46<00:20, 21.72it/s]\u001b[A\n",
      " 60%|█████▉    | 664/1112 [00:46<00:24, 18.05it/s]\u001b[A\n",
      " 60%|█████▉    | 667/1112 [00:46<00:22, 19.83it/s]\u001b[A\n",
      " 60%|██████    | 672/1112 [00:46<00:20, 21.86it/s]\u001b[A\n",
      " 61%|██████    | 675/1112 [00:47<00:23, 18.23it/s]\u001b[A\n",
      " 61%|██████    | 678/1112 [00:47<00:21, 19.96it/s]\u001b[A\n",
      " 61%|██████▏   | 683/1112 [00:47<00:19, 21.92it/s]\u001b[A\n",
      " 62%|██████▏   | 686/1112 [00:47<00:23, 18.09it/s]\u001b[A\n",
      " 62%|██████▏   | 689/1112 [00:47<00:21, 19.72it/s]\u001b[A\n",
      " 62%|██████▏   | 694/1112 [00:47<00:19, 21.79it/s]\u001b[A\n",
      " 63%|██████▎   | 697/1112 [00:48<00:22, 18.23it/s]\u001b[A\n",
      " 63%|██████▎   | 700/1112 [00:48<00:20, 20.18it/s]\u001b[A\n",
      " 63%|██████▎   | 705/1112 [00:48<00:18, 22.31it/s]\u001b[A\n",
      " 64%|██████▎   | 708/1112 [00:48<00:22, 18.28it/s]\u001b[A\n",
      " 64%|██████▍   | 711/1112 [00:48<00:19, 20.12it/s]\u001b[A\n",
      " 64%|██████▍   | 716/1112 [00:48<00:17, 22.31it/s]\u001b[A\n",
      " 65%|██████▍   | 719/1112 [00:49<00:21, 18.45it/s]\u001b[A\n",
      " 65%|██████▍   | 722/1112 [00:49<00:18, 20.56it/s]\u001b[A\n",
      " 65%|██████▌   | 727/1112 [00:49<00:17, 22.52it/s]\u001b[A\n",
      " 66%|██████▌   | 730/1112 [00:49<00:20, 18.67it/s]\u001b[A\n",
      " 66%|██████▌   | 733/1112 [00:49<00:18, 20.57it/s]\u001b[A\n",
      " 66%|██████▋   | 738/1112 [00:50<00:16, 22.69it/s]\u001b[A\n",
      " 67%|██████▋   | 741/1112 [00:50<00:19, 18.90it/s]\u001b[A\n",
      " 67%|██████▋   | 745/1112 [00:50<00:16, 21.66it/s]\u001b[A\n",
      " 67%|██████▋   | 749/1112 [00:50<00:15, 23.42it/s]\u001b[A\n",
      " 68%|██████▊   | 752/1112 [00:50<00:18, 19.29it/s]\u001b[A\n",
      " 68%|██████▊   | 755/1112 [00:50<00:16, 21.57it/s]\u001b[A\n",
      " 68%|██████▊   | 760/1112 [00:50<00:14, 23.65it/s]\u001b[A\n",
      " 69%|██████▊   | 763/1112 [00:51<00:17, 19.47it/s]\u001b[A\n",
      " 69%|██████▉   | 766/1112 [00:51<00:16, 21.53it/s]\u001b[A\n",
      " 69%|██████▉   | 771/1112 [00:51<00:14, 23.80it/s]\u001b[A\n",
      " 70%|██████▉   | 774/1112 [00:51<00:17, 19.73it/s]\u001b[A\n",
      " 70%|██████▉   | 778/1112 [00:51<00:14, 22.34it/s]\u001b[A\n",
      " 70%|███████   | 782/1112 [00:51<00:13, 24.05it/s]\u001b[A\n",
      " 71%|███████   | 785/1112 [00:52<00:16, 19.67it/s]\u001b[A\n",
      " 71%|███████   | 789/1112 [00:52<00:14, 22.45it/s]\u001b[A\n",
      " 71%|███████▏  | 793/1112 [00:52<00:13, 24.02it/s]\u001b[A\n",
      " 72%|███████▏  | 796/1112 [00:52<00:15, 19.84it/s]\u001b[A\n",
      " 72%|███████▏  | 800/1112 [00:52<00:13, 22.85it/s]\u001b[A\n",
      " 72%|███████▏  | 804/1112 [00:52<00:12, 24.23it/s]\u001b[A\n",
      " 73%|███████▎  | 807/1112 [00:53<00:15, 19.93it/s]\u001b[A\n",
      " 73%|███████▎  | 811/1112 [00:53<00:13, 23.06it/s]\u001b[A\n",
      " 73%|███████▎  | 815/1112 [00:53<00:12, 24.52it/s]\u001b[A\n",
      " 74%|███████▎  | 818/1112 [00:53<00:14, 19.95it/s]\u001b[A\n",
      " 74%|███████▍  | 822/1112 [00:53<00:12, 22.79it/s]\u001b[A\n",
      " 74%|███████▍  | 826/1112 [00:53<00:11, 24.15it/s]\u001b[A\n",
      " 75%|███████▍  | 829/1112 [00:54<00:14, 20.10it/s]\u001b[A\n",
      " 75%|███████▍  | 833/1112 [00:54<00:11, 23.28it/s]\u001b[A\n",
      " 75%|███████▌  | 837/1112 [00:54<00:10, 25.09it/s]\u001b[A\n",
      " 76%|███████▌  | 840/1112 [00:54<00:13, 20.65it/s]\u001b[A\n",
      " 76%|███████▌  | 844/1112 [00:54<00:11, 23.74it/s]\u001b[A\n",
      " 76%|███████▋  | 848/1112 [00:54<00:10, 25.20it/s]\u001b[A\n",
      " 77%|███████▋  | 851/1112 [00:54<00:12, 20.66it/s]\u001b[A\n",
      " 77%|███████▋  | 855/1112 [00:55<00:10, 23.63it/s]\u001b[A\n",
      " 77%|███████▋  | 859/1112 [00:55<00:09, 25.33it/s]\u001b[A\n",
      " 78%|███████▊  | 862/1112 [00:55<00:12, 20.71it/s]\u001b[A\n",
      " 78%|███████▊  | 866/1112 [00:55<00:10, 23.69it/s]\u001b[A\n",
      " 78%|███████▊  | 870/1112 [00:55<00:09, 25.20it/s]\u001b[A\n",
      " 79%|███████▊  | 873/1112 [00:55<00:11, 20.57it/s]\u001b[A\n",
      " 79%|███████▉  | 877/1112 [00:55<00:09, 23.68it/s]\u001b[A\n",
      " 79%|███████▉  | 881/1112 [00:56<00:09, 25.32it/s]\u001b[A\n",
      " 79%|███████▉  | 884/1112 [00:56<00:11, 20.41it/s]\u001b[A\n",
      " 80%|███████▉  | 888/1112 [00:56<00:09, 23.25it/s]\u001b[A\n",
      " 80%|████████  | 892/1112 [00:56<00:08, 24.82it/s]\u001b[A\n",
      " 80%|████████  | 895/1112 [00:56<00:10, 20.90it/s]\u001b[A\n",
      " 81%|████████  | 899/1112 [00:56<00:08, 24.21it/s]\u001b[A\n",
      " 81%|████████  | 903/1112 [00:56<00:08, 25.77it/s]\u001b[A\n",
      " 81%|████████▏ | 906/1112 [00:57<00:09, 21.43it/s]\u001b[A\n",
      " 82%|████████▏ | 910/1112 [00:57<00:08, 24.85it/s]\u001b[A\n",
      " 82%|████████▏ | 914/1112 [00:57<00:07, 26.42it/s]\u001b[A\n",
      " 82%|████████▏ | 917/1112 [00:57<00:08, 21.68it/s]\u001b[A\n",
      " 83%|████████▎ | 921/1112 [00:57<00:07, 25.03it/s]\u001b[A\n",
      " 83%|████████▎ | 925/1112 [00:57<00:07, 26.31it/s]\u001b[A\n",
      " 83%|████████▎ | 928/1112 [00:58<00:08, 21.85it/s]\u001b[A\n",
      " 84%|████████▍ | 933/1112 [00:58<00:06, 26.10it/s]\u001b[A\n",
      " 84%|████████▍ | 937/1112 [00:58<00:07, 23.79it/s]\u001b[A\n",
      " 85%|████████▍ | 940/1112 [00:58<00:07, 23.13it/s]\u001b[A\n",
      " 85%|████████▌ | 947/1112 [00:58<00:06, 26.12it/s]\u001b[A\n",
      " 85%|████████▌ | 950/1112 [00:58<00:07, 21.27it/s]\u001b[A\n",
      " 86%|████████▌ | 955/1112 [00:58<00:06, 25.27it/s]\u001b[A\n",
      " 86%|████████▌ | 959/1112 [00:59<00:06, 23.70it/s]\u001b[A\n",
      " 87%|████████▋ | 962/1112 [00:59<00:06, 23.14it/s]\u001b[A\n",
      " 87%|████████▋ | 969/1112 [00:59<00:05, 26.09it/s]\u001b[A\n",
      " 87%|████████▋ | 972/1112 [00:59<00:06, 21.78it/s]\u001b[A\n",
      " 88%|████████▊ | 977/1112 [00:59<00:05, 26.12it/s]\u001b[A\n",
      " 88%|████████▊ | 981/1112 [00:59<00:05, 24.25it/s]\u001b[A\n",
      " 88%|████████▊ | 984/1112 [01:00<00:05, 23.50it/s]\u001b[A\n",
      " 89%|████████▉ | 991/1112 [01:00<00:04, 26.53it/s]\u001b[A\n",
      " 89%|████████▉ | 995/1112 [01:00<00:05, 23.11it/s]\u001b[A\n",
      " 90%|█████████ | 1002/1112 [01:00<00:04, 26.22it/s]\u001b[A\n",
      " 90%|█████████ | 1005/1112 [01:00<00:04, 21.89it/s]\u001b[A\n",
      " 91%|█████████ | 1010/1112 [01:00<00:03, 26.17it/s]\u001b[A\n",
      " 91%|█████████ | 1014/1112 [01:01<00:04, 23.76it/s]\u001b[A\n",
      " 91%|█████████▏| 1017/1112 [01:01<00:04, 23.20it/s]\u001b[A\n",
      " 92%|█████████▏| 1024/1112 [01:01<00:03, 26.53it/s]\u001b[A\n",
      " 92%|█████████▏| 1028/1112 [01:01<00:03, 23.43it/s]\u001b[A\n",
      " 93%|█████████▎| 1035/1112 [01:01<00:02, 27.11it/s]\u001b[A\n",
      " 93%|█████████▎| 1039/1112 [01:02<00:03, 23.80it/s]\u001b[A\n",
      " 94%|█████████▍| 1046/1112 [01:02<00:02, 27.93it/s]\u001b[A\n",
      " 94%|█████████▍| 1050/1112 [01:02<00:02, 24.35it/s]\u001b[A\n",
      " 95%|█████████▌| 1057/1112 [01:02<00:01, 29.05it/s]\u001b[A\n",
      " 95%|█████████▌| 1061/1112 [01:02<00:02, 25.19it/s]\u001b[A\n",
      " 96%|█████████▌| 1068/1112 [01:02<00:01, 30.39it/s]\u001b[A\n",
      " 96%|█████████▋| 1072/1112 [01:03<00:01, 25.44it/s]\u001b[A\n",
      " 97%|█████████▋| 1080/1112 [01:03<00:01, 29.25it/s]\u001b[A\n",
      " 98%|█████████▊| 1090/1112 [01:03<00:00, 33.88it/s]\u001b[A\n",
      " 98%|█████████▊| 1095/1112 [01:03<00:00, 34.12it/s]\u001b[A\n",
      "100%|██████████| 1112/1112 [01:03<00:00, 17.43it/s]\u001b[A\n"
     ]
    },
    {
     "name": "stdout",
     "output_type": "stream",
     "text": [
      "saving transition probabilities...\n",
      "saved\n",
      "> /home/ubuntu/pandemic_RL/code/train.py(25)train_environment()\n",
      "-> policy, V = value_iteration(env,\n"
     ]
    },
    {
     "name": "stdin",
     "output_type": "stream",
     "text": [
      "(Pdb)  c\n"
     ]
    },
    {
     "name": "stderr",
     "output_type": "stream",
     "text": [
      "/home/ubuntu/pandemic_RL/code/value_iteration.py:38: RuntimeWarning: invalid value encountered in double_scalars\n",
      "  delta = max(delta, np.abs(best_action_value - V[s]))\n"
     ]
    },
    {
     "name": "stdout",
     "output_type": "stream",
     "text": [
      "Params(imported_cases_per_step=2.0, power=1.0, extra_scale=1.4285714285714286, num_population=100)\n",
      "policy\n"
     ]
    },
    {
     "data": {
      "image/png": "[encoded data removed]",
      "text/plain": [
       "<Figure size 432x288 with 1 Axes>"
      ]
     },
     "metadata": {
      "needs_background": "light"
     },
     "output_type": "display_data"
    },
    {
     "name": "stdout",
     "output_type": "stream",
     "text": [
      "value function\n"
     ]
    },
    {
     "data": {
      "image/png": "[encoded data removed]",
      "text/plain": [
       "<Figure size 432x288 with 1 Axes>"
      ]
     },
     "metadata": {
      "needs_background": "light"
     },
     "output_type": "display_data"
    },
    {
     "name": "stdout",
     "output_type": "stream",
     "text": [
      "initial num infected: (90, 10)\n",
      "Value function\n"
     ]
    },
    {
     "name": "stderr",
     "output_type": "stream",
     "text": [
      "/home/ubuntu/COVID_data_exploration/env/lib/python3.8/site-packages/numpy/core/_asarray.py:136: VisibleDeprecationWarning: Creating an ndarray from ragged nested sequences (which is a list-or-tuple of lists-or-tuples-or ndarrays with different lengths or shapes) is deprecated. If you meant to do this, you must specify 'dtype=object' when creating the ndarray\n",
      "  return array(a, dtype, copy=False, order=order, subok=True)\n",
      "/home/ubuntu/COVID_data_exploration/env/lib/python3.8/site-packages/mpl_toolkits/mplot3d/proj3d.py:152: RuntimeWarning: invalid value encountered in true_divide\n",
      "  txs, tys, tzs = vecw[0]/w, vecw[1]/w, vecw[2]/w\n"
     ]
    },
    {
     "data": {
      "image/png": "[encoded data removed]",
      "text/plain": [
       "<Figure size 432x288 with 1 Axes>"
      ]
     },
     "metadata": {
      "needs_background": "light"
     },
     "output_type": "display_data"
    },
    {
     "name": "stdout",
     "output_type": "stream",
     "text": [
      "--Return--\n",
      "> /home/ubuntu/pandemic_RL/code/test.py(114)plot_value_function()->None\n",
      "-> b()\n"
     ]
    }
   ],
   "source": [
    "main(args={\n",
    "    'imported_cases_per_step_range': [2.0],\n",
    "    'powers': [1.0],\n",
    "    'extra_scale': [10.0/7],\n",
    "    'num_population': [100],\n",
    "})"
   ]
  },
  {
   "cell_type": "code",
   "execution_count": null,
   "metadata": {},
   "outputs": [],
   "source": [
    "%debug"
   ]
  },
  {
   "cell_type": "code",
   "execution_count": null,
   "metadata": {},
   "outputs": [],
   "source": [
    "import numpy as np\n",
    "np.arange(0, 10)"
   ]
  },
  {
   "cell_type": "code",
   "execution_count": null,
   "metadata": {},
   "outputs": [],
   "source": [
    "env.P"
   ]
  },
  {
   "cell_type": "markdown",
   "metadata": {},
   "source": [
    "# 3D plots"
   ]
  },
  {
   "cell_type": "code",
   "execution_count": null,
   "metadata": {},
   "outputs": [],
   "source": [
    "'''\n",
    "=================\n",
    "3D wireframe plot\n",
    "=================\n",
    "\n",
    "A very basic demonstration of a wireframe plot.\n",
    "'''\n",
    "\n",
    "from mpl_toolkits.mplot3d import axes3d\n",
    "import matplotlib.pyplot as plt\n",
    "\n",
    "\n",
    "fig = plt.figure()\n",
    "ax = fig.add_subplot(111, projection='3d')\n",
    "\n",
    "# Grab some test data.\n",
    "X, Y, Z = axes3d.get_test_data(0.05)\n",
    "\n",
    "# Plot a basic wireframe.\n",
    "ax.plot_wireframe(X, Y, Z, rstride=10, cstride=10)\n",
    "\n",
    "plt.show()\n"
   ]
  },
  {
   "cell_type": "code",
   "execution_count": null,
   "metadata": {},
   "outputs": [],
   "source": [
    "X.shape"
   ]
  },
  {
   "cell_type": "code",
   "execution_count": null,
   "metadata": {},
   "outputs": [],
   "source": [
    "Y.shape"
   ]
  },
  {
   "cell_type": "code",
   "execution_count": null,
   "metadata": {},
   "outputs": [],
   "source": [
    "Z.shape"
   ]
  },
  {
   "cell_type": "code",
   "execution_count": null,
   "metadata": {},
   "outputs": [],
   "source": [
    "X"
   ]
  },
  {
   "cell_type": "code",
   "execution_count": null,
   "metadata": {},
   "outputs": [],
   "source": [
    "Y"
   ]
  },
  {
   "cell_type": "code",
   "execution_count": null,
   "metadata": {},
   "outputs": [],
   "source": [
    "from einops import rearrange"
   ]
  },
  {
   "cell_type": "code",
   "execution_count": null,
   "metadata": {},
   "outputs": [],
   "source": [
    "X_ = rearrange(X, 'h w -> (h w)')\n",
    "Y_ = rearrange(Y, 'h w -> (h w)')\n",
    "Z_ = rearrange(Z, 'h w -> (h w)')"
   ]
  },
  {
   "cell_type": "code",
   "execution_count": null,
   "metadata": {},
   "outputs": [],
   "source": [
    "X_.shape"
   ]
  },
  {
   "cell_type": "code",
   "execution_count": null,
   "metadata": {},
   "outputs": [],
   "source": [
    "# Plot a basic wireframe.\n",
    "ax.plot_wireframe(X_, Y_, Z, rstride=10, cstride=10)\n",
    "\n",
    "plt.show()\n"
   ]
  },
  {
   "cell_type": "markdown",
   "metadata": {},
   "source": [
    "# Plot Value Function"
   ]
  },
  {
   "cell_type": "code",
   "execution_count": null,
   "metadata": {},
   "outputs": [],
   "source": [
    "state_to_value = {}\n",
    "\n",
    "for packed_state in env.states:\n",
    "    idx = env.state_to_idx[observation]\n",
    "    unpacked_state = env._unpack_state(packed_state)\n",
    "    state_to_value[unpacked_state] = V[idx]"
   ]
  },
  {
   "cell_type": "code",
   "execution_count": null,
   "metadata": {},
   "outputs": [],
   "source": [
    "import itertools\n",
    "import numpy as np\n",
    "from einops import rearrange\n",
    "\n",
    "rearrange(np.array(list(x[0] for x in itertools.product(range(10), range(20)))),\n",
    "          '(h w) -> h w',\n",
    "          h = 10)"
   ]
  },
  {
   "cell_type": "code",
   "execution_count": null,
   "metadata": {},
   "outputs": [],
   "source": []
  }
 ],
 "metadata": {
  "kernelspec": {
   "display_name": "Python 3",
   "language": "python",
   "name": "python3"
  },
  "language_info": {
   "codemirror_mode": {
    "name": "ipython",
    "version": 3
   },
   "file_extension": ".py",
   "mimetype": "text/x-python",
   "name": "python",
   "nbconvert_exporter": "python",
   "pygments_lexer": "ipython3",
   "version": "3.8.2"
  }
 },
 "nbformat": 4,
 "nbformat_minor": 4
}
