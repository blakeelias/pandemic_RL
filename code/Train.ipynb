{
 "cells": [
  {
   "cell_type": "code",
   "execution_count": 1,
   "metadata": {},
   "outputs": [],
   "source": [
    "import gym\n",
    "from scipy.stats import nbinom, poisson"
   ]
  },
  {
   "cell_type": "code",
   "execution_count": 2,
   "metadata": {},
   "outputs": [],
   "source": [
    "import gym_pandemic\n",
    "from utils import load_pickle, save_pickle"
   ]
  },
  {
   "cell_type": "code",
   "execution_count": null,
   "metadata": {},
   "outputs": [],
   "source": [
    "env = gym.make('pandemic-v0')\n",
    "env.reset()\n",
    "env"
   ]
  },
  {
   "cell_type": "code",
   "execution_count": 4,
   "metadata": {},
   "outputs": [],
   "source": [
    "from pathlib import Path\n",
    "\n",
    "path = Path('lookup_tables/transitions/transition_probs_distr=nbinom,imported_cases_per_step=0.5,num_states=1000,num_actions=15,dynamics=SIS,time_lumping=False.pickle')\n",
    "save_pickle(None, path)"
   ]
  },
  {
   "cell_type": "code",
   "execution_count": 8,
   "metadata": {},
   "outputs": [
    {
     "data": {
      "text/plain": [
       "[0.36787944117144233,\n",
       " 0.36787944117144233,\n",
       " 0.18393972058572114,\n",
       " 0.06131324019524039,\n",
       " 0.015328310048810101,\n",
       " 0.00306566200976202,\n",
       " 0.0005109436682936698,\n",
       " 7.299195261338139e-05,\n",
       " 9.123994076672672e-06,\n",
       " 1.013777119630298e-06]"
      ]
     },
     "execution_count": 8,
     "metadata": {},
     "output_type": "execute_result"
    }
   ],
   "source": [
    "[poisson(1).pmf(i) for i in range(10)]"
   ]
  },
  {
   "cell_type": "code",
   "execution_count": 9,
   "metadata": {},
   "outputs": [
    {
     "data": {
      "text/plain": [
       "[1.0, 0.0, 0.0, 0.0, 0.0, 0.0, 0.0, 0.0, 0.0, 0.0]"
      ]
     },
     "execution_count": 9,
     "metadata": {},
     "output_type": "execute_result"
    }
   ],
   "source": [
    "[poisson(0).pmf(i) for i in range(10)]"
   ]
  },
  {
   "cell_type": "code",
   "execution_count": 10,
   "metadata": {},
   "outputs": [
    {
     "data": {
      "text/plain": [
       "[0.6065306597126334,\n",
       " 0.3032653298563167,\n",
       " 0.07581633246407919,\n",
       " 0.012636055410679865,\n",
       " 0.0015795069263349827,\n",
       " 0.0001579506926334984,\n",
       " 1.3162557719458204e-05,\n",
       " 9.401826942470143e-07,\n",
       " 5.8761418390438375e-08,\n",
       " 3.2645232439132407e-09]"
      ]
     },
     "execution_count": 10,
     "metadata": {},
     "output_type": "execute_result"
    }
   ],
   "source": [
    "[poisson(0.5).pmf(i) for i in range(10)]"
   ]
  },
  {
   "cell_type": "code",
   "execution_count": 12,
   "metadata": {},
   "outputs": [
    {
     "data": {
      "text/plain": [
       "[0.006737946999085467,\n",
       " 0.03368973499542734,\n",
       " 0.08422433748856832,\n",
       " 0.1403738958142805,\n",
       " 0.17546736976785063,\n",
       " 0.17546736976785068,\n",
       " 0.1462228081398754,\n",
       " 0.10444486295705395,\n",
       " 0.06527803934815865,\n",
       " 0.036265577415643714]"
      ]
     },
     "execution_count": 12,
     "metadata": {},
     "output_type": "execute_result"
    }
   ],
   "source": [
    "[poisson(5).pmf(i) for i in range(10)]"
   ]
  },
  {
   "cell_type": "code",
   "execution_count": 13,
   "metadata": {},
   "outputs": [
    {
     "data": {
      "text/plain": [
       "[4.5399929762484854e-05,\n",
       " 0.0004539992976248486,\n",
       " 0.0022699964881242435,\n",
       " 0.007566654960414144,\n",
       " 0.01891663740103538,\n",
       " 0.03783327480207079,\n",
       " 0.06305545800345125,\n",
       " 0.090079225719216,\n",
       " 0.11259903214902009,\n",
       " 0.12511003572113372,\n",
       " 0.12511003572113372,\n",
       " 0.11373639611012128,\n",
       " 0.09478033009176803,\n",
       " 0.07290794622443707,\n",
       " 0.05207710444602615,\n",
       " 0.034718069630684245,\n",
       " 0.021698793519177594,\n",
       " 0.012763996187751505,\n",
       " 0.007091108993195334,\n",
       " 0.003732162627997529]"
      ]
     },
     "execution_count": 13,
     "metadata": {},
     "output_type": "execute_result"
    }
   ],
   "source": [
    "[poisson(10).pmf(i) for i in range(20)]"
   ]
  },
  {
   "cell_type": "code",
   "execution_count": null,
   "metadata": {},
   "outputs": [],
   "source": []
  }
 ],
 "metadata": {
  "kernelspec": {
   "display_name": "Python 3",
   "language": "python",
   "name": "python3"
  },
  "language_info": {
   "codemirror_mode": {
    "name": "ipython",
    "version": 3
   },
   "file_extension": ".py",
   "mimetype": "text/x-python",
   "name": "python",
   "nbconvert_exporter": "python",
   "pygments_lexer": "ipython3",
   "version": "3.8.2"
  }
 },
 "nbformat": 4,
 "nbformat_minor": 4
}
