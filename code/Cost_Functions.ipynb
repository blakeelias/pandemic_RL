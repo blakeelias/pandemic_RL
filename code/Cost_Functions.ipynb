{
 "cells": [
  {
   "cell_type": "code",
   "execution_count": 237,
   "metadata": {},
   "outputs": [],
   "source": [
    "import numpy as np\n",
    "import seaborn as sns\n",
    "from tqdm import tqdm"
   ]
  },
  {
   "cell_type": "markdown",
   "metadata": {},
   "source": [
    "# Parameters"
   ]
  },
  {
   "cell_type": "code",
   "execution_count": 238,
   "metadata": {},
   "outputs": [],
   "source": [
    "initial_cases = 2 # 1000\n",
    "imported_cases_per_step = 2\n",
    "\n",
    "discount = 0.9\n",
    "num_population = 100 # 100000\n",
    "\n",
    "# Cost of setting R\n",
    "R_0 = 2.5\n",
    "power = 1.0\n",
    "scale_factor = 1000 # 1e10\n",
    "\n",
    "# Cost of N (number of cases)\n",
    "hospital_capacity = 30 # 20000\n",
    "cost_per_hospital_visit = 10 # 50000\n",
    "cost_per_hospital_deprived_case = 20 # 500000"
   ]
  },
  {
   "cell_type": "code",
   "execution_count": 239,
   "metadata": {},
   "outputs": [],
   "source": [
    "def cost_of_r(r, power=power, scale_factor=scale_factor):\n",
    "    baseline = 1/(R_0 ** power)\n",
    "    if r >= R_0:\n",
    "        return 0\n",
    "    else:\n",
    "        return (1/(r**power) - baseline) * scale_factor"
   ]
  },
  {
   "cell_type": "code",
   "execution_count": 240,
   "metadata": {},
   "outputs": [
    {
     "data": {
      "text/plain": [
       "<matplotlib.axes._subplots.AxesSubplot at 0x7fa35ea3aca0>"
      ]
     },
     "execution_count": 240,
     "metadata": {},
     "output_type": "execute_result"
    },
    {
     "data": {
      "image/png": "[encoded data removed]",
      "text/plain": [
       "<Figure size 432x288 with 1 Axes>"
      ]
     },
     "metadata": {
      "needs_background": "light"
     },
     "output_type": "display_data"
    }
   ],
   "source": [
    "rs = np.arange(0.1, 3.0, 0.1)\n",
    "costs_of_r = [cost_of_r(r) for r in rs]\n",
    "sns.scatterplot(x=rs, y=costs_of_r)"
   ]
  },
  {
   "cell_type": "code",
   "execution_count": 241,
   "metadata": {},
   "outputs": [],
   "source": [
    "def cost_of_n(n, slope1=cost_per_hospital_visit, slope2=cost_per_hospital_deprived_case, capacity=hospital_capacity):\n",
    "    if n <= 0:\n",
    "        return 0\n",
    "    elif n <= capacity:\n",
    "        return n * slope1\n",
    "    else:\n",
    "        return capacity * slope1 + (n - capacity) * slope2"
   ]
  },
  {
   "cell_type": "code",
   "execution_count": 242,
   "metadata": {},
   "outputs": [
    {
     "data": {
      "text/plain": [
       "<matplotlib.axes._subplots.AxesSubplot at 0x7fa35e92e940>"
      ]
     },
     "execution_count": 242,
     "metadata": {},
     "output_type": "execute_result"
    },
    {
     "data": {
      "image/png": "[encoded data removed]",
      "text/plain": [
       "<Figure size 432x288 with 1 Axes>"
      ]
     },
     "metadata": {
      "needs_background": "light"
     },
     "output_type": "display_data"
    }
   ],
   "source": [
    "ns = list(range(num_population))\n",
    "     #sum([list(range(100*i, 100*(i+1), i+1)) for i in range(10)], []) + \\\n",
    "     # sum([list(range(1000*i, 1000*(i+1), (i+1)*10)) for i in range(1, 10)], []) + \\\n",
    "     # sum([list(range(10000*i, 10000*(i+1), (i+1)*100)) for i in range(1, 10)], [])\n",
    "costs_of_n = [cost_of_n(n) for n in ns]\n",
    "sns.scatterplot(x=ns, y=costs_of_n)"
   ]
  },
  {
   "cell_type": "code",
   "execution_count": 243,
   "metadata": {},
   "outputs": [
    {
     "data": {
      "text/plain": [
       "105"
      ]
     },
     "execution_count": 243,
     "metadata": {},
     "output_type": "execute_result"
    }
   ],
   "source": [
    "np.random.default_rng().poisson(lam=100)"
   ]
  },
  {
   "cell_type": "code",
   "execution_count": 244,
   "metadata": {},
   "outputs": [],
   "source": [
    "def find_nearest(array, value):\n",
    "    array = np.asarray(array)\n",
    "    idx = (np.abs(array - value)).argmin()\n",
    "    return array[idx]"
   ]
  },
  {
   "cell_type": "code",
   "execution_count": 249,
   "metadata": {},
   "outputs": [],
   "source": [
    "def step(state, action):\n",
    "    # state: number of current cases (discretized)\n",
    "    # action: value of R_effective to set (discretized)\n",
    "    # return: new_state, reward\n",
    "    \n",
    "    r_effective = action\n",
    "    current_cases = state\n",
    "    \n",
    "    fraction_susceptible = (num_population - current_cases) / num_population\n",
    "    expected_new_cases = (current_cases * r_effective + imported_cases_per_step) * fraction_susceptible\n",
    "\n",
    "    # TODO: change to negative binomial; look up constant in literature for COVID\n",
    "    new_state = np.random.default_rng().poisson(lam=expected_new_cases)\n",
    "    # np.random.negative_binomial\n",
    "    reward = -cost_of_n(new_state) - cost_of_r(r_effective)\n",
    "    \n",
    "    new_state = find_nearest(ns, new_state)  # discretized case count\n",
    "    \n",
    "    return new_state, reward"
   ]
  },
  {
   "cell_type": "code",
   "execution_count": 250,
   "metadata": {},
   "outputs": [
    {
     "data": {
      "text/plain": [
       "2"
      ]
     },
     "execution_count": 250,
     "metadata": {},
     "output_type": "execute_result"
    }
   ],
   "source": [
    "np.random.negative_binomial(5, 0.5)"
   ]
  },
  {
   "cell_type": "markdown",
   "metadata": {},
   "source": [
    "## Initial Conditions"
   ]
  },
  {
   "cell_type": "markdown",
   "metadata": {},
   "source": [
    "## Value Iteration"
   ]
  },
  {
   "cell_type": "code",
   "execution_count": 251,
   "metadata": {},
   "outputs": [],
   "source": [
    "def select_action(state, value_table):\n",
    "    rewards = {}\n",
    "    for action in rs:\n",
    "        new_state, reward = step(state, action) # sample a new state\n",
    "        future_reward = value_table[new_state]\n",
    "        value = reward + discount * future_reward\n",
    "        rewards[action] = value\n",
    "    argmax_reward, max_reward = max(rewards.items(), key=lambda x: x[1])\n",
    "    return argmax_reward, max_reward # action, lifetime value of taking this action"
   ]
  },
  {
   "cell_type": "code",
   "execution_count": 252,
   "metadata": {},
   "outputs": [
    {
     "name": "stderr",
     "output_type": "stream",
     "text": [
      "  0%|          | 0/20 [00:00<?, ?it/s]"
     ]
    },
    {
     "name": "stdout",
     "output_type": "stream",
     "text": [
      "{0: 0, 1: 0, 2: 0, 3: 0, 4: 0, 5: 0, 6: 0, 7: 0, 8: 0, 9: 0, 10: 0, 11: 0, 12: 0, 13: 0, 14: 0, 15: 0, 16: 0, 17: 0, 18: 0, 19: 0, 20: 0, 21: 0, 22: 0, 23: 0, 24: 0, 25: 0, 26: 0, 27: 0, 28: 0, 29: 0, 30: 0, 31: 0, 32: 0, 33: 0, 34: 0, 35: 0, 36: 0, 37: 0, 38: 0, 39: 0, 40: 0, 41: 0, 42: 0, 43: 0, 44: 0, 45: 0, 46: 0, 47: 0, 48: 0, 49: 0, 50: 0, 51: 0, 52: 0, 53: 0, 54: 0, 55: 0, 56: 0, 57: 0, 58: 0, 59: 0, 60: 0, 61: 0, 62: 0, 63: 0, 64: 0, 65: 0, 66: 0, 67: 0, 68: 0, 69: 0, 70: 0, 71: 0, 72: 0, 73: 0, 74: 0, 75: 0, 76: 0, 77: 0, 78: 0, 79: 0, 80: 0, 81: 0, 82: 0, 83: 0, 84: 0, 85: 0, 86: 0, 87: 0, 88: 0, 89: 0, 90: 0, 91: 0, 92: 0, 93: 0, 94: 0, 95: 0, 96: 0, 97: 0, 98: 0, 99: 0}\n"
     ]
    },
    {
     "name": "stderr",
     "output_type": "stream",
     "text": [
      "100%|██████████| 20/20 [00:04<00:00,  4.03it/s]\n"
     ]
    }
   ],
   "source": [
    "value_table = {n: 0 for n in ns}\n",
    "# current_state = initial_cases\n",
    "print(value_table)\n",
    "for i in tqdm(range(20)):\n",
    "    new_value_table = {}\n",
    "    for state in value_table:\n",
    "        best_action, max_reward = select_action(state, value_table)\n",
    "        new_value_table[state] = max_reward\n",
    "    value_table = new_value_table"
   ]
  },
  {
   "cell_type": "code",
   "execution_count": 253,
   "metadata": {},
   "outputs": [
    {
     "data": {
      "text/plain": [
       "'-2.940772E+03'"
      ]
     },
     "execution_count": 253,
     "metadata": {},
     "output_type": "execute_result"
    }
   ],
   "source": [
    "'%E' % min(value_table.items(), key=lambda x: x[1])[1]"
   ]
  },
  {
   "cell_type": "code",
   "execution_count": 254,
   "metadata": {},
   "outputs": [
    {
     "data": {
      "text/plain": [
       "'-5.265738E+02'"
      ]
     },
     "execution_count": 254,
     "metadata": {},
     "output_type": "execute_result"
    }
   ],
   "source": [
    "'%E' % value_table[ns[-1]]"
   ]
  },
  {
   "cell_type": "code",
   "execution_count": 255,
   "metadata": {},
   "outputs": [
    {
     "data": {
      "text/plain": [
       "'-5.265738E+02'"
      ]
     },
     "execution_count": 255,
     "metadata": {},
     "output_type": "execute_result"
    }
   ],
   "source": [
    "'%E' % value_table[ns[0]]"
   ]
  },
  {
   "cell_type": "code",
   "execution_count": 256,
   "metadata": {},
   "outputs": [
    {
     "data": {
      "text/plain": [
       "<matplotlib.axes._subplots.AxesSubplot at 0x7fa35f92a250>"
      ]
     },
     "execution_count": 256,
     "metadata": {},
     "output_type": "execute_result"
    },
    {
     "data": {
      "image/png": "[encoded data removed]",
      "text/plain": [
       "<Figure size 432x288 with 1 Axes>"
      ]
     },
     "metadata": {
      "needs_background": "light"
     },
     "output_type": "display_data"
    }
   ],
   "source": [
    "sns.barplot(list(value_table.keys()),\n",
    "            list(value_table.values()))"
   ]
  },
  {
   "cell_type": "code",
   "execution_count": 257,
   "metadata": {},
   "outputs": [
    {
     "name": "stderr",
     "output_type": "stream",
     "text": [
      "100%|██████████| 10/10 [00:00<00:00, 261.68it/s]\n"
     ]
    }
   ],
   "source": [
    "# Roll-Out Using Optimal Policy\n",
    "\n",
    "current_state = initial_cases\n",
    "total_reward = 0\n",
    "current_discount = 1\n",
    "\n",
    "action_history = []\n",
    "state_history = [current_state]\n",
    "\n",
    "for i in tqdm(range(10)):\n",
    "    action, expected_total_reward = select_action(current_state, value_table)\n",
    "    new_state, reward = step(current_state, action)\n",
    "    total_reward += reward * discount\n",
    "    \n",
    "    current_state = new_state\n",
    "    current_discount *= discount\n",
    "    \n",
    "    action_history.append(action)\n",
    "    state_history.append(current_state)"
   ]
  },
  {
   "cell_type": "code",
   "execution_count": 258,
   "metadata": {},
   "outputs": [
    {
     "data": {
      "text/plain": [
       "-4359.656067314029"
      ]
     },
     "execution_count": 258,
     "metadata": {},
     "output_type": "execute_result"
    }
   ],
   "source": [
    "total_reward"
   ]
  },
  {
   "cell_type": "code",
   "execution_count": 259,
   "metadata": {},
   "outputs": [
    {
     "data": {
      "text/plain": [
       "[2, 4, 6, 16, 29, 26, 38, 18, 42, 21, 32]"
      ]
     },
     "execution_count": 259,
     "metadata": {},
     "output_type": "execute_result"
    }
   ],
   "source": [
    "state_history"
   ]
  },
  {
   "cell_type": "code",
   "execution_count": 260,
   "metadata": {},
   "outputs": [
    {
     "data": {
      "text/plain": [
       "[2.3000000000000003,\n",
       " 2.8000000000000003,\n",
       " 2.4000000000000004,\n",
       " 1.9000000000000001,\n",
       " 1.0,\n",
       " 1.7000000000000002,\n",
       " 1.0,\n",
       " 2.2,\n",
       " 1.3000000000000003,\n",
       " 1.4000000000000001]"
      ]
     },
     "execution_count": 260,
     "metadata": {},
     "output_type": "execute_result"
    }
   ],
   "source": [
    "action_history"
   ]
  },
  {
   "cell_type": "code",
   "execution_count": 261,
   "metadata": {},
   "outputs": [
    {
     "data": {
      "text/plain": [
       "<matplotlib.axes._subplots.AxesSubplot at 0x7fa35f65a310>"
      ]
     },
     "execution_count": 261,
     "metadata": {},
     "output_type": "execute_result"
    },
    {
     "data": {
      "image/png": "[encoded data removed]",
      "text/plain": [
       "<Figure size 432x288 with 1 Axes>"
      ]
     },
     "metadata": {
      "needs_background": "light"
     },
     "output_type": "display_data"
    }
   ],
   "source": [
    "sns.scatterplot(x=list(range(len(state_history))), y=state_history)"
   ]
  },
  {
   "cell_type": "code",
   "execution_count": 262,
   "metadata": {},
   "outputs": [
    {
     "data": {
      "text/plain": [
       "<matplotlib.axes._subplots.AxesSubplot at 0x7fa35e4d2730>"
      ]
     },
     "execution_count": 262,
     "metadata": {},
     "output_type": "execute_result"
    },
    {
     "data": {
      "image/png": "[encoded data removed]",
      "text/plain": [
       "<Figure size 432x288 with 1 Axes>"
      ]
     },
     "metadata": {
      "needs_background": "light"
     },
     "output_type": "display_data"
    }
   ],
   "source": [
    "sns.scatterplot(x=list(range(len(action_history))), y=action_history)"
   ]
  },
  {
   "cell_type": "code",
   "execution_count": null,
   "metadata": {},
   "outputs": [],
   "source": []
  }
 ],
 "metadata": {
  "kernelspec": {
   "display_name": "Python 3",
   "language": "python",
   "name": "python3"
  },
  "language_info": {
   "codemirror_mode": {
    "name": "ipython",
    "version": 3
   },
   "file_extension": ".py",
   "mimetype": "text/x-python",
   "name": "python",
   "nbconvert_exporter": "python",
   "pygments_lexer": "ipython3",
   "version": "3.8.2"
  }
 },
 "nbformat": 4,
 "nbformat_minor": 4
}
