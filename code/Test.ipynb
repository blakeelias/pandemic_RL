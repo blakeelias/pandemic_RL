{
 "cells": [
  {
   "cell_type": "code",
   "execution_count": 1,
   "metadata": {},
   "outputs": [],
   "source": [
    "from main import main"
   ]
  },
  {
   "cell_type": "code",
   "execution_count": 2,
   "metadata": {},
   "outputs": [
    {
     "name": "stderr",
     "output_type": "stream",
     "text": [
      "No traceback available to show.\n"
     ]
    }
   ],
   "source": [
    "%tb"
   ]
  },
  {
   "cell_type": "code",
   "execution_count": null,
   "metadata": {},
   "outputs": [
    {
     "name": "stderr",
     "output_type": "stream",
     "text": [
      "  0%|          | 0/1 [00:00<?, ?it/s]\n",
      "  0%|          | 0/1000 [00:00<?, ?it/s]\u001b[A\n",
      "  0%|          | 4/1000 [00:00<00:32, 30.44it/s]\u001b[A\n",
      "  1%|          | 7/1000 [00:00<00:37, 26.38it/s]\u001b[A\n",
      "  1%|          | 9/1000 [00:00<00:41, 23.83it/s]\u001b[A\n",
      "  1%|          | 11/1000 [00:00<00:45, 21.64it/s]\u001b[A\n",
      "  1%|▏         | 13/1000 [00:00<00:50, 19.60it/s]\u001b[A\n",
      "  2%|▏         | 15/1000 [00:00<00:53, 18.27it/s]\u001b[A\n",
      "  2%|▏         | 17/1000 [00:00<00:57, 17.22it/s]\u001b[A\n",
      "  2%|▏         | 19/1000 [00:01<01:00, 16.31it/s]\u001b[A\n",
      "  2%|▏         | 21/1000 [00:01<01:02, 15.57it/s]\u001b[A\n",
      "  2%|▏         | 23/1000 [00:01<01:06, 14.74it/s]\u001b[A\n",
      "  2%|▎         | 25/1000 [00:01<01:09, 14.12it/s]\u001b[A\n",
      "  3%|▎         | 27/1000 [00:01<01:11, 13.60it/s]\u001b[A\n",
      "  3%|▎         | 29/1000 [00:01<01:13, 13.15it/s]\u001b[A\n",
      "  3%|▎         | 31/1000 [00:01<01:15, 12.76it/s]\u001b[A\n",
      "  3%|▎         | 33/1000 [00:02<01:18, 12.29it/s]\u001b[A\n",
      "  4%|▎         | 35/1000 [00:02<01:20, 12.03it/s]\u001b[A\n",
      "  4%|▎         | 37/1000 [00:02<01:23, 11.58it/s]\u001b[A\n",
      "  4%|▍         | 39/1000 [00:02<01:23, 11.45it/s]\u001b[A\n",
      "  4%|▍         | 41/1000 [00:02<01:24, 11.33it/s]\u001b[A\n",
      "  4%|▍         | 43/1000 [00:03<01:26, 11.01it/s]\u001b[A\n",
      "  4%|▍         | 45/1000 [00:03<01:27, 10.87it/s]\u001b[A\n",
      "  5%|▍         | 47/1000 [00:03<01:33, 10.14it/s]\u001b[A\n"
     ]
    }
   ],
   "source": [
    "main(args={\n",
    "    'imported_cases_per_step_range': [0.0],\n",
    "    'powers': [1.0],\n",
    "    'extra_scale': [10.0/7]\n",
    "})"
   ]
  },
  {
   "cell_type": "code",
   "execution_count": null,
   "metadata": {},
   "outputs": [],
   "source": []
  }
 ],
 "metadata": {
  "kernelspec": {
   "display_name": "Python 3",
   "language": "python",
   "name": "python3"
  },
  "language_info": {
   "codemirror_mode": {
    "name": "ipython",
    "version": 3
   },
   "file_extension": ".py",
   "mimetype": "text/x-python",
   "name": "python",
   "nbconvert_exporter": "python",
   "pygments_lexer": "ipython3",
   "version": "3.8.2"
  }
 },
 "nbformat": 4,
 "nbformat_minor": 4
}
