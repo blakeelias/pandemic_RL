{
 "cells": [
  {
   "cell_type": "code",
   "execution_count": 1,
   "metadata": {},
   "outputs": [],
   "source": [
    "import itertools\n",
    "import math\n",
    "\n",
    "import numpy as np\n",
    "import seaborn as sns\n",
    "from tqdm import tqdm\n",
    "from scipy.stats import poisson"
   ]
  },
  {
   "cell_type": "markdown",
   "metadata": {},
   "source": [
    "# Parameters"
   ]
  },
  {
   "cell_type": "code",
   "execution_count": 2,
   "metadata": {},
   "outputs": [],
   "source": [
    "initial_cases = 10\n",
    "\n",
    "# sweep over [0.0 - 1.0]  # based on travel rates\n",
    "imported_cases_per_step = .5  # really, there's a cost to setting this too, if we make it part of the action space\n",
    "\n",
    "# .97 - .98\n",
    "# .97 ** (6*30 / 4) == 0.25\n",
    "# .98 ** (6*30 / 4) == 0.4\n",
    "#   --> credence assigned to NO vaccine in 6 months\n",
    "#        strikes balance of giving a fair chance of 6 month vaccine; while not giving high chance to vaccine in 2-months\n",
    "discount = 0.99\n",
    "\n",
    "# time step: ~4 days  (1 generation period)\n",
    "num_population = 1000"
   ]
  },
  {
   "cell_type": "code",
   "execution_count": null,
   "metadata": {},
   "outputs": [],
   "source": []
  },
  {
   "cell_type": "code",
   "execution_count": 3,
   "metadata": {},
   "outputs": [],
   "source": [
    "# is this really a fair form? \n",
    "# wouldn't keeping everyone home for 6 weeks have some finite cost?\n",
    "\n",
    "# Cost of setting R\n",
    "R_0 = 2.5   # 2.8? #3?  look up; depends on the place\n",
    "\n",
    "# sweep:  [1, 3]\n",
    "power = 2\n",
    "\n",
    "# average person's annual economic contribution: $50,000?\n",
    "economic_contribution_annual = 50000\n",
    "economic_contribution_2_weeks = economic_contribution_annual * 2.0 / 52\n",
    "cost_to_keep_half_home = num_population / 2 * economic_contribution_2_weeks\n",
    "\n",
    "# want: cost_of_r(R_0 / 4) == cost_to_keep_half_home\n",
    "# Better: how much economic loss has the US had, to keep R ~= 1\n",
    "# (1/((R_0/4)**power) - 1/(R_0 ** power)) * scale_factor == cost_to_keep_half_home\n",
    "# scale_factor = cost_to_keep_half_home / (1/((R_0/4)**power) - 1/(R_0 ** power))\n",
    "\n",
    "# population of 100,000:\n",
    "# R = 1 for 4 days  ~=  100 people getting sick (25 ppl / day * 4 days)\n",
    "# every 20 days: 500 people sick -> 5 person dead\n",
    "\n",
    "# cost_of_r(1.0) == cost_of_n(100) == cost of 1 death + other bad effects ?= $4,000,000\n",
    "# [1/(1 ** power) - 1/(R_0 ** power)] * scale_factor == 100\n",
    "# scale_factor = 100 / [1 - 1/(R_0 ** power)]\n",
    "\n",
    "\n",
    "def cost_of_r(r, power=power):\n",
    "    baseline = 1/(R_0 ** power)\n",
    "    actual = 1/(r ** power)\n",
    "    \n",
    "    scale_factor = 100 # cost_to_keep_half_home / (1/((num_population/4)**power) - 1/(R_0 ** power))\n",
    "    \n",
    "    if r >= R_0:\n",
    "        return 0\n",
    "    else:\n",
    "        return (actual - baseline) * scale_factor"
   ]
  },
  {
   "cell_type": "code",
   "execution_count": 4,
   "metadata": {},
   "outputs": [
    {
     "name": "stdout",
     "output_type": "stream",
     "text": [
      "14\n",
      "[0.1 0.2 0.3 0.4 0.5 0.6 0.7 0.8 0.9 1.  1.1 1.5 2.  2.5]\n"
     ]
    },
    {
     "data": {
      "image/png": "[encoded data removed]",
      "text/plain": [
       "<Figure size 432x288 with 1 Axes>"
      ]
     },
     "metadata": {
      "needs_background": "light"
     },
     "output_type": "display_data"
    }
   ],
   "source": [
    "rs = np.array([0.1, 0.2, 0.3, 0.4, 0.5, 0.6, 0.7, 0.8, 0.9, 1.0, 1.1, 1.5, 2.0, 2.5])\n",
    "costs_of_r = [cost_of_r(r) for r in rs]\n",
    "sns.lineplot(x=rs, y=costs_of_r)\n",
    "actions = rs\n",
    "num_actions = len(actions)\n",
    "print(num_actions)\n",
    "print(actions)"
   ]
  },
  {
   "cell_type": "code",
   "execution_count": 5,
   "metadata": {},
   "outputs": [
    {
     "data": {
      "text/plain": [
       "0.21875"
      ]
     },
     "execution_count": 5,
     "metadata": {},
     "output_type": "execute_result"
    }
   ],
   "source": [
    "cost_of_r(1.0) / cost_of_r(0.5)"
   ]
  },
  {
   "cell_type": "code",
   "execution_count": 6,
   "metadata": {},
   "outputs": [],
   "source": [
    "# Cost of N (number of cases)\n",
    "# assume cost of someone getting sick is $40,000\n",
    "\n",
    "'''fraction_need_hospital = 0.04\n",
    "cost_per_hospital_visit = 50000\n",
    "cost_per_death = 1e6\n",
    "\n",
    "# cost_of_n(n) == n\n",
    "# cost_of_r(1.0) == cost_of_n(100) == 100\n",
    "\n",
    "hospital_capacity = 25 # 5% of population #  20000\n",
    "\n",
    "death_rate_hospital = 0.25\n",
    "death_rate_neglected = 0.9'''\n",
    "\n",
    "\n",
    "def cost_of_n(n):\n",
    "    if n <= 0:\n",
    "        return 0\n",
    "    else:\n",
    "        return n\n",
    "    \n",
    "    '''    num_need_hospital = n * fraction_need_hospital\n",
    "        num_hospital = min(num_need_hospital, hospital_capacity)\n",
    "        num_neglected = num_need_hospital - num_hospital\n",
    "        num_deaths = num_neglected * death_rate_neglected + num_hospital * death_rate_hospital\n",
    "        \n",
    "        return cost_per_hospital_visit * num_hospital + cost_per_death * num_deaths '''"
   ]
  },
  {
   "cell_type": "code",
   "execution_count": 7,
   "metadata": {},
   "outputs": [
    {
     "data": {
      "text/plain": [
       "297"
      ]
     },
     "execution_count": 7,
     "metadata": {},
     "output_type": "execute_result"
    },
    {
     "data": {
      "image/png": "[encoded data removed]",
      "text/plain": [
       "<Figure size 432x288 with 1 Axes>"
      ]
     },
     "metadata": {
      "needs_background": "light"
     },
     "output_type": "display_data"
    }
   ],
   "source": [
    "ns = sum([list(range(100*i, 100*(i+1), i+1)) for i in range(10)], []) + \\\n",
    "     [1_000]\n",
    "     #sum([list(range(1000*i, 1000*(i+1), (i+1)*10)) for i in range(1, 10)], []) + \\\n",
    "     #sum([list(range(10000*i, 10000*(i+1), (i+1)*100)) for i in range(1, 10)], []) + \\\n",
    "     \n",
    "# #list(range(num_population))\n",
    "costs_of_n = [cost_of_n(n) for n in ns]\n",
    "sns.lineplot(x=ns, y=costs_of_n)\n",
    "states = ns\n",
    "num_states = len(states)\n",
    "num_states"
   ]
  },
  {
   "cell_type": "code",
   "execution_count": 8,
   "metadata": {},
   "outputs": [
    {
     "data": {
      "text/plain": [
       "[(991, 295),\n",
       " (992, 295),\n",
       " (993, 295),\n",
       " (994, 295),\n",
       " (995, 295),\n",
       " (996, 295),\n",
       " (997, 295),\n",
       " (998, 295),\n",
       " (999, 295),\n",
       " (1000, 296)]"
      ]
     },
     "execution_count": 8,
     "metadata": {},
     "output_type": "execute_result"
    }
   ],
   "source": [
    "lookup = dict([(x, i) for i in range(num_states - 1) for x in range(states[i], states[i+1])] + [(num_population, len(states) - 1)])\n",
    "def bucket_state_index(new_state):\n",
    "    if new_state < 0:\n",
    "        raise Exception('Cannot have negative case count')\n",
    "    elif new_state in lookup:\n",
    "        return lookup[new_state]\n",
    "    else:\n",
    "        return lookup[num_population]\n",
    "list(lookup.items())[-10:]"
   ]
  },
  {
   "cell_type": "code",
   "execution_count": 9,
   "metadata": {},
   "outputs": [],
   "source": [
    "def find_nearest(array, value):\n",
    "    array = np.asarray(array)\n",
    "    idx = (np.abs(array - value)).argmin()\n",
    "    return array[idx]"
   ]
  },
  {
   "cell_type": "code",
   "execution_count": 10,
   "metadata": {},
   "outputs": [
    {
     "data": {
      "text/plain": [
       "1000"
      ]
     },
     "execution_count": 10,
     "metadata": {},
     "output_type": "execute_result"
    }
   ],
   "source": [
    "find_nearest(states, 2329)"
   ]
  },
  {
   "cell_type": "code",
   "execution_count": 11,
   "metadata": {},
   "outputs": [],
   "source": [
    "def expected_new_state(current_state, action):\n",
    "    r_effective = action\n",
    "    current_cases = current_state\n",
    "    \n",
    "    fraction_susceptible = 1 # (num_population - current_cases) / num_population\n",
    "    # TODO: may need better way to bound susceptible population,\n",
    "    # to account for immunity\n",
    "    # One option: fraction_susceptible = 1 always, and just bound new_state by num_population\n",
    "\n",
    "    # Better solution: keep track of how many people are susceptible NOW, based on some immunity time\n",
    "    expected_new_cases = (current_cases * r_effective + imported_cases_per_step) * fraction_susceptible\n",
    "\n",
    "    return expected_new_cases"
   ]
  },
  {
   "cell_type": "code",
   "execution_count": 12,
   "metadata": {},
   "outputs": [
    {
     "data": {
      "text/plain": [
       "4660.5"
      ]
     },
     "execution_count": 12,
     "metadata": {},
     "output_type": "execute_result"
    }
   ],
   "source": [
    "expected_new_state(2330, 2.0)"
   ]
  },
  {
   "cell_type": "code",
   "execution_count": 13,
   "metadata": {},
   "outputs": [],
   "source": [
    "def new_state_distribution(state, action):\n",
    "    lam = expected_new_state(state, action)\n",
    "    # TODO: change to negative binomial; look up constant in literature for COVID\n",
    "    return poisson(lam)"
   ]
  },
  {
   "cell_type": "code",
   "execution_count": 14,
   "metadata": {},
   "outputs": [
    {
     "data": {
      "text/plain": [
       "(4660.5, 4660.5, 4660.0)"
      ]
     },
     "execution_count": 14,
     "metadata": {},
     "output_type": "execute_result"
    }
   ],
   "source": [
    "distribution = new_state_distribution(2330, 2.0)\n",
    "distribution.mean(), distribution.var(), distribution.median()"
   ]
  },
  {
   "cell_type": "code",
   "execution_count": 15,
   "metadata": {},
   "outputs": [
    {
     "data": {
      "text/plain": [
       "0.18443092046258014"
      ]
     },
     "execution_count": 15,
     "metadata": {},
     "output_type": "execute_result"
    }
   ],
   "source": [
    "distribution.cdf(4750) - distribution.cdf(4700)"
   ]
  },
  {
   "cell_type": "code",
   "execution_count": 16,
   "metadata": {},
   "outputs": [],
   "source": [
    "def bucketed_distribution(distribution, states):\n",
    "    probs = np.zeros_like(states, dtype=float)\n",
    "    for state_idx in range(num_states - 1):\n",
    "        low_state = states[state_idx]\n",
    "        high_state = states[state_idx + 1]\n",
    "        probs[state_idx] = (distribution.cdf(high_state) - distribution.cdf(low_state))\n",
    "    probs[num_states - 1] = 1 - distribution.cdf(states[num_states - 1])\n",
    "    return probs"
   ]
  },
  {
   "cell_type": "code",
   "execution_count": 17,
   "metadata": {},
   "outputs": [
    {
     "data": {
      "text/plain": [
       "[1.0, 1.0, 1.0, 1.0, 1.0, 1.0, 1.0]"
      ]
     },
     "execution_count": 17,
     "metadata": {},
     "output_type": "execute_result"
    }
   ],
   "source": [
    "bucket_distr = bucketed_distribution(distribution, states)\n",
    "[bucket_distr[bucket_state_index(x)] for x in [4500, 4550, 4600, 4650, 4700, 4750, 4800]]"
   ]
  },
  {
   "cell_type": "code",
   "execution_count": 18,
   "metadata": {},
   "outputs": [
    {
     "data": {
      "text/plain": [
       "(297, 14, 297)"
      ]
     },
     "execution_count": 18,
     "metadata": {},
     "output_type": "execute_result"
    }
   ],
   "source": [
    "transition_probabilities = np.zeros((num_states, num_actions, num_states))\n",
    "transition_probabilities.shape"
   ]
  },
  {
   "cell_type": "code",
   "execution_count": 19,
   "metadata": {},
   "outputs": [
    {
     "name": "stderr",
     "output_type": "stream",
     "text": [
      "100%|██████████| 297/297 [04:55<00:00,  1.01it/s]\n"
     ]
    }
   ],
   "source": [
    "for state_idx in tqdm(range(num_states)):\n",
    "    for action_idx in range(num_actions):\n",
    "        distribution = new_state_distribution(states[state_idx], actions[action_idx])\n",
    "        bucket_distr = bucketed_distribution(distribution, states)\n",
    "        transition_probabilities[state_idx, action_idx] = bucket_distr\n",
    "        #print(len(bucket_distr))"
   ]
  },
  {
   "cell_type": "code",
   "execution_count": 42,
   "metadata": {},
   "outputs": [
    {
     "data": {
      "text/plain": [
       "array([[[3.03265330e-001, 7.58163325e-002, 1.26360554e-002, ...,\n",
       "         0.00000000e+000, 0.00000000e+000, 0.00000000e+000],\n",
       "        [3.03265330e-001, 7.58163325e-002, 1.26360554e-002, ...,\n",
       "         0.00000000e+000, 0.00000000e+000, 0.00000000e+000],\n",
       "        [3.03265330e-001, 7.58163325e-002, 1.26360554e-002, ...,\n",
       "         0.00000000e+000, 0.00000000e+000, 0.00000000e+000],\n",
       "        ...,\n",
       "        [3.03265330e-001, 7.58163325e-002, 1.26360554e-002, ...,\n",
       "         0.00000000e+000, 0.00000000e+000, 0.00000000e+000],\n",
       "        [3.03265330e-001, 7.58163325e-002, 1.26360554e-002, ...,\n",
       "         0.00000000e+000, 0.00000000e+000, 0.00000000e+000],\n",
       "        [3.03265330e-001, 7.58163325e-002, 1.26360554e-002, ...,\n",
       "         0.00000000e+000, 0.00000000e+000, 0.00000000e+000]],\n",
       "\n",
       "       [[3.29286982e-001, 9.87860945e-002, 1.97572189e-002, ...,\n",
       "         0.00000000e+000, 0.00000000e+000, 0.00000000e+000],\n",
       "        [3.47609713e-001, 1.21663399e-001, 2.83881265e-002, ...,\n",
       "         0.00000000e+000, 0.00000000e+000, 0.00000000e+000],\n",
       "        [3.59463171e-001, 1.43785269e-001, 3.83427383e-002, ...,\n",
       "         0.00000000e+000, 0.00000000e+000, 0.00000000e+000],\n",
       "        ...,\n",
       "        [2.70670566e-001, 2.70670566e-001, 1.80447044e-001, ...,\n",
       "         0.00000000e+000, 0.00000000e+000, 0.00000000e+000],\n",
       "        [2.05212497e-001, 2.56515621e-001, 2.13763017e-001, ...,\n",
       "         0.00000000e+000, 0.00000000e+000, 0.00000000e+000],\n",
       "        [1.49361205e-001, 2.24041808e-001, 2.24041808e-001, ...,\n",
       "         0.00000000e+000, 0.00000000e+000, 0.00000000e+000]],\n",
       "\n",
       "       [[3.47609713e-001, 1.21663399e-001, 2.83881265e-002, ...,\n",
       "         0.00000000e+000, 0.00000000e+000, 0.00000000e+000],\n",
       "        [3.65912694e-001, 1.64660712e-001, 4.93982137e-002, ...,\n",
       "         0.00000000e+000, 0.00000000e+000, 0.00000000e+000],\n",
       "        [3.66158192e-001, 2.01387006e-001, 7.38419021e-002, ...,\n",
       "         0.00000000e+000, 0.00000000e+000, 0.00000000e+000],\n",
       "        ...,\n",
       "        [1.05690842e-001, 1.84958973e-001, 2.15785469e-001, ...,\n",
       "         0.00000000e+000, 0.00000000e+000, 0.00000000e+000],\n",
       "        [4.99904844e-002, 1.12478590e-001, 1.68717885e-001, ...,\n",
       "         0.00000000e+000, 0.00000000e+000, 0.00000000e+000],\n",
       "        [2.24772429e-002, 6.18124180e-002, 1.13322766e-001, ...,\n",
       "         0.00000000e+000, 0.00000000e+000, 0.00000000e+000]],\n",
       "\n",
       "       ...,\n",
       "\n",
       "       [[1.64221405e-041, 8.08790419e-040, 2.65552854e-038, ...,\n",
       "         0.00000000e+000, 0.00000000e+000, 0.00000000e+000],\n",
       "        [9.00527253e-084, 8.84768026e-082, 5.79523057e-080, ...,\n",
       "         0.00000000e+000, 0.00000000e+000, 0.00000000e+000],\n",
       "        [3.70988441e-126, 5.46280480e-124, 5.36265338e-122, ...,\n",
       "         0.00000000e+000, 0.00000000e+000, 0.00000000e+000],\n",
       "        ...,\n",
       "        [0.00000000e+000, 0.00000000e+000, 0.00000000e+000, ...,\n",
       "         1.02844695e-040, 5.18365424e-039, 1.00000000e+000],\n",
       "        [0.00000000e+000, 0.00000000e+000, 0.00000000e+000, ...,\n",
       "         4.88731849e-130, 4.33292850e-127, 1.00000000e+000],\n",
       "        [0.00000000e+000, 0.00000000e+000, 0.00000000e+000, ...,\n",
       "         5.29403212e-247, 4.35424638e-243, 1.00000000e+000]],\n",
       "\n",
       "       [[6.10270155e-042, 3.03609402e-040, 1.00697118e-038, ...,\n",
       "         0.00000000e+000, 0.00000000e+000, 0.00000000e+000],\n",
       "        [1.23113550e-084, 1.22190198e-082, 8.08491810e-081, ...,\n",
       "         0.00000000e+000, 0.00000000e+000, 0.00000000e+000],\n",
       "        [1.86585806e-127, 2.77546387e-125, 2.75233500e-123, ...,\n",
       "         0.00000000e+000, 0.00000000e+000, 0.00000000e+000],\n",
       "        ...,\n",
       "        [0.00000000e+000, 0.00000000e+000, 0.00000000e+000, ...,\n",
       "         7.13247924e-043, 3.97723453e-041, 1.00000000e+000],\n",
       "        [0.00000000e+000, 0.00000000e+000, 0.00000000e+000, ...,\n",
       "         2.30521250e-134, 2.26160025e-131, 1.00000000e+000],\n",
       "        [0.00000000e+000, 0.00000000e+000, 0.00000000e+000, ...,\n",
       "         1.68894122e-253, 1.53735269e-249, 1.00000000e+000]],\n",
       "\n",
       "       [[2.26762184e-042, 1.13947997e-040, 3.81725791e-039, ...,\n",
       "         0.00000000e+000, 0.00000000e+000, 0.00000000e+000],\n",
       "        [1.68294823e-085, 1.68715560e-083, 1.12758232e-081, ...,\n",
       "         0.00000000e+000, 0.00000000e+000, 0.00000000e+000],\n",
       "        [9.38323654e-129, 1.40983129e-126, 1.41218101e-124, ...,\n",
       "         0.00000000e+000, 0.00000000e+000, 0.00000000e+000],\n",
       "        ...,\n",
       "        [0.00000000e+000, 0.00000000e+000, 0.00000000e+000, ...,\n",
       "         4.47427387e-045, 2.75748990e-043, 1.00000000e+000],\n",
       "        [0.00000000e+000, 0.00000000e+000, 0.00000000e+000, ...,\n",
       "         9.83173899e-139, 1.06632454e-135, 1.00000000e+000],\n",
       "        [0.00000000e+000, 0.00000000e+000, 0.00000000e+000, ...,\n",
       "         4.87155674e-260, 4.90250384e-256, 1.00000000e+000]]])"
      ]
     },
     "execution_count": 42,
     "metadata": {},
     "output_type": "execute_result"
    }
   ],
   "source": [
    "transition_probabilities"
   ]
  },
  {
   "cell_type": "code",
   "execution_count": 20,
   "metadata": {},
   "outputs": [],
   "source": [
    "def reward(state, action):\n",
    "    n = state\n",
    "    r_effective = action\n",
    "    return -cost_of_n(n) - cost_of_r(r_effective)  # should this be cost_of_n(new_state)?"
   ]
  },
  {
   "cell_type": "code",
   "execution_count": 21,
   "metadata": {},
   "outputs": [],
   "source": [
    "def step(state_idx, action_idx):\n",
    "    # state: number of current cases (discretized)\n",
    "    # action: value of R_effective to set (discretized)\n",
    "    # return: new_state, reward\n",
    "    \n",
    "    distr = new_state_distribution(states[state_idx], actions[action_idx])\n",
    "    new_state = distr.rvs()\n",
    "    \n",
    "    # TODO: change to an actual expectation\n",
    "    # ensure number of infected people does not exceed entire population\n",
    "    new_state = min(new_state, num_population)\n",
    "    new_state_idx = bucket_state_index(new_state)  # discretized case count\n",
    "    \n",
    "    resulting_reward = reward(states[state_idx], actions[action_idx])\n",
    "    \n",
    "    return new_state_idx, resulting_reward"
   ]
  },
  {
   "cell_type": "code",
   "execution_count": 22,
   "metadata": {},
   "outputs": [
    {
     "name": "stdout",
     "output_type": "stream",
     "text": [
      "original state: 320\n",
      "action: 0.3\n",
      "new state:  102\n",
      "reward :  -1415.111111111111\n"
     ]
    }
   ],
   "source": [
    "state_idx = bucket_state_index(322)\n",
    "print(f'original state: {states[state_idx]}')\n",
    "\n",
    "action_idx = 2\n",
    "print(f'action: {actions[action_idx]}')\n",
    "\n",
    "new_state_idx, resulting_reward = step(state_idx, action_idx)\n",
    "print('new state: ', states[new_state_idx])\n",
    "print('reward : ', resulting_reward)"
   ]
  },
  {
   "cell_type": "markdown",
   "metadata": {},
   "source": [
    "## Initial Conditions"
   ]
  },
  {
   "cell_type": "markdown",
   "metadata": {},
   "source": [
    "## Value Iteration"
   ]
  },
  {
   "cell_type": "code",
   "execution_count": 23,
   "metadata": {},
   "outputs": [],
   "source": [
    "def select_action(state_idx, state_values):\n",
    "    rewards = np.zeros_like(actions, dtype=float)\n",
    "    for action_idx in range(len(actions)):\n",
    "        distr = new_state_distribution(states[state_idx], actions[action_idx])\n",
    "        probs = transition_probabilities[state_idx, action_idx] # bucketed_distribution(distr, states)\n",
    "        \n",
    "        step_reward = reward(states[state_idx], actions[action_idx]) \n",
    "        # TODO: in general, this should be coupled with the probability of reaching a given state. \n",
    "        # Here, we've made them independent, because we've made the reward be a function just of the state you're in and the action you take -- not of the next state you end up reaching\n",
    "        \n",
    "        rewards[action_idx] = (probs * (step_reward + state_values * discount)).sum()\n",
    "    best_action_idx = rewards.argmax()\n",
    "    return best_action_idx, rewards[best_action_idx] # action, lifetime value of taking this action"
   ]
  },
  {
   "cell_type": "code",
   "execution_count": 24,
   "metadata": {},
   "outputs": [],
   "source": [
    "def state_value(state_idx, state_values):\n",
    "    best_action, max_reward = select_action(state_idx, state_values)\n",
    "    return max_reward # lifetime value of taking the best action from this state"
   ]
  },
  {
   "cell_type": "code",
   "execution_count": 25,
   "metadata": {},
   "outputs": [
    {
     "name": "stderr",
     "output_type": "stream",
     "text": [
      "  1%|          | 1/100 [00:02<04:04,  2.47s/it]"
     ]
    },
    {
     "name": "stdout",
     "output_type": "stream",
     "text": [
      "1546.9242473557065\n"
     ]
    },
    {
     "name": "stderr",
     "output_type": "stream",
     "text": [
      "  2%|▏         | 2/100 [00:04<04:01,  2.47s/it]"
     ]
    },
    {
     "name": "stdout",
     "output_type": "stream",
     "text": [
      "738.6063206577319\n"
     ]
    },
    {
     "name": "stderr",
     "output_type": "stream",
     "text": [
      "  3%|▎         | 3/100 [00:07<03:59,  2.47s/it]"
     ]
    },
    {
     "name": "stdout",
     "output_type": "stream",
     "text": [
      "498.05814777077967\n"
     ]
    },
    {
     "name": "stderr",
     "output_type": "stream",
     "text": [
      "  4%|▍         | 4/100 [00:09<03:58,  2.48s/it]"
     ]
    },
    {
     "name": "stdout",
     "output_type": "stream",
     "text": [
      "364.25064087759483\n"
     ]
    },
    {
     "name": "stderr",
     "output_type": "stream",
     "text": [
      "  5%|▌         | 5/100 [00:12<03:55,  2.48s/it]"
     ]
    },
    {
     "name": "stdout",
     "output_type": "stream",
     "text": [
      "291.9289101733193\n"
     ]
    },
    {
     "name": "stderr",
     "output_type": "stream",
     "text": [
      "  6%|▌         | 6/100 [00:14<03:53,  2.49s/it]"
     ]
    },
    {
     "name": "stdout",
     "output_type": "stream",
     "text": [
      "218.53862838787654\n"
     ]
    },
    {
     "name": "stderr",
     "output_type": "stream",
     "text": [
      "  7%|▋         | 7/100 [00:17<03:51,  2.49s/it]"
     ]
    },
    {
     "name": "stdout",
     "output_type": "stream",
     "text": [
      "169.06479079545988\n"
     ]
    },
    {
     "name": "stderr",
     "output_type": "stream",
     "text": [
      "  8%|▊         | 8/100 [00:19<03:50,  2.51s/it]"
     ]
    },
    {
     "name": "stdout",
     "output_type": "stream",
     "text": [
      "146.70940798027823\n"
     ]
    },
    {
     "name": "stderr",
     "output_type": "stream",
     "text": [
      "  9%|▉         | 9/100 [00:22<03:47,  2.50s/it]"
     ]
    },
    {
     "name": "stdout",
     "output_type": "stream",
     "text": [
      "127.52302881576543\n"
     ]
    },
    {
     "name": "stderr",
     "output_type": "stream",
     "text": [
      " 10%|█         | 10/100 [00:24<03:43,  2.49s/it]"
     ]
    },
    {
     "name": "stdout",
     "output_type": "stream",
     "text": [
      "116.22889748835769\n"
     ]
    },
    {
     "name": "stderr",
     "output_type": "stream",
     "text": [
      " 11%|█         | 11/100 [00:27<03:41,  2.49s/it]"
     ]
    },
    {
     "name": "stdout",
     "output_type": "stream",
     "text": [
      "107.99077383381791\n"
     ]
    },
    {
     "name": "stderr",
     "output_type": "stream",
     "text": [
      " 12%|█▏        | 12/100 [00:29<03:38,  2.48s/it]"
     ]
    },
    {
     "name": "stdout",
     "output_type": "stream",
     "text": [
      "105.88735527596964\n"
     ]
    },
    {
     "name": "stderr",
     "output_type": "stream",
     "text": [
      " 13%|█▎        | 13/100 [00:32<03:36,  2.48s/it]"
     ]
    },
    {
     "name": "stdout",
     "output_type": "stream",
     "text": [
      "101.77196663657105\n"
     ]
    },
    {
     "name": "stderr",
     "output_type": "stream",
     "text": [
      " 14%|█▍        | 14/100 [00:34<03:33,  2.49s/it]"
     ]
    },
    {
     "name": "stdout",
     "output_type": "stream",
     "text": [
      "80.64092277966483\n"
     ]
    },
    {
     "name": "stderr",
     "output_type": "stream",
     "text": [
      " 15%|█▌        | 15/100 [00:37<03:31,  2.48s/it]"
     ]
    },
    {
     "name": "stdout",
     "output_type": "stream",
     "text": [
      "61.13933163648653\n"
     ]
    },
    {
     "name": "stderr",
     "output_type": "stream",
     "text": [
      " 16%|█▌        | 16/100 [00:39<03:28,  2.49s/it]"
     ]
    },
    {
     "name": "stdout",
     "output_type": "stream",
     "text": [
      "45.12079996154898\n"
     ]
    },
    {
     "name": "stderr",
     "output_type": "stream",
     "text": [
      " 17%|█▋        | 17/100 [00:42<03:25,  2.48s/it]"
     ]
    },
    {
     "name": "stdout",
     "output_type": "stream",
     "text": [
      "33.66168132471648\n"
     ]
    },
    {
     "name": "stderr",
     "output_type": "stream",
     "text": [
      " 18%|█▊        | 18/100 [00:44<03:23,  2.48s/it]"
     ]
    },
    {
     "name": "stdout",
     "output_type": "stream",
     "text": [
      "24.94863519082446\n"
     ]
    },
    {
     "name": "stderr",
     "output_type": "stream",
     "text": [
      " 19%|█▉        | 19/100 [00:47<03:20,  2.48s/it]"
     ]
    },
    {
     "name": "stdout",
     "output_type": "stream",
     "text": [
      "18.332859456611914\n"
     ]
    },
    {
     "name": "stderr",
     "output_type": "stream",
     "text": [
      " 20%|██        | 20/100 [00:49<03:18,  2.48s/it]"
     ]
    },
    {
     "name": "stdout",
     "output_type": "stream",
     "text": [
      "13.442065461098537\n"
     ]
    },
    {
     "name": "stderr",
     "output_type": "stream",
     "text": [
      " 21%|██        | 21/100 [00:52<03:16,  2.48s/it]"
     ]
    },
    {
     "name": "stdout",
     "output_type": "stream",
     "text": [
      "9.844686904220907\n"
     ]
    },
    {
     "name": "stderr",
     "output_type": "stream",
     "text": [
      " 22%|██▏       | 22/100 [00:54<03:13,  2.48s/it]"
     ]
    },
    {
     "name": "stdout",
     "output_type": "stream",
     "text": [
      "7.182629482527773\n"
     ]
    },
    {
     "name": "stderr",
     "output_type": "stream",
     "text": [
      " 23%|██▎       | 23/100 [00:57<03:11,  2.49s/it]"
     ]
    },
    {
     "name": "stdout",
     "output_type": "stream",
     "text": [
      "5.212313798545438\n"
     ]
    },
    {
     "name": "stderr",
     "output_type": "stream",
     "text": [
      " 24%|██▍       | 24/100 [00:59<03:08,  2.48s/it]"
     ]
    },
    {
     "name": "stdout",
     "output_type": "stream",
     "text": [
      "3.759729429091749\n"
     ]
    },
    {
     "name": "stderr",
     "output_type": "stream",
     "text": [
      " 25%|██▌       | 25/100 [01:02<03:05,  2.47s/it]"
     ]
    },
    {
     "name": "stdout",
     "output_type": "stream",
     "text": [
      "2.7011042335561797\n"
     ]
    },
    {
     "name": "stderr",
     "output_type": "stream",
     "text": [
      " 26%|██▌       | 26/100 [01:04<03:01,  2.46s/it]"
     ]
    },
    {
     "name": "stdout",
     "output_type": "stream",
     "text": [
      "1.9373620638825741\n"
     ]
    },
    {
     "name": "stderr",
     "output_type": "stream",
     "text": [
      " 27%|██▋       | 27/100 [01:06<02:59,  2.45s/it]"
     ]
    },
    {
     "name": "stdout",
     "output_type": "stream",
     "text": [
      "1.3938094648465267\n"
     ]
    },
    {
     "name": "stderr",
     "output_type": "stream",
     "text": [
      " 28%|██▊       | 28/100 [01:09<02:57,  2.46s/it]"
     ]
    },
    {
     "name": "stdout",
     "output_type": "stream",
     "text": [
      "1.0014310001297417\n"
     ]
    },
    {
     "name": "stderr",
     "output_type": "stream",
     "text": [
      " 29%|██▉       | 29/100 [01:11<02:56,  2.48s/it]"
     ]
    },
    {
     "name": "stdout",
     "output_type": "stream",
     "text": [
      "0.7182996676920084\n"
     ]
    },
    {
     "name": "stderr",
     "output_type": "stream",
     "text": [
      " 30%|███       | 30/100 [01:14<02:54,  2.49s/it]"
     ]
    },
    {
     "name": "stdout",
     "output_type": "stream",
     "text": [
      "0.515073634750479\n"
     ]
    },
    {
     "name": "stderr",
     "output_type": "stream",
     "text": [
      " 31%|███       | 31/100 [01:16<02:51,  2.48s/it]"
     ]
    },
    {
     "name": "stdout",
     "output_type": "stream",
     "text": [
      "0.37014721066771017\n"
     ]
    },
    {
     "name": "stderr",
     "output_type": "stream",
     "text": [
      " 32%|███▏      | 32/100 [01:19<02:48,  2.48s/it]"
     ]
    },
    {
     "name": "stdout",
     "output_type": "stream",
     "text": [
      "0.2653724434248943\n"
     ]
    },
    {
     "name": "stderr",
     "output_type": "stream",
     "text": [
      " 33%|███▎      | 33/100 [01:21<02:46,  2.48s/it]"
     ]
    },
    {
     "name": "stdout",
     "output_type": "stream",
     "text": [
      "0.18954967768513598\n"
     ]
    },
    {
     "name": "stderr",
     "output_type": "stream",
     "text": [
      " 34%|███▍      | 34/100 [01:24<02:44,  2.49s/it]"
     ]
    },
    {
     "name": "stdout",
     "output_type": "stream",
     "text": [
      "0.13519364985495486\n"
     ]
    },
    {
     "name": "stderr",
     "output_type": "stream",
     "text": [
      " 35%|███▌      | 35/100 [01:26<02:41,  2.49s/it]"
     ]
    },
    {
     "name": "stdout",
     "output_type": "stream",
     "text": [
      "0.09636860769205668\n"
     ]
    },
    {
     "name": "stderr",
     "output_type": "stream",
     "text": [
      " 36%|███▌      | 36/100 [01:29<02:39,  2.50s/it]"
     ]
    },
    {
     "name": "stdout",
     "output_type": "stream",
     "text": [
      "0.06867163590322889\n"
     ]
    },
    {
     "name": "stderr",
     "output_type": "stream",
     "text": [
      " 37%|███▋      | 37/100 [01:31<02:36,  2.49s/it]"
     ]
    },
    {
     "name": "stdout",
     "output_type": "stream",
     "text": [
      "0.04892542082234286\n"
     ]
    },
    {
     "name": "stderr",
     "output_type": "stream",
     "text": [
      " 38%|███▊      | 38/100 [01:34<02:35,  2.51s/it]"
     ]
    },
    {
     "name": "stdout",
     "output_type": "stream",
     "text": [
      "0.034852788802709256\n"
     ]
    },
    {
     "name": "stderr",
     "output_type": "stream",
     "text": [
      " 39%|███▉      | 39/100 [01:36<02:33,  2.51s/it]"
     ]
    },
    {
     "name": "stdout",
     "output_type": "stream",
     "text": [
      "0.02482591738953488\n"
     ]
    },
    {
     "name": "stderr",
     "output_type": "stream",
     "text": [
      " 40%|████      | 40/100 [01:39<02:30,  2.51s/it]"
     ]
    },
    {
     "name": "stdout",
     "output_type": "stream",
     "text": [
      "0.017682762489130255\n"
     ]
    },
    {
     "name": "stderr",
     "output_type": "stream",
     "text": [
      " 41%|████      | 41/100 [01:41<02:27,  2.50s/it]"
     ]
    },
    {
     "name": "stdout",
     "output_type": "stream",
     "text": [
      "0.012594470270414604\n"
     ]
    },
    {
     "name": "stderr",
     "output_type": "stream",
     "text": [
      " 42%|████▏     | 42/100 [01:44<02:25,  2.51s/it]"
     ]
    },
    {
     "name": "stdout",
     "output_type": "stream",
     "text": [
      "0.00897015338523488\n"
     ]
    },
    {
     "name": "stderr",
     "output_type": "stream",
     "text": [
      " 43%|████▎     | 43/100 [01:46<02:22,  2.50s/it]"
     ]
    },
    {
     "name": "stdout",
     "output_type": "stream",
     "text": [
      "0.006388713269188884\n"
     ]
    },
    {
     "name": "stderr",
     "output_type": "stream",
     "text": [
      " 44%|████▍     | 44/100 [01:49<02:20,  2.50s/it]"
     ]
    },
    {
     "name": "stdout",
     "output_type": "stream",
     "text": [
      "0.004550118521365221\n"
     ]
    },
    {
     "name": "stderr",
     "output_type": "stream",
     "text": [
      " 45%|████▌     | 45/100 [01:51<02:17,  2.50s/it]"
     ]
    },
    {
     "name": "stdout",
     "output_type": "stream",
     "text": [
      "0.0032406285936303902\n"
     ]
    },
    {
     "name": "stderr",
     "output_type": "stream",
     "text": [
      " 46%|████▌     | 46/100 [01:54<02:15,  2.50s/it]"
     ]
    },
    {
     "name": "stdout",
     "output_type": "stream",
     "text": [
      "0.002307990417648398\n"
     ]
    },
    {
     "name": "stderr",
     "output_type": "stream",
     "text": [
      " 47%|████▋     | 47/100 [01:56<02:12,  2.50s/it]"
     ]
    },
    {
     "name": "stdout",
     "output_type": "stream",
     "text": [
      "0.001643756780140393\n"
     ]
    },
    {
     "name": "stderr",
     "output_type": "stream",
     "text": [
      " 48%|████▊     | 48/100 [01:59<02:10,  2.51s/it]"
     ]
    },
    {
     "name": "stdout",
     "output_type": "stream",
     "text": [
      "0.0011706857640092494\n"
     ]
    },
    {
     "name": "stderr",
     "output_type": "stream",
     "text": [
      " 49%|████▉     | 49/100 [02:02<02:08,  2.51s/it]"
     ]
    },
    {
     "name": "stdout",
     "output_type": "stream",
     "text": [
      "0.0008337629788002232\n"
     ]
    },
    {
     "name": "stderr",
     "output_type": "stream",
     "text": [
      " 50%|█████     | 50/100 [02:04<02:06,  2.53s/it]"
     ]
    },
    {
     "name": "stdout",
     "output_type": "stream",
     "text": [
      "0.0005938059493928449\n"
     ]
    },
    {
     "name": "stderr",
     "output_type": "stream",
     "text": [
      " 51%|█████     | 51/100 [02:07<02:03,  2.52s/it]"
     ]
    },
    {
     "name": "stdout",
     "output_type": "stream",
     "text": [
      "0.0004229083524478483\n"
     ]
    },
    {
     "name": "stderr",
     "output_type": "stream",
     "text": [
      " 52%|█████▏    | 52/100 [02:09<02:00,  2.52s/it]"
     ]
    },
    {
     "name": "stdout",
     "output_type": "stream",
     "text": [
      "0.00030119505663606105\n"
     ]
    },
    {
     "name": "stderr",
     "output_type": "stream",
     "text": [
      " 53%|█████▎    | 53/100 [02:12<01:57,  2.50s/it]"
     ]
    },
    {
     "name": "stdout",
     "output_type": "stream",
     "text": [
      "0.0002145108774129767\n"
     ]
    },
    {
     "name": "stderr",
     "output_type": "stream",
     "text": [
      " 54%|█████▍    | 54/100 [02:14<01:54,  2.49s/it]"
     ]
    },
    {
     "name": "stdout",
     "output_type": "stream",
     "text": [
      "0.00015277445436367998\n"
     ]
    },
    {
     "name": "stderr",
     "output_type": "stream",
     "text": [
      " 55%|█████▌    | 55/100 [02:16<01:51,  2.49s/it]"
     ]
    },
    {
     "name": "stdout",
     "output_type": "stream",
     "text": [
      "0.00010880581976380199\n"
     ]
    },
    {
     "name": "stderr",
     "output_type": "stream",
     "text": [
      " 56%|█████▌    | 56/100 [02:19<01:48,  2.48s/it]"
     ]
    },
    {
     "name": "stdout",
     "output_type": "stream",
     "text": [
      "7.749139331281185e-05\n"
     ]
    },
    {
     "name": "stderr",
     "output_type": "stream",
     "text": [
      " 57%|█████▋    | 57/100 [02:21<01:46,  2.48s/it]"
     ]
    },
    {
     "name": "stdout",
     "output_type": "stream",
     "text": [
      "5.5189291742863134e-05\n"
     ]
    },
    {
     "name": "stderr",
     "output_type": "stream",
     "text": [
      " 58%|█████▊    | 58/100 [02:24<01:44,  2.48s/it]"
     ]
    },
    {
     "name": "stdout",
     "output_type": "stream",
     "text": [
      "3.9305753489315975e-05\n"
     ]
    },
    {
     "name": "stderr",
     "output_type": "stream",
     "text": [
      " 59%|█████▉    | 59/100 [02:26<01:41,  2.48s/it]"
     ]
    },
    {
     "name": "stdout",
     "output_type": "stream",
     "text": [
      "2.7993516596325208e-05\n"
     ]
    },
    {
     "name": "stderr",
     "output_type": "stream",
     "text": [
      " 60%|██████    | 60/100 [02:29<01:39,  2.48s/it]"
     ]
    },
    {
     "name": "stdout",
     "output_type": "stream",
     "text": [
      "1.9936953322030604e-05\n"
     ]
    },
    {
     "name": "stderr",
     "output_type": "stream",
     "text": [
      " 61%|██████    | 61/100 [02:31<01:37,  2.49s/it]"
     ]
    },
    {
     "name": "stdout",
     "output_type": "stream",
     "text": [
      "1.419907493982464e-05\n"
     ]
    },
    {
     "name": "stderr",
     "output_type": "stream",
     "text": [
      " 62%|██████▏   | 62/100 [02:34<01:34,  2.50s/it]"
     ]
    },
    {
     "name": "stdout",
     "output_type": "stream",
     "text": [
      "1.0112566087627783e-05\n"
     ]
    },
    {
     "name": "stderr",
     "output_type": "stream",
     "text": [
      " 63%|██████▎   | 63/100 [02:36<01:32,  2.50s/it]"
     ]
    },
    {
     "name": "stdout",
     "output_type": "stream",
     "text": [
      "7.202158485597465e-06\n"
     ]
    },
    {
     "name": "stderr",
     "output_type": "stream",
     "text": [
      " 64%|██████▍   | 64/100 [02:39<01:30,  2.50s/it]"
     ]
    },
    {
     "name": "stdout",
     "output_type": "stream",
     "text": [
      "5.129370038048364e-06\n"
     ]
    },
    {
     "name": "stderr",
     "output_type": "stream",
     "text": [
      " 65%|██████▌   | 65/100 [02:41<01:27,  2.50s/it]"
     ]
    },
    {
     "name": "stdout",
     "output_type": "stream",
     "text": [
      "3.65313098882325e-06\n"
     ]
    },
    {
     "name": "stderr",
     "output_type": "stream",
     "text": [
      " 66%|██████▌   | 66/100 [02:44<01:25,  2.50s/it]"
     ]
    },
    {
     "name": "stdout",
     "output_type": "stream",
     "text": [
      "2.6017569325631484e-06\n"
     ]
    },
    {
     "name": "stderr",
     "output_type": "stream",
     "text": [
      " 67%|██████▋   | 67/100 [02:46<01:22,  2.50s/it]"
     ]
    },
    {
     "name": "stdout",
     "output_type": "stream",
     "text": [
      "1.852968125604093e-06\n"
     ]
    },
    {
     "name": "stderr",
     "output_type": "stream",
     "text": [
      " 68%|██████▊   | 68/100 [02:49<01:19,  2.49s/it]"
     ]
    },
    {
     "name": "stdout",
     "output_type": "stream",
     "text": [
      "1.3196813597460277e-06\n"
     ]
    },
    {
     "name": "stderr",
     "output_type": "stream",
     "text": [
      " 69%|██████▉   | 69/100 [02:51<01:17,  2.49s/it]"
     ]
    },
    {
     "name": "stdout",
     "output_type": "stream",
     "text": [
      "9.398763722856529e-07\n"
     ]
    },
    {
     "name": "stderr",
     "output_type": "stream",
     "text": [
      " 70%|███████   | 70/100 [02:54<01:14,  2.49s/it]"
     ]
    },
    {
     "name": "stdout",
     "output_type": "stream",
     "text": [
      "6.693780960631557e-07\n"
     ]
    },
    {
     "name": "stderr",
     "output_type": "stream",
     "text": [
      " 71%|███████   | 71/100 [02:56<01:12,  2.49s/it]"
     ]
    },
    {
     "name": "stdout",
     "output_type": "stream",
     "text": [
      "4.7673074732301757e-07\n"
     ]
    },
    {
     "name": "stderr",
     "output_type": "stream",
     "text": [
      " 72%|███████▏  | 72/100 [02:59<01:09,  2.49s/it]"
     ]
    },
    {
     "name": "stdout",
     "output_type": "stream",
     "text": [
      "3.3952710509765893e-07\n"
     ]
    },
    {
     "name": "stderr",
     "output_type": "stream",
     "text": [
      " 73%|███████▎  | 73/100 [03:01<01:07,  2.48s/it]"
     ]
    },
    {
     "name": "stdout",
     "output_type": "stream",
     "text": [
      "2.418109943391755e-07\n"
     ]
    },
    {
     "name": "stderr",
     "output_type": "stream",
     "text": [
      " 74%|███████▍  | 74/100 [03:04<01:04,  2.48s/it]"
     ]
    },
    {
     "name": "stdout",
     "output_type": "stream",
     "text": [
      "1.7221645975951105e-07\n"
     ]
    },
    {
     "name": "stderr",
     "output_type": "stream",
     "text": [
      " 75%|███████▌  | 75/100 [03:06<01:01,  2.47s/it]"
     ]
    },
    {
     "name": "stdout",
     "output_type": "stream",
     "text": [
      "1.226544554810971e-07\n"
     ]
    },
    {
     "name": "stderr",
     "output_type": "stream",
     "text": [
      " 76%|███████▌  | 76/100 [03:09<00:59,  2.47s/it]"
     ]
    },
    {
     "name": "stdout",
     "output_type": "stream",
     "text": [
      "8.735241863178089e-08\n"
     ]
    },
    {
     "name": "stderr",
     "output_type": "stream",
     "text": [
      " 77%|███████▋  | 77/100 [03:11<00:56,  2.47s/it]"
     ]
    },
    {
     "name": "stdout",
     "output_type": "stream",
     "text": [
      "6.221398507477716e-08\n"
     ]
    },
    {
     "name": "stderr",
     "output_type": "stream",
     "text": [
      " 78%|███████▊  | 78/100 [03:14<00:54,  2.48s/it]"
     ]
    },
    {
     "name": "stdout",
     "output_type": "stream",
     "text": [
      "4.430694389156997e-08\n"
     ]
    },
    {
     "name": "stderr",
     "output_type": "stream",
     "text": [
      " 79%|███████▉  | 79/100 [03:16<00:52,  2.48s/it]"
     ]
    },
    {
     "name": "stdout",
     "output_type": "stream",
     "text": [
      "3.155673766741529e-08\n"
     ]
    },
    {
     "name": "stderr",
     "output_type": "stream",
     "text": [
      " 80%|████████  | 80/100 [03:19<00:49,  2.49s/it]"
     ]
    },
    {
     "name": "stdout",
     "output_type": "stream",
     "text": [
      "2.247452357551083e-08\n"
     ]
    },
    {
     "name": "stderr",
     "output_type": "stream",
     "text": [
      " 81%|████████  | 81/100 [03:21<00:47,  2.50s/it]"
     ]
    },
    {
     "name": "stdout",
     "output_type": "stream",
     "text": [
      "1.6006197256501764e-08\n"
     ]
    },
    {
     "name": "stderr",
     "output_type": "stream",
     "text": [
      " 82%|████████▏ | 82/100 [03:24<00:44,  2.49s/it]"
     ]
    },
    {
     "name": "stdout",
     "output_type": "stream",
     "text": [
      "1.1399606592021883e-08\n"
     ]
    },
    {
     "name": "stderr",
     "output_type": "stream",
     "text": [
      " 83%|████████▎ | 83/100 [03:26<00:42,  2.49s/it]"
     ]
    },
    {
     "name": "stdout",
     "output_type": "stream",
     "text": [
      "8.118149708025157e-09\n"
     ]
    },
    {
     "name": "stderr",
     "output_type": "stream",
     "text": [
      " 84%|████████▍ | 84/100 [03:29<00:39,  2.48s/it]"
     ]
    },
    {
     "name": "stdout",
     "output_type": "stream",
     "text": [
      "5.782567313872278e-09\n"
     ]
    },
    {
     "name": "stderr",
     "output_type": "stream",
     "text": [
      " 85%|████████▌ | 85/100 [03:31<00:37,  2.47s/it]"
     ]
    },
    {
     "name": "stdout",
     "output_type": "stream",
     "text": [
      "4.117282514926046e-09\n"
     ]
    },
    {
     "name": "stderr",
     "output_type": "stream",
     "text": [
      " 86%|████████▌ | 86/100 [03:34<00:34,  2.48s/it]"
     ]
    },
    {
     "name": "stdout",
     "output_type": "stream",
     "text": [
      "2.9331204132176936e-09\n"
     ]
    },
    {
     "name": "stderr",
     "output_type": "stream",
     "text": [
      " 87%|████████▋ | 87/100 [03:36<00:32,  2.48s/it]"
     ]
    },
    {
     "name": "stdout",
     "output_type": "stream",
     "text": [
      "2.089109329972416e-09\n"
     ]
    },
    {
     "name": "stderr",
     "output_type": "stream",
     "text": [
      " 88%|████████▊ | 88/100 [03:39<00:29,  2.49s/it]"
     ]
    },
    {
     "name": "stdout",
     "output_type": "stream",
     "text": [
      "1.4879333321005106e-09\n"
     ]
    },
    {
     "name": "stderr",
     "output_type": "stream",
     "text": [
      " 89%|████████▉ | 89/100 [03:41<00:27,  2.48s/it]"
     ]
    },
    {
     "name": "stdout",
     "output_type": "stream",
     "text": [
      "1.0595613275654614e-09\n"
     ]
    },
    {
     "name": "stderr",
     "output_type": "stream",
     "text": [
      " 90%|█████████ | 90/100 [03:43<00:24,  2.49s/it]"
     ]
    },
    {
     "name": "stdout",
     "output_type": "stream",
     "text": [
      "7.539711077697575e-10\n"
     ]
    },
    {
     "name": "stderr",
     "output_type": "stream",
     "text": [
      " 91%|█████████ | 91/100 [03:46<00:22,  2.48s/it]"
     ]
    },
    {
     "name": "stdout",
     "output_type": "stream",
     "text": [
      "5.366018740460277e-10\n"
     ]
    },
    {
     "name": "stderr",
     "output_type": "stream",
     "text": [
      " 92%|█████████▏| 92/100 [03:48<00:19,  2.49s/it]"
     ]
    },
    {
     "name": "stdout",
     "output_type": "stream",
     "text": [
      "3.828972694464028e-10\n"
     ]
    },
    {
     "name": "stderr",
     "output_type": "stream",
     "text": [
      " 93%|█████████▎| 93/100 [03:51<00:17,  2.48s/it]"
     ]
    },
    {
     "name": "stdout",
     "output_type": "stream",
     "text": [
      "2.7284841053187847e-10\n"
     ]
    },
    {
     "name": "stderr",
     "output_type": "stream",
     "text": [
      " 94%|█████████▍| 94/100 [03:53<00:14,  2.48s/it]"
     ]
    },
    {
     "name": "stdout",
     "output_type": "stream",
     "text": [
      "1.9463186617940664e-10\n"
     ]
    },
    {
     "name": "stderr",
     "output_type": "stream",
     "text": [
      " 95%|█████████▌| 95/100 [03:56<00:12,  2.47s/it]"
     ]
    },
    {
     "name": "stdout",
     "output_type": "stream",
     "text": [
      "1.382431946694851e-10\n"
     ]
    },
    {
     "name": "stderr",
     "output_type": "stream",
     "text": [
      " 96%|█████████▌| 96/100 [03:58<00:09,  2.47s/it]"
     ]
    },
    {
     "name": "stdout",
     "output_type": "stream",
     "text": [
      "9.822542779147625e-11\n"
     ]
    },
    {
     "name": "stderr",
     "output_type": "stream",
     "text": [
      " 97%|█████████▋| 97/100 [04:01<00:07,  2.46s/it]"
     ]
    },
    {
     "name": "stdout",
     "output_type": "stream",
     "text": [
      "7.09405867382884e-11\n"
     ]
    },
    {
     "name": "stderr",
     "output_type": "stream",
     "text": [
      " 98%|█████████▊| 98/100 [04:03<00:04,  2.47s/it]"
     ]
    },
    {
     "name": "stdout",
     "output_type": "stream",
     "text": [
      "4.9112713895738125e-11\n"
     ]
    },
    {
     "name": "stderr",
     "output_type": "stream",
     "text": [
      " 99%|█████████▉| 99/100 [04:06<00:02,  2.49s/it]"
     ]
    },
    {
     "name": "stdout",
     "output_type": "stream",
     "text": [
      "3.637978807091713e-11\n"
     ]
    },
    {
     "name": "stderr",
     "output_type": "stream",
     "text": [
      "100%|██████████| 100/100 [04:08<00:00,  2.49s/it]"
     ]
    },
    {
     "name": "stdout",
     "output_type": "stream",
     "text": [
      "2.546585164964199e-11\n"
     ]
    },
    {
     "name": "stderr",
     "output_type": "stream",
     "text": [
      "\n"
     ]
    }
   ],
   "source": [
    "state_values = np.random.random(num_states) * -1000 - 1000\n",
    "best_action_idx = np.zeros_like(state_values)\n",
    "\n",
    "for i in tqdm(range(100)):\n",
    "    new_state_values = np.zeros_like(state_values, dtype=float)\n",
    "    for state_idx in range(num_states):\n",
    "        best_action_idx[state_idx], new_state_values[state_idx] = select_action(state_idx, state_values)\n",
    "    diffs = abs(state_values - new_state_values)\n",
    "    print(diffs.max())\n",
    "    state_values = new_state_values"
   ]
  },
  {
   "cell_type": "markdown",
   "metadata": {},
   "source": [
    "## State Values"
   ]
  },
  {
   "cell_type": "code",
   "execution_count": 26,
   "metadata": {},
   "outputs": [
    {
     "data": {
      "text/plain": [
       "<matplotlib.axes._subplots.AxesSubplot at 0x7f2b93cf81f0>"
      ]
     },
     "execution_count": 26,
     "metadata": {},
     "output_type": "execute_result"
    },
    {
     "data": {
      "image/png": "[encoded data removed]",
      "text/plain": [
       "<Figure size 432x288 with 1 Axes>"
      ]
     },
     "metadata": {
      "needs_background": "light"
     },
     "output_type": "display_data"
    }
   ],
   "source": [
    "#sns.barplot(list(range(num_population)),\n",
    "#            [state_values[bucket_state_index(n)] for n in range(num_population)])\n",
    "\n",
    "sns.barplot(list(range(num_states)),\n",
    "            [state_values[state_idx] for state_idx in range(num_states)])"
   ]
  },
  {
   "cell_type": "code",
   "execution_count": 27,
   "metadata": {},
   "outputs": [
    {
     "data": {
      "text/plain": [
       "dtype('float64')"
      ]
     },
     "execution_count": 27,
     "metadata": {},
     "output_type": "execute_result"
    }
   ],
   "source": [
    "state_values.dtype"
   ]
  },
  {
   "cell_type": "markdown",
   "metadata": {},
   "source": [
    "## State Actions"
   ]
  },
  {
   "cell_type": "code",
   "execution_count": 28,
   "metadata": {},
   "outputs": [
    {
     "data": {
      "text/plain": [
       "<matplotlib.axes._subplots.AxesSubplot at 0x7f2b934ea850>"
      ]
     },
     "execution_count": 28,
     "metadata": {},
     "output_type": "execute_result"
    },
    {
     "data": {
      "image/png": "[encoded data removed]",
      "text/plain": [
       "<Figure size 432x288 with 1 Axes>"
      ]
     },
     "metadata": {
      "needs_background": "light"
     },
     "output_type": "display_data"
    }
   ],
   "source": [
    "#sns.barplot(list(range(num_population)),\n",
    "#            [actions[best_action_idx[bucket_state_index(n)]] for n in range(num_population)])\n",
    "\n",
    "sns.barplot(list(range(num_states)),\n",
    "            [actions[int(best_action_idx[n])] for n in range(num_states)])"
   ]
  },
  {
   "cell_type": "code",
   "execution_count": 39,
   "metadata": {},
   "outputs": [
    {
     "data": {
      "text/plain": [
       "{0: 2.5,\n",
       " 1: 1.1,\n",
       " 2: 0.9,\n",
       " 3: 0.8,\n",
       " 4: 0.8,\n",
       " 5: 0.8,\n",
       " 6: 0.8,\n",
       " 7: 0.7,\n",
       " 8: 0.7,\n",
       " 9: 0.7,\n",
       " 10: 0.7,\n",
       " 11: 0.7,\n",
       " 12: 0.7,\n",
       " 13: 0.7,\n",
       " 14: 0.7,\n",
       " 15: 0.7,\n",
       " 16: 0.7,\n",
       " 17: 0.7,\n",
       " 18: 0.7,\n",
       " 19: 0.7,\n",
       " 20: 0.7,\n",
       " 21: 0.7,\n",
       " 22: 0.7,\n",
       " 23: 0.7,\n",
       " 24: 0.6,\n",
       " 25: 0.6,\n",
       " 26: 0.6,\n",
       " 27: 0.6,\n",
       " 28: 0.6,\n",
       " 29: 0.6,\n",
       " 30: 0.6,\n",
       " 31: 0.6,\n",
       " 32: 0.6,\n",
       " 33: 0.6,\n",
       " 34: 0.6,\n",
       " 35: 0.6,\n",
       " 36: 0.6,\n",
       " 37: 0.6,\n",
       " 38: 0.6,\n",
       " 39: 0.6,\n",
       " 40: 0.6,\n",
       " 41: 0.6,\n",
       " 42: 0.6,\n",
       " 43: 0.6,\n",
       " 44: 0.6,\n",
       " 45: 0.6,\n",
       " 46: 0.6,\n",
       " 47: 0.6,\n",
       " 48: 0.6,\n",
       " 49: 0.6,\n",
       " 50: 0.6,\n",
       " 51: 0.6,\n",
       " 52: 0.6,\n",
       " 53: 0.6,\n",
       " 54: 0.6,\n",
       " 55: 0.6,\n",
       " 56: 0.6,\n",
       " 57: 0.6,\n",
       " 58: 0.6,\n",
       " 59: 0.6,\n",
       " 60: 0.6,\n",
       " 61: 0.6,\n",
       " 62: 0.6,\n",
       " 63: 0.6,\n",
       " 64: 0.6,\n",
       " 65: 0.6,\n",
       " 66: 0.6,\n",
       " 67: 0.6,\n",
       " 68: 0.6,\n",
       " 69: 0.6,\n",
       " 70: 0.6,\n",
       " 71: 0.6,\n",
       " 72: 0.6,\n",
       " 73: 0.6,\n",
       " 74: 0.6,\n",
       " 75: 0.6,\n",
       " 76: 0.6,\n",
       " 77: 0.6,\n",
       " 78: 0.6,\n",
       " 79: 0.6,\n",
       " 80: 0.6,\n",
       " 81: 0.6,\n",
       " 82: 0.6,\n",
       " 83: 0.6,\n",
       " 84: 0.6,\n",
       " 85: 0.6,\n",
       " 86: 0.6,\n",
       " 87: 0.6,\n",
       " 88: 0.6,\n",
       " 89: 0.6,\n",
       " 90: 0.6,\n",
       " 91: 0.6,\n",
       " 92: 0.6,\n",
       " 93: 0.6,\n",
       " 94: 0.6,\n",
       " 95: 0.6,\n",
       " 96: 0.6,\n",
       " 97: 0.6,\n",
       " 98: 0.6,\n",
       " 99: 0.6,\n",
       " 100: 0.6,\n",
       " 102: 0.6,\n",
       " 104: 0.6,\n",
       " 106: 0.6,\n",
       " 108: 0.6,\n",
       " 110: 0.6,\n",
       " 112: 0.6,\n",
       " 114: 0.6,\n",
       " 116: 0.6,\n",
       " 118: 0.6,\n",
       " 120: 0.6,\n",
       " 122: 0.6,\n",
       " 124: 0.6,\n",
       " 126: 0.6,\n",
       " 128: 0.6,\n",
       " 130: 0.6,\n",
       " 132: 0.6,\n",
       " 134: 0.6,\n",
       " 136: 0.6,\n",
       " 138: 0.6,\n",
       " 140: 0.6,\n",
       " 142: 0.6,\n",
       " 144: 0.6,\n",
       " 146: 0.6,\n",
       " 148: 0.6,\n",
       " 150: 0.6,\n",
       " 152: 0.6,\n",
       " 154: 0.6,\n",
       " 156: 0.6,\n",
       " 158: 0.5,\n",
       " 160: 0.5,\n",
       " 162: 0.5,\n",
       " 164: 0.5,\n",
       " 166: 0.5,\n",
       " 168: 0.5,\n",
       " 170: 0.5,\n",
       " 172: 0.5,\n",
       " 174: 0.5,\n",
       " 176: 0.5,\n",
       " 178: 0.5,\n",
       " 180: 0.5,\n",
       " 182: 0.5,\n",
       " 184: 0.5,\n",
       " 186: 0.5,\n",
       " 188: 0.5,\n",
       " 190: 0.5,\n",
       " 192: 0.5,\n",
       " 194: 0.5,\n",
       " 196: 0.5,\n",
       " 198: 0.5,\n",
       " 200: 0.5,\n",
       " 203: 0.5,\n",
       " 206: 0.5,\n",
       " 209: 0.5,\n",
       " 212: 0.5,\n",
       " 215: 0.5,\n",
       " 218: 0.5,\n",
       " 221: 0.5,\n",
       " 224: 0.5,\n",
       " 227: 0.5,\n",
       " 230: 0.5,\n",
       " 233: 0.5,\n",
       " 236: 0.5,\n",
       " 239: 0.5,\n",
       " 242: 0.5,\n",
       " 245: 0.5,\n",
       " 248: 0.5,\n",
       " 251: 0.5,\n",
       " 254: 0.5,\n",
       " 257: 0.5,\n",
       " 260: 0.5,\n",
       " 263: 0.5,\n",
       " 266: 0.5,\n",
       " 269: 0.5,\n",
       " 272: 0.5,\n",
       " 275: 0.5,\n",
       " 278: 0.5,\n",
       " 281: 0.5,\n",
       " 284: 0.5,\n",
       " 287: 0.5,\n",
       " 290: 0.5,\n",
       " 293: 0.5,\n",
       " 296: 0.5,\n",
       " 299: 0.5,\n",
       " 300: 0.5,\n",
       " 304: 0.5,\n",
       " 308: 0.5,\n",
       " 312: 0.5,\n",
       " 316: 0.5,\n",
       " 320: 0.5,\n",
       " 324: 0.5,\n",
       " 328: 0.5,\n",
       " 332: 0.5,\n",
       " 336: 0.5,\n",
       " 340: 0.5,\n",
       " 344: 0.5,\n",
       " 348: 0.5,\n",
       " 352: 0.5,\n",
       " 356: 0.5,\n",
       " 360: 0.5,\n",
       " 364: 0.5,\n",
       " 368: 0.5,\n",
       " 372: 0.5,\n",
       " 376: 0.5,\n",
       " 380: 0.5,\n",
       " 384: 0.5,\n",
       " 388: 0.5,\n",
       " 392: 0.5,\n",
       " 396: 0.5,\n",
       " 400: 0.5,\n",
       " 405: 0.5,\n",
       " 410: 0.5,\n",
       " 415: 0.5,\n",
       " 420: 0.5,\n",
       " 425: 0.5,\n",
       " 430: 0.5,\n",
       " 435: 0.5,\n",
       " 440: 0.5,\n",
       " 445: 0.5,\n",
       " 450: 0.5,\n",
       " 455: 0.5,\n",
       " 460: 0.5,\n",
       " 465: 0.5,\n",
       " 470: 0.5,\n",
       " 475: 0.5,\n",
       " 480: 0.5,\n",
       " 485: 0.5,\n",
       " 490: 0.5,\n",
       " 495: 0.5,\n",
       " 500: 0.5,\n",
       " 506: 0.5,\n",
       " 512: 0.5,\n",
       " 518: 0.5,\n",
       " 524: 0.5,\n",
       " 530: 0.5,\n",
       " 536: 0.5,\n",
       " 542: 0.5,\n",
       " 548: 0.5,\n",
       " 554: 0.5,\n",
       " 560: 0.4,\n",
       " 566: 0.4,\n",
       " 572: 0.4,\n",
       " 578: 0.4,\n",
       " 584: 0.4,\n",
       " 590: 0.4,\n",
       " 596: 0.4,\n",
       " 600: 0.4,\n",
       " 607: 0.4,\n",
       " 614: 0.4,\n",
       " 621: 0.4,\n",
       " 628: 0.4,\n",
       " 635: 0.4,\n",
       " 642: 0.4,\n",
       " 649: 0.4,\n",
       " 656: 0.4,\n",
       " 663: 0.4,\n",
       " 670: 0.4,\n",
       " 677: 0.4,\n",
       " 684: 0.4,\n",
       " 691: 0.4,\n",
       " 698: 0.4,\n",
       " 700: 0.4,\n",
       " 708: 0.4,\n",
       " 716: 0.4,\n",
       " 724: 0.4,\n",
       " 732: 0.4,\n",
       " 740: 0.4,\n",
       " 748: 0.4,\n",
       " 756: 0.4,\n",
       " 764: 0.4,\n",
       " 772: 0.4,\n",
       " 780: 0.4,\n",
       " 788: 0.4,\n",
       " 796: 0.4,\n",
       " 800: 0.4,\n",
       " 809: 0.4,\n",
       " 818: 0.4,\n",
       " 827: 0.4,\n",
       " 836: 0.4,\n",
       " 845: 0.4,\n",
       " 854: 0.4,\n",
       " 863: 0.4,\n",
       " 872: 0.4,\n",
       " 881: 0.4,\n",
       " 890: 0.4,\n",
       " 899: 0.4,\n",
       " 900: 0.4,\n",
       " 910: 0.4,\n",
       " 920: 0.4,\n",
       " 930: 0.4,\n",
       " 940: 0.4,\n",
       " 950: 0.4,\n",
       " 960: 0.4,\n",
       " 970: 0.4,\n",
       " 980: 0.4,\n",
       " 990: 0.4,\n",
       " 1000: 0.4}"
      ]
     },
     "execution_count": 39,
     "metadata": {},
     "output_type": "execute_result"
    }
   ],
   "source": [
    "{states[i]: actions[int(idx)] for i, idx in enumerate(best_action_idx)}"
   ]
  },
  {
   "cell_type": "code",
   "execution_count": 30,
   "metadata": {},
   "outputs": [
    {
     "name": "stderr",
     "output_type": "stream",
     "text": [
      "100%|██████████| 100/100 [00:00<00:00, 1355.74it/s]\n"
     ]
    }
   ],
   "source": [
    "# Roll-Out Using Optimal Policy\n",
    "\n",
    "initial_cases = 100\n",
    "current_state_idx = bucket_state_index(initial_cases)\n",
    "total_reward = 0\n",
    "current_discount = 1\n",
    "\n",
    "action_history = []\n",
    "state_history = [current_state_idx]\n",
    "\n",
    "for i in tqdm(range(100)):\n",
    "    action_idx = int(best_action_idx[current_state_idx])\n",
    "    new_state_idx, new_reward = step(current_state_idx, action_idx)\n",
    "    total_reward += new_reward * current_discount\n",
    "    \n",
    "    current_state_idx = new_state_idx\n",
    "    current_discount *= discount\n",
    "    \n",
    "    action_history.append(actions[action_idx])\n",
    "    state_history.append(states[current_state_idx])"
   ]
  },
  {
   "cell_type": "code",
   "execution_count": 31,
   "metadata": {},
   "outputs": [
    {
     "data": {
      "text/plain": [
       "-8544.258770457232"
      ]
     },
     "execution_count": 31,
     "metadata": {},
     "output_type": "execute_result"
    }
   ],
   "source": [
    "total_reward"
   ]
  },
  {
   "cell_type": "markdown",
   "metadata": {},
   "source": [
    "## Case Counts"
   ]
  },
  {
   "cell_type": "code",
   "execution_count": 32,
   "metadata": {},
   "outputs": [
    {
     "data": {
      "text/plain": [
       "<matplotlib.axes._subplots.AxesSubplot at 0x7f2b92c5fa30>"
      ]
     },
     "execution_count": 32,
     "metadata": {},
     "output_type": "execute_result"
    },
    {
     "data": {
      "image/png": "[encoded data removed]",
      "text/plain": [
       "<Figure size 432x288 with 1 Axes>"
      ]
     },
     "metadata": {
      "needs_background": "light"
     },
     "output_type": "display_data"
    }
   ],
   "source": [
    "sns.barplot(x=list(range(len(state_history))), y=state_history)"
   ]
  },
  {
   "cell_type": "markdown",
   "metadata": {},
   "source": [
    "## R(t)"
   ]
  },
  {
   "cell_type": "code",
   "execution_count": 40,
   "metadata": {},
   "outputs": [
    {
     "data": {
      "text/plain": [
       "<matplotlib.axes._subplots.AxesSubplot at 0x7f2b9251d970>"
      ]
     },
     "execution_count": 40,
     "metadata": {},
     "output_type": "execute_result"
    },
    {
     "data": {
      "image/png": "[encoded data removed]",
      "text/plain": [
       "<Figure size 432x288 with 1 Axes>"
      ]
     },
     "metadata": {
      "needs_background": "light"
     },
     "output_type": "display_data"
    }
   ],
   "source": [
    "sns.barplot(x=list(range(len(action_history))), y=action_history)"
   ]
  },
  {
   "cell_type": "code",
   "execution_count": null,
   "metadata": {},
   "outputs": [],
   "source": []
  }
 ],
 "metadata": {
  "kernelspec": {
   "display_name": "Python 3",
   "language": "python",
   "name": "python3"
  },
  "language_info": {
   "codemirror_mode": {
    "name": "ipython",
    "version": 3
   },
   "file_extension": ".py",
   "mimetype": "text/x-python",
   "name": "python",
   "nbconvert_exporter": "python",
   "pygments_lexer": "ipython3",
   "version": "3.8.2"
  }
 },
 "nbformat": 4,
 "nbformat_minor": 4
}
