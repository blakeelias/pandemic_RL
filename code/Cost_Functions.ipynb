{
 "cells": [
  {
   "cell_type": "code",
   "execution_count": 150,
   "metadata": {},
   "outputs": [],
   "source": [
    "import numpy as np\n",
    "import seaborn as sns\n",
    "from tqdm import tqdm"
   ]
  },
  {
   "cell_type": "markdown",
   "metadata": {},
   "source": [
    "# Parameters"
   ]
  },
  {
   "cell_type": "code",
   "execution_count": 151,
   "metadata": {},
   "outputs": [],
   "source": [
    "initial_cases = 1000\n",
    "imported_cases_per_step = 2\n",
    "\n",
    "discount = 0.9\n",
    "num_population = 100000\n",
    "\n",
    "# Cost of setting R\n",
    "R_0 = 2.5\n",
    "power = 1.0\n",
    "scale_factor = 1e10\n",
    "\n",
    "# Cost of N (number of cases)\n",
    "hospital_capacity = 20000\n",
    "cost_per_hospital_visit = 50000\n",
    "cost_per_hospital_deprived_case = 500000"
   ]
  },
  {
   "cell_type": "code",
   "execution_count": 152,
   "metadata": {},
   "outputs": [],
   "source": [
    "def cost_of_r(r, power=power, scale_factor=scale_factor):\n",
    "    baseline = 1/(R_0 ** power)\n",
    "    if r >= R_0:\n",
    "        return 0\n",
    "    else:\n",
    "        return (1/(r**power) - baseline) * scale_factor"
   ]
  },
  {
   "cell_type": "code",
   "execution_count": 153,
   "metadata": {},
   "outputs": [
    {
     "data": {
      "text/plain": [
       "<matplotlib.axes._subplots.AxesSubplot at 0x7fa36010ab50>"
      ]
     },
     "execution_count": 153,
     "metadata": {},
     "output_type": "execute_result"
    },
    {
     "data": {
      "image/png": "[encoded data removed]",
      "text/plain": [
       "<Figure size 432x288 with 1 Axes>"
      ]
     },
     "metadata": {
      "needs_background": "light"
     },
     "output_type": "display_data"
    }
   ],
   "source": [
    "rs = np.arange(0.1, 3.0, 0.1)\n",
    "costs_of_r = [cost_of_r(r) for r in rs]\n",
    "sns.scatterplot(x=rs, y=costs_of_r)"
   ]
  },
  {
   "cell_type": "code",
   "execution_count": 154,
   "metadata": {},
   "outputs": [],
   "source": [
    "def cost_of_n(n, slope1=cost_per_hospital_visit, slope2=cost_per_hospital_deprived_case, capacity=hospital_capacity):\n",
    "    if n <= 0:\n",
    "        return 0\n",
    "    elif n <= capacity:\n",
    "        return n * slope1\n",
    "    else:\n",
    "        return capacity * slope1 + (n - capacity) * slope2"
   ]
  },
  {
   "cell_type": "code",
   "execution_count": 155,
   "metadata": {},
   "outputs": [
    {
     "data": {
      "text/plain": [
       "<matplotlib.axes._subplots.AxesSubplot at 0x7fa36017a6d0>"
      ]
     },
     "execution_count": 155,
     "metadata": {},
     "output_type": "execute_result"
    },
    {
     "data": {
      "image/png": "[encoded data removed]",
      "text/plain": [
       "<Figure size 432x288 with 1 Axes>"
      ]
     },
     "metadata": {
      "needs_background": "light"
     },
     "output_type": "display_data"
    }
   ],
   "source": [
    "ns = sum([list(range(100*i, 100*(i+1), i+1)) for i in range(10)], []) + \\\n",
    "     sum([list(range(1000*i, 1000*(i+1), (i+1)*10)) for i in range(1, 10)], []) + \\\n",
    "     sum([list(range(10000*i, 10000*(i+1), (i+1)*100)) for i in range(1, 10)], [])\n",
    "costs_of_n = [cost_of_n(n) for n in ns]\n",
    "sns.scatterplot(x=ns, y=costs_of_n)"
   ]
  },
  {
   "cell_type": "code",
   "execution_count": 156,
   "metadata": {},
   "outputs": [
    {
     "data": {
      "text/plain": [
       "105"
      ]
     },
     "execution_count": 156,
     "metadata": {},
     "output_type": "execute_result"
    }
   ],
   "source": [
    "np.random.default_rng().poisson(lam=100)"
   ]
  },
  {
   "cell_type": "code",
   "execution_count": 157,
   "metadata": {},
   "outputs": [],
   "source": [
    "def find_nearest(array, value):\n",
    "    array = np.asarray(array)\n",
    "    idx = (np.abs(array - value)).argmin()\n",
    "    return array[idx]"
   ]
  },
  {
   "cell_type": "code",
   "execution_count": 158,
   "metadata": {},
   "outputs": [],
   "source": [
    "def step(state, action):\n",
    "    # state: number of current cases (discretized)\n",
    "    # action: value of R_effective to set (discretized)\n",
    "    # return: new_state, reward\n",
    "    \n",
    "    r_effective = action\n",
    "    current_cases = state\n",
    "    \n",
    "    fraction_susceptible = (num_population - current_cases) / num_population\n",
    "    expected_new_cases = (current_cases * r_effective + imported_cases_per_step) * fraction_susceptible\n",
    "\n",
    "    # TODO: change to negative binomial; look up constant in literature for COVID\n",
    "    new_state = np.random.default_rng().poisson(lam=expected_new_cases)\n",
    "    reward = -cost_of_n(new_state) - cost_of_r(r_effective)\n",
    "    \n",
    "    new_state = find_nearest(ns, new_state)  # discretized case count\n",
    "    \n",
    "    return new_state, reward"
   ]
  },
  {
   "cell_type": "code",
   "execution_count": 159,
   "metadata": {},
   "outputs": [
    {
     "data": {
      "text/plain": [
       "(22400, -2166000000)"
      ]
     },
     "execution_count": 159,
     "metadata": {},
     "output_type": "execute_result"
    }
   ],
   "source": [
    "step(10000, 2.5)"
   ]
  },
  {
   "cell_type": "code",
   "execution_count": 160,
   "metadata": {},
   "outputs": [
    {
     "data": {
      "text/plain": [
       "(18000, -1902249999.9999998)"
      ]
     },
     "execution_count": 160,
     "metadata": {},
     "output_type": "execute_result"
    }
   ],
   "source": [
    "step(10000, 2.0)"
   ]
  },
  {
   "cell_type": "code",
   "execution_count": 161,
   "metadata": {},
   "outputs": [
    {
     "data": {
      "text/plain": [
       "(8990, -6448500000.0)"
      ]
     },
     "execution_count": 161,
     "metadata": {},
     "output_type": "execute_result"
    }
   ],
   "source": [
    "step(10000, 1.0)"
   ]
  },
  {
   "cell_type": "markdown",
   "metadata": {},
   "source": [
    "## Initial Conditions"
   ]
  },
  {
   "cell_type": "markdown",
   "metadata": {},
   "source": [
    "## Value Iteration"
   ]
  },
  {
   "cell_type": "code",
   "execution_count": 162,
   "metadata": {},
   "outputs": [
    {
     "name": "stderr",
     "output_type": "stream",
     "text": [
      "100%|██████████| 20/20 [00:50<00:00,  2.54s/it]\n"
     ]
    }
   ],
   "source": [
    "value_table = {n: 0 for n in ns}\n",
    "# current_state = initial_cases\n",
    "\n",
    "for i in tqdm(range(20)):\n",
    "    new_value_table = {}\n",
    "    for state in value_table:\n",
    "        rewards = {}\n",
    "        for action in rs:\n",
    "            new_state, reward = step(state, action)\n",
    "            future_reward = value_table[new_state]\n",
    "            value = reward + discount * future_reward\n",
    "            rewards[action] = value\n",
    "        argmax_reward, max_reward = max(rewards.items(), key=lambda x: x[1])\n",
    "        new_value_table[state] = max_reward\n",
    "    value_table = new_value_table"
   ]
  },
  {
   "cell_type": "code",
   "execution_count": 169,
   "metadata": {},
   "outputs": [
    {
     "data": {
      "text/plain": [
       "'-4.902375E+10'"
      ]
     },
     "execution_count": 169,
     "metadata": {},
     "output_type": "execute_result"
    }
   ],
   "source": [
    "'%E' % min(value_table.items(), key=lambda x: x[1])[1]"
   ]
  },
  {
   "cell_type": "code",
   "execution_count": 167,
   "metadata": {},
   "outputs": [
    {
     "data": {
      "text/plain": [
       "'-2.960253E+10'"
      ]
     },
     "execution_count": 167,
     "metadata": {},
     "output_type": "execute_result"
    }
   ],
   "source": [
    "'%E' % value_table[ns[-1]]"
   ]
  },
  {
   "cell_type": "code",
   "execution_count": 170,
   "metadata": {},
   "outputs": [
    {
     "data": {
      "text/plain": [
       "'-4.339226E+09'"
      ]
     },
     "execution_count": 170,
     "metadata": {},
     "output_type": "execute_result"
    }
   ],
   "source": [
    "'%E' % value_table[ns[0]]"
   ]
  },
  {
   "cell_type": "code",
   "execution_count": null,
   "metadata": {},
   "outputs": [],
   "source": []
  }
 ],
 "metadata": {
  "kernelspec": {
   "display_name": "Python 3",
   "language": "python",
   "name": "python3"
  },
  "language_info": {
   "codemirror_mode": {
    "name": "ipython",
    "version": 3
   },
   "file_extension": ".py",
   "mimetype": "text/x-python",
   "name": "python",
   "nbconvert_exporter": "python",
   "pygments_lexer": "ipython3",
   "version": "3.8.2"
  }
 },
 "nbformat": 4,
 "nbformat_minor": 4
}
